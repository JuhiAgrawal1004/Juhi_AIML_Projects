{
  "nbformat": 4,
  "nbformat_minor": 0,
  "metadata": {
    "colab": {
      "name": "TwitterSentiment.ipynb",
      "provenance": [],
      "collapsed_sections": []
    },
    "kernelspec": {
      "name": "python3",
      "display_name": "Python 3"
    },
    "language_info": {
      "name": "python"
    },
    "accelerator": "GPU"
  },
  "cells": [
    {
      "cell_type": "markdown",
      "metadata": {
        "id": "IW4s5qhkpyYD"
      },
      "source": [
        "**Import libraries**"
      ]
    },
    {
      "cell_type": "code",
      "metadata": {
        "colab": {
          "base_uri": "https://localhost:8080/"
        },
        "id": "IqVqxtkam1Ir",
        "outputId": "607d39d5-0694-4a2f-f588-533ac2e17ed3"
      },
      "source": [
        "import numpy as np\n",
        "import pandas as pd\n",
        "import matplotlib.pyplot as plt\n",
        "import seaborn as sns\n",
        "%matplotlib inline\n",
        "import re,unicodedata\n",
        "from bs4 import BeautifulSoup\n",
        "import nltk\n",
        "\n",
        "nltk.download('stopwords')\n",
        "nltk.download('punkt')\n",
        "nltk.download('wordnet')\n",
        "nltk.download('averaged_perceptron_tagger')\n",
        "\n",
        "from nltk.corpus import stopwords,wordnet\n",
        "from nltk.tokenize import word_tokenize\n",
        "from nltk.stem import PorterStemmer,WordNetLemmatizer\n",
        "\n",
        "!pip install contractions\n",
        "import contractions\n",
        "\n",
        "!pip install emoji\n",
        "import emoji\n",
        "\n",
        "!pip install demoji\n",
        "import demoji\n",
        "demoji.download_codes()\n",
        "\n",
        "import functools\n",
        "import operator\n",
        "\n",
        "from sklearn.feature_extraction.text import CountVectorizer          \n",
        "from sklearn.feature_extraction.text import TfidfVectorizer\n",
        "\n",
        "from sklearn.model_selection import train_test_split,cross_val_score\n",
        "from sklearn.preprocessing import LabelEncoder\n",
        "from sklearn.ensemble import RandomForestClassifier\n",
        "from sklearn.naive_bayes import MultinomialNB\n",
        "from sklearn.metrics import accuracy_score,classification_report,confusion_matrix"
      ],
      "execution_count": 1,
      "outputs": [
        {
          "output_type": "stream",
          "text": [
            "[nltk_data] Downloading package stopwords to /root/nltk_data...\n",
            "[nltk_data]   Unzipping corpora/stopwords.zip.\n",
            "[nltk_data] Downloading package punkt to /root/nltk_data...\n",
            "[nltk_data]   Unzipping tokenizers/punkt.zip.\n",
            "[nltk_data] Downloading package wordnet to /root/nltk_data...\n",
            "[nltk_data]   Unzipping corpora/wordnet.zip.\n",
            "[nltk_data] Downloading package averaged_perceptron_tagger to\n",
            "[nltk_data]     /root/nltk_data...\n",
            "[nltk_data]   Unzipping taggers/averaged_perceptron_tagger.zip.\n",
            "Collecting contractions\n",
            "  Downloading https://files.pythonhosted.org/packages/0a/04/d5e0bb9f2cef5d15616ebf68087a725c5dbdd71bd422bcfb35d709f98ce7/contractions-0.0.48-py2.py3-none-any.whl\n",
            "Collecting textsearch>=0.0.21\n",
            "  Downloading https://files.pythonhosted.org/packages/d3/fe/021d7d76961b5ceb9f8d022c4138461d83beff36c3938dc424586085e559/textsearch-0.0.21-py2.py3-none-any.whl\n",
            "Collecting pyahocorasick\n",
            "\u001b[?25l  Downloading https://files.pythonhosted.org/packages/7f/c2/eae730037ae1cbbfaa229d27030d1d5e34a1e41114b21447d1202ae9c220/pyahocorasick-1.4.2.tar.gz (321kB)\n",
            "\u001b[K     |████████████████████████████████| 327kB 6.2MB/s \n",
            "\u001b[?25hCollecting anyascii\n",
            "\u001b[?25l  Downloading https://files.pythonhosted.org/packages/09/c7/61370d9e3c349478e89a5554c1e5d9658e1e3116cc4f2528f568909ebdf1/anyascii-0.1.7-py3-none-any.whl (260kB)\n",
            "\u001b[K     |████████████████████████████████| 266kB 28.1MB/s \n",
            "\u001b[?25hBuilding wheels for collected packages: pyahocorasick\n",
            "  Building wheel for pyahocorasick (setup.py) ... \u001b[?25l\u001b[?25hdone\n",
            "  Created wheel for pyahocorasick: filename=pyahocorasick-1.4.2-cp37-cp37m-linux_x86_64.whl size=85388 sha256=197292b20097ad80a1985144811abaf10cc87870a9efc470b55e989f7fcc5542\n",
            "  Stored in directory: /root/.cache/pip/wheels/3a/03/34/77e3ece0bba8b86bfac88a79f923b36d805cad63caeba38842\n",
            "Successfully built pyahocorasick\n",
            "Installing collected packages: pyahocorasick, anyascii, textsearch, contractions\n",
            "Successfully installed anyascii-0.1.7 contractions-0.0.48 pyahocorasick-1.4.2 textsearch-0.0.21\n",
            "Collecting emoji\n",
            "\u001b[?25l  Downloading https://files.pythonhosted.org/packages/24/fa/b3368f41b95a286f8d300e323449ab4e86b85334c2e0b477e94422b8ed0f/emoji-1.2.0-py3-none-any.whl (131kB)\n",
            "\u001b[K     |████████████████████████████████| 133kB 4.1MB/s \n",
            "\u001b[?25hInstalling collected packages: emoji\n",
            "Successfully installed emoji-1.2.0\n",
            "Collecting demoji\n",
            "  Downloading https://files.pythonhosted.org/packages/88/6a/34379abe01c9c36fe9fddc4181dd935332e7d0159ec3fae76f712e49bcea/demoji-0.4.0-py2.py3-none-any.whl\n",
            "Requirement already satisfied: requests<3.0.0 in /usr/local/lib/python3.7/dist-packages (from demoji) (2.23.0)\n",
            "Collecting colorama\n",
            "  Downloading https://files.pythonhosted.org/packages/44/98/5b86278fbbf250d239ae0ecb724f8572af1c91f4a11edf4d36a206189440/colorama-0.4.4-py2.py3-none-any.whl\n",
            "Requirement already satisfied: idna<3,>=2.5 in /usr/local/lib/python3.7/dist-packages (from requests<3.0.0->demoji) (2.10)\n",
            "Requirement already satisfied: certifi>=2017.4.17 in /usr/local/lib/python3.7/dist-packages (from requests<3.0.0->demoji) (2020.12.5)\n",
            "Requirement already satisfied: chardet<4,>=3.0.2 in /usr/local/lib/python3.7/dist-packages (from requests<3.0.0->demoji) (3.0.4)\n",
            "Requirement already satisfied: urllib3!=1.25.0,!=1.25.1,<1.26,>=1.21.1 in /usr/local/lib/python3.7/dist-packages (from requests<3.0.0->demoji) (1.24.3)\n",
            "Installing collected packages: colorama, demoji\n",
            "Successfully installed colorama-0.4.4 demoji-0.4.0\n",
            "Downloading emoji data ...\n",
            "... OK (Got response in 0.53 seconds)\n",
            "Writing emoji data to /root/.demoji/codes.json ...\n",
            "... OK\n"
          ],
          "name": "stdout"
        }
      ]
    },
    {
      "cell_type": "code",
      "metadata": {
        "colab": {
          "base_uri": "https://localhost:8080/"
        },
        "id": "lrEVcUhXqFFl",
        "outputId": "b7fd73c2-d2b5-4e37-8bf9-6beb96a47281"
      },
      "source": [
        "from google.colab import drive\n",
        "drive.mount('/content/drive')"
      ],
      "execution_count": 2,
      "outputs": [
        {
          "output_type": "stream",
          "text": [
            "Mounted at /content/drive\n"
          ],
          "name": "stdout"
        }
      ]
    },
    {
      "cell_type": "markdown",
      "metadata": {
        "id": "bm7iCC6IrMFE"
      },
      "source": [
        "**Load dataset**"
      ]
    },
    {
      "cell_type": "code",
      "metadata": {
        "id": "OBABakxoq6yk"
      },
      "source": [
        "tweets_data = pd.read_csv('/content/drive/MyDrive/ML_colab/Tweets.csv')"
      ],
      "execution_count": 3,
      "outputs": []
    },
    {
      "cell_type": "markdown",
      "metadata": {
        "id": "la0yDYqzrPp2"
      },
      "source": [
        "**Print the shape**"
      ]
    },
    {
      "cell_type": "code",
      "metadata": {
        "colab": {
          "base_uri": "https://localhost:8080/"
        },
        "id": "UBh_pVNgqQ2V",
        "outputId": "e3bc1839-7952-4553-cce2-064b7baa7231"
      },
      "source": [
        "tweets_data.shape"
      ],
      "execution_count": 4,
      "outputs": [
        {
          "output_type": "execute_result",
          "data": {
            "text/plain": [
              "(14640, 15)"
            ]
          },
          "metadata": {
            "tags": []
          },
          "execution_count": 4
        }
      ]
    },
    {
      "cell_type": "markdown",
      "metadata": {
        "id": "DGBzYZZ7rVM0"
      },
      "source": [
        "There are 14640 rows and 15 columns."
      ]
    },
    {
      "cell_type": "code",
      "metadata": {
        "colab": {
          "base_uri": "https://localhost:8080/"
        },
        "id": "1yf9xAupjqTt",
        "outputId": "8a88d1a4-b0fe-4019-dce2-27ad55739b0e"
      },
      "source": [
        "tweets_data.info()"
      ],
      "execution_count": 5,
      "outputs": [
        {
          "output_type": "stream",
          "text": [
            "<class 'pandas.core.frame.DataFrame'>\n",
            "RangeIndex: 14640 entries, 0 to 14639\n",
            "Data columns (total 15 columns):\n",
            " #   Column                        Non-Null Count  Dtype  \n",
            "---  ------                        --------------  -----  \n",
            " 0   tweet_id                      14640 non-null  int64  \n",
            " 1   airline_sentiment             14640 non-null  object \n",
            " 2   airline_sentiment_confidence  14640 non-null  float64\n",
            " 3   negativereason                9178 non-null   object \n",
            " 4   negativereason_confidence     10522 non-null  float64\n",
            " 5   airline                       14640 non-null  object \n",
            " 6   airline_sentiment_gold        40 non-null     object \n",
            " 7   name                          14640 non-null  object \n",
            " 8   negativereason_gold           32 non-null     object \n",
            " 9   retweet_count                 14640 non-null  int64  \n",
            " 10  text                          14640 non-null  object \n",
            " 11  tweet_coord                   1019 non-null   object \n",
            " 12  tweet_created                 14640 non-null  object \n",
            " 13  tweet_location                9907 non-null   object \n",
            " 14  user_timezone                 9820 non-null   object \n",
            "dtypes: float64(2), int64(2), object(11)\n",
            "memory usage: 1.7+ MB\n"
          ],
          "name": "stdout"
        }
      ]
    },
    {
      "cell_type": "markdown",
      "metadata": {
        "id": "gRqOlZ6xj5-P"
      },
      "source": [
        "There are some null values in negativereason, negativereason_confidence, airline_sentiment_gold, negativereason_gold, tweet_coord, tweet_location, user_timezone."
      ]
    },
    {
      "cell_type": "code",
      "metadata": {
        "colab": {
          "base_uri": "https://localhost:8080/",
          "height": 861
        },
        "id": "49e0ubeArUN8",
        "outputId": "c8bff417-906e-4717-87ae-49839198bde6"
      },
      "source": [
        "tweets_data.head(10)"
      ],
      "execution_count": 6,
      "outputs": [
        {
          "output_type": "execute_result",
          "data": {
            "text/html": [
              "<div>\n",
              "<style scoped>\n",
              "    .dataframe tbody tr th:only-of-type {\n",
              "        vertical-align: middle;\n",
              "    }\n",
              "\n",
              "    .dataframe tbody tr th {\n",
              "        vertical-align: top;\n",
              "    }\n",
              "\n",
              "    .dataframe thead th {\n",
              "        text-align: right;\n",
              "    }\n",
              "</style>\n",
              "<table border=\"1\" class=\"dataframe\">\n",
              "  <thead>\n",
              "    <tr style=\"text-align: right;\">\n",
              "      <th></th>\n",
              "      <th>tweet_id</th>\n",
              "      <th>airline_sentiment</th>\n",
              "      <th>airline_sentiment_confidence</th>\n",
              "      <th>negativereason</th>\n",
              "      <th>negativereason_confidence</th>\n",
              "      <th>airline</th>\n",
              "      <th>airline_sentiment_gold</th>\n",
              "      <th>name</th>\n",
              "      <th>negativereason_gold</th>\n",
              "      <th>retweet_count</th>\n",
              "      <th>text</th>\n",
              "      <th>tweet_coord</th>\n",
              "      <th>tweet_created</th>\n",
              "      <th>tweet_location</th>\n",
              "      <th>user_timezone</th>\n",
              "    </tr>\n",
              "  </thead>\n",
              "  <tbody>\n",
              "    <tr>\n",
              "      <th>0</th>\n",
              "      <td>570306133677760513</td>\n",
              "      <td>neutral</td>\n",
              "      <td>1.0000</td>\n",
              "      <td>NaN</td>\n",
              "      <td>NaN</td>\n",
              "      <td>Virgin America</td>\n",
              "      <td>NaN</td>\n",
              "      <td>cairdin</td>\n",
              "      <td>NaN</td>\n",
              "      <td>0</td>\n",
              "      <td>@VirginAmerica What @dhepburn said.</td>\n",
              "      <td>NaN</td>\n",
              "      <td>2015-02-24 11:35:52 -0800</td>\n",
              "      <td>NaN</td>\n",
              "      <td>Eastern Time (US &amp; Canada)</td>\n",
              "    </tr>\n",
              "    <tr>\n",
              "      <th>1</th>\n",
              "      <td>570301130888122368</td>\n",
              "      <td>positive</td>\n",
              "      <td>0.3486</td>\n",
              "      <td>NaN</td>\n",
              "      <td>0.0000</td>\n",
              "      <td>Virgin America</td>\n",
              "      <td>NaN</td>\n",
              "      <td>jnardino</td>\n",
              "      <td>NaN</td>\n",
              "      <td>0</td>\n",
              "      <td>@VirginAmerica plus you've added commercials t...</td>\n",
              "      <td>NaN</td>\n",
              "      <td>2015-02-24 11:15:59 -0800</td>\n",
              "      <td>NaN</td>\n",
              "      <td>Pacific Time (US &amp; Canada)</td>\n",
              "    </tr>\n",
              "    <tr>\n",
              "      <th>2</th>\n",
              "      <td>570301083672813571</td>\n",
              "      <td>neutral</td>\n",
              "      <td>0.6837</td>\n",
              "      <td>NaN</td>\n",
              "      <td>NaN</td>\n",
              "      <td>Virgin America</td>\n",
              "      <td>NaN</td>\n",
              "      <td>yvonnalynn</td>\n",
              "      <td>NaN</td>\n",
              "      <td>0</td>\n",
              "      <td>@VirginAmerica I didn't today... Must mean I n...</td>\n",
              "      <td>NaN</td>\n",
              "      <td>2015-02-24 11:15:48 -0800</td>\n",
              "      <td>Lets Play</td>\n",
              "      <td>Central Time (US &amp; Canada)</td>\n",
              "    </tr>\n",
              "    <tr>\n",
              "      <th>3</th>\n",
              "      <td>570301031407624196</td>\n",
              "      <td>negative</td>\n",
              "      <td>1.0000</td>\n",
              "      <td>Bad Flight</td>\n",
              "      <td>0.7033</td>\n",
              "      <td>Virgin America</td>\n",
              "      <td>NaN</td>\n",
              "      <td>jnardino</td>\n",
              "      <td>NaN</td>\n",
              "      <td>0</td>\n",
              "      <td>@VirginAmerica it's really aggressive to blast...</td>\n",
              "      <td>NaN</td>\n",
              "      <td>2015-02-24 11:15:36 -0800</td>\n",
              "      <td>NaN</td>\n",
              "      <td>Pacific Time (US &amp; Canada)</td>\n",
              "    </tr>\n",
              "    <tr>\n",
              "      <th>4</th>\n",
              "      <td>570300817074462722</td>\n",
              "      <td>negative</td>\n",
              "      <td>1.0000</td>\n",
              "      <td>Can't Tell</td>\n",
              "      <td>1.0000</td>\n",
              "      <td>Virgin America</td>\n",
              "      <td>NaN</td>\n",
              "      <td>jnardino</td>\n",
              "      <td>NaN</td>\n",
              "      <td>0</td>\n",
              "      <td>@VirginAmerica and it's a really big bad thing...</td>\n",
              "      <td>NaN</td>\n",
              "      <td>2015-02-24 11:14:45 -0800</td>\n",
              "      <td>NaN</td>\n",
              "      <td>Pacific Time (US &amp; Canada)</td>\n",
              "    </tr>\n",
              "    <tr>\n",
              "      <th>5</th>\n",
              "      <td>570300767074181121</td>\n",
              "      <td>negative</td>\n",
              "      <td>1.0000</td>\n",
              "      <td>Can't Tell</td>\n",
              "      <td>0.6842</td>\n",
              "      <td>Virgin America</td>\n",
              "      <td>NaN</td>\n",
              "      <td>jnardino</td>\n",
              "      <td>NaN</td>\n",
              "      <td>0</td>\n",
              "      <td>@VirginAmerica seriously would pay $30 a fligh...</td>\n",
              "      <td>NaN</td>\n",
              "      <td>2015-02-24 11:14:33 -0800</td>\n",
              "      <td>NaN</td>\n",
              "      <td>Pacific Time (US &amp; Canada)</td>\n",
              "    </tr>\n",
              "    <tr>\n",
              "      <th>6</th>\n",
              "      <td>570300616901320704</td>\n",
              "      <td>positive</td>\n",
              "      <td>0.6745</td>\n",
              "      <td>NaN</td>\n",
              "      <td>0.0000</td>\n",
              "      <td>Virgin America</td>\n",
              "      <td>NaN</td>\n",
              "      <td>cjmcginnis</td>\n",
              "      <td>NaN</td>\n",
              "      <td>0</td>\n",
              "      <td>@VirginAmerica yes, nearly every time I fly VX...</td>\n",
              "      <td>NaN</td>\n",
              "      <td>2015-02-24 11:13:57 -0800</td>\n",
              "      <td>San Francisco CA</td>\n",
              "      <td>Pacific Time (US &amp; Canada)</td>\n",
              "    </tr>\n",
              "    <tr>\n",
              "      <th>7</th>\n",
              "      <td>570300248553349120</td>\n",
              "      <td>neutral</td>\n",
              "      <td>0.6340</td>\n",
              "      <td>NaN</td>\n",
              "      <td>NaN</td>\n",
              "      <td>Virgin America</td>\n",
              "      <td>NaN</td>\n",
              "      <td>pilot</td>\n",
              "      <td>NaN</td>\n",
              "      <td>0</td>\n",
              "      <td>@VirginAmerica Really missed a prime opportuni...</td>\n",
              "      <td>NaN</td>\n",
              "      <td>2015-02-24 11:12:29 -0800</td>\n",
              "      <td>Los Angeles</td>\n",
              "      <td>Pacific Time (US &amp; Canada)</td>\n",
              "    </tr>\n",
              "    <tr>\n",
              "      <th>8</th>\n",
              "      <td>570299953286942721</td>\n",
              "      <td>positive</td>\n",
              "      <td>0.6559</td>\n",
              "      <td>NaN</td>\n",
              "      <td>NaN</td>\n",
              "      <td>Virgin America</td>\n",
              "      <td>NaN</td>\n",
              "      <td>dhepburn</td>\n",
              "      <td>NaN</td>\n",
              "      <td>0</td>\n",
              "      <td>@virginamerica Well, I didn't…but NOW I DO! :-D</td>\n",
              "      <td>NaN</td>\n",
              "      <td>2015-02-24 11:11:19 -0800</td>\n",
              "      <td>San Diego</td>\n",
              "      <td>Pacific Time (US &amp; Canada)</td>\n",
              "    </tr>\n",
              "    <tr>\n",
              "      <th>9</th>\n",
              "      <td>570295459631263746</td>\n",
              "      <td>positive</td>\n",
              "      <td>1.0000</td>\n",
              "      <td>NaN</td>\n",
              "      <td>NaN</td>\n",
              "      <td>Virgin America</td>\n",
              "      <td>NaN</td>\n",
              "      <td>YupitsTate</td>\n",
              "      <td>NaN</td>\n",
              "      <td>0</td>\n",
              "      <td>@VirginAmerica it was amazing, and arrived an ...</td>\n",
              "      <td>NaN</td>\n",
              "      <td>2015-02-24 10:53:27 -0800</td>\n",
              "      <td>Los Angeles</td>\n",
              "      <td>Eastern Time (US &amp; Canada)</td>\n",
              "    </tr>\n",
              "  </tbody>\n",
              "</table>\n",
              "</div>"
            ],
            "text/plain": [
              "             tweet_id  ...               user_timezone\n",
              "0  570306133677760513  ...  Eastern Time (US & Canada)\n",
              "1  570301130888122368  ...  Pacific Time (US & Canada)\n",
              "2  570301083672813571  ...  Central Time (US & Canada)\n",
              "3  570301031407624196  ...  Pacific Time (US & Canada)\n",
              "4  570300817074462722  ...  Pacific Time (US & Canada)\n",
              "5  570300767074181121  ...  Pacific Time (US & Canada)\n",
              "6  570300616901320704  ...  Pacific Time (US & Canada)\n",
              "7  570300248553349120  ...  Pacific Time (US & Canada)\n",
              "8  570299953286942721  ...  Pacific Time (US & Canada)\n",
              "9  570295459631263746  ...  Eastern Time (US & Canada)\n",
              "\n",
              "[10 rows x 15 columns]"
            ]
          },
          "metadata": {
            "tags": []
          },
          "execution_count": 6
        }
      ]
    },
    {
      "cell_type": "code",
      "metadata": {
        "colab": {
          "base_uri": "https://localhost:8080/"
        },
        "id": "OqL7_-90sWge",
        "outputId": "b9c56ca2-4dac-4e34-9a80-d9a019c6e31c"
      },
      "source": [
        "tweets_data.columns"
      ],
      "execution_count": 7,
      "outputs": [
        {
          "output_type": "execute_result",
          "data": {
            "text/plain": [
              "Index(['tweet_id', 'airline_sentiment', 'airline_sentiment_confidence',\n",
              "       'negativereason', 'negativereason_confidence', 'airline',\n",
              "       'airline_sentiment_gold', 'name', 'negativereason_gold',\n",
              "       'retweet_count', 'text', 'tweet_coord', 'tweet_created',\n",
              "       'tweet_location', 'user_timezone'],\n",
              "      dtype='object')"
            ]
          },
          "metadata": {
            "tags": []
          },
          "execution_count": 7
        }
      ]
    },
    {
      "cell_type": "code",
      "metadata": {
        "colab": {
          "base_uri": "https://localhost:8080/"
        },
        "id": "zo9iih42JFRe",
        "outputId": "69a5f00b-c248-4c50-aaac-ca4768405e10"
      },
      "source": [
        "tweets_data['airline'].value_counts()"
      ],
      "execution_count": 8,
      "outputs": [
        {
          "output_type": "execute_result",
          "data": {
            "text/plain": [
              "United            3822\n",
              "US Airways        2913\n",
              "American          2759\n",
              "Southwest         2420\n",
              "Delta             2222\n",
              "Virgin America     504\n",
              "Name: airline, dtype: int64"
            ]
          },
          "metadata": {
            "tags": []
          },
          "execution_count": 8
        }
      ]
    },
    {
      "cell_type": "markdown",
      "metadata": {
        "id": "FPrFe-yoJo-k"
      },
      "source": [
        "This dataset contains tweets for 6 American airlines.Most of the tweets are for Unites airlines followed by US Airways,American,Southwest,Delta,Virgin America."
      ]
    },
    {
      "cell_type": "code",
      "metadata": {
        "colab": {
          "base_uri": "https://localhost:8080/",
          "height": 388
        },
        "id": "wiRCFEOoya1h",
        "outputId": "32e52af9-a783-4b7b-f94a-a8521cf0b0d4"
      },
      "source": [
        "plt.figure(figsize=(10,6))\n",
        "sns.countplot(x=tweets_data['airline'],hue=tweets_data['airline_sentiment']);"
      ],
      "execution_count": 9,
      "outputs": [
        {
          "output_type": "display_data",
          "data": {
            "image/png": "[encoded data removed]",
            "text/plain": [
              "<Figure size 720x432 with 1 Axes>"
            ]
          },
          "metadata": {
            "tags": [],
            "needs_background": "light"
          }
        }
      ]
    },
    {
      "cell_type": "markdown",
      "metadata": {
        "id": "_dzIIilOzoPh"
      },
      "source": [
        "Most of the negative tweets are for United airlines followed by US Airways,American,Southwest,Delta,Virgin America."
      ]
    },
    {
      "cell_type": "markdown",
      "metadata": {
        "id": "cBaHwSst0Rzk"
      },
      "source": [
        "We are interested in text and airline_sentiment columns for analysis so let's drop other columns."
      ]
    },
    {
      "cell_type": "markdown",
      "metadata": {
        "id": "0Y6RuuZvz8cm"
      },
      "source": [
        "**Drop the columns**"
      ]
    },
    {
      "cell_type": "code",
      "metadata": {
        "id": "8i_t5x-ordKp"
      },
      "source": [
        "tweets_copy = tweets_data.copy()\n",
        "columns = ['tweet_id','airline_sentiment_confidence','negativereason','negativereason_confidence',\n",
        "           'airline','airline_sentiment_gold','name','negativereason_gold','retweet_count',\n",
        "           'tweet_coord','tweet_created','tweet_location','user_timezone']\n",
        "tweets_copy.drop(columns=columns,axis=1,inplace=True)"
      ],
      "execution_count": 9,
      "outputs": []
    },
    {
      "cell_type": "code",
      "metadata": {
        "colab": {
          "base_uri": "https://localhost:8080/"
        },
        "id": "D5-DzdsRsK2k",
        "outputId": "6a2fc7c4-fe15-4316-c4ca-3b510d04e5e2"
      },
      "source": [
        "tweets_copy.shape"
      ],
      "execution_count": 10,
      "outputs": [
        {
          "output_type": "execute_result",
          "data": {
            "text/plain": [
              "(14640, 2)"
            ]
          },
          "metadata": {
            "tags": []
          },
          "execution_count": 10
        }
      ]
    },
    {
      "cell_type": "code",
      "metadata": {
        "colab": {
          "base_uri": "https://localhost:8080/",
          "height": 219
        },
        "id": "v20Gvon7tDkR",
        "outputId": "c3f6d3c9-2b39-4b49-f3ad-2aaf324b6990"
      },
      "source": [
        "pd.set_option('display.max_colwidth', None)\n",
        "tweets_copy.head()"
      ],
      "execution_count": 11,
      "outputs": [
        {
          "output_type": "execute_result",
          "data": {
            "text/html": [
              "<div>\n",
              "<style scoped>\n",
              "    .dataframe tbody tr th:only-of-type {\n",
              "        vertical-align: middle;\n",
              "    }\n",
              "\n",
              "    .dataframe tbody tr th {\n",
              "        vertical-align: top;\n",
              "    }\n",
              "\n",
              "    .dataframe thead th {\n",
              "        text-align: right;\n",
              "    }\n",
              "</style>\n",
              "<table border=\"1\" class=\"dataframe\">\n",
              "  <thead>\n",
              "    <tr style=\"text-align: right;\">\n",
              "      <th></th>\n",
              "      <th>airline_sentiment</th>\n",
              "      <th>text</th>\n",
              "    </tr>\n",
              "  </thead>\n",
              "  <tbody>\n",
              "    <tr>\n",
              "      <th>0</th>\n",
              "      <td>neutral</td>\n",
              "      <td>@VirginAmerica What @dhepburn said.</td>\n",
              "    </tr>\n",
              "    <tr>\n",
              "      <th>1</th>\n",
              "      <td>positive</td>\n",
              "      <td>@VirginAmerica plus you've added commercials to the experience... tacky.</td>\n",
              "    </tr>\n",
              "    <tr>\n",
              "      <th>2</th>\n",
              "      <td>neutral</td>\n",
              "      <td>@VirginAmerica I didn't today... Must mean I need to take another trip!</td>\n",
              "    </tr>\n",
              "    <tr>\n",
              "      <th>3</th>\n",
              "      <td>negative</td>\n",
              "      <td>@VirginAmerica it's really aggressive to blast obnoxious \"entertainment\" in your guests' faces &amp;amp; they have little recourse</td>\n",
              "    </tr>\n",
              "    <tr>\n",
              "      <th>4</th>\n",
              "      <td>negative</td>\n",
              "      <td>@VirginAmerica and it's a really big bad thing about it</td>\n",
              "    </tr>\n",
              "  </tbody>\n",
              "</table>\n",
              "</div>"
            ],
            "text/plain": [
              "  airline_sentiment                                                                                                                            text\n",
              "0           neutral                                                                                             @VirginAmerica What @dhepburn said.\n",
              "1          positive                                                        @VirginAmerica plus you've added commercials to the experience... tacky.\n",
              "2           neutral                                                         @VirginAmerica I didn't today... Must mean I need to take another trip!\n",
              "3          negative  @VirginAmerica it's really aggressive to blast obnoxious \"entertainment\" in your guests' faces &amp; they have little recourse\n",
              "4          negative                                                                         @VirginAmerica and it's a really big bad thing about it"
            ]
          },
          "metadata": {
            "tags": []
          },
          "execution_count": 11
        }
      ]
    },
    {
      "cell_type": "code",
      "metadata": {
        "colab": {
          "base_uri": "https://localhost:8080/"
        },
        "id": "-reeEekKtKmK",
        "outputId": "0e81aa11-844c-498f-fdfd-ae19153c8d9d"
      },
      "source": [
        "tweets_copy['airline_sentiment'].value_counts()"
      ],
      "execution_count": 13,
      "outputs": [
        {
          "output_type": "execute_result",
          "data": {
            "text/plain": [
              "negative    9178\n",
              "neutral     3099\n",
              "positive    2363\n",
              "Name: airline_sentiment, dtype: int64"
            ]
          },
          "metadata": {
            "tags": []
          },
          "execution_count": 13
        }
      ]
    },
    {
      "cell_type": "markdown",
      "metadata": {
        "id": "dqt35j2atcOg"
      },
      "source": [
        "There are 3 types of tweets here.Most of them are negative."
      ]
    },
    {
      "cell_type": "markdown",
      "metadata": {
        "id": "M4Gma0xmmtH9"
      },
      "source": [
        "1. There are some URL present in dataset.\n",
        "2. There is no HTML tag in dataset.\n",
        "3. Numbers are present.\n",
        "4. Punctuations are present.\n",
        "5. Special characters(emoticons,emojis) are present."
      ]
    },
    {
      "cell_type": "code",
      "metadata": {
        "id": "HPemdmLJkVTV"
      },
      "source": [
        "X_features = tweets_copy['text']\n",
        "y = tweets_copy['airline_sentiment']"
      ],
      "execution_count": 14,
      "outputs": []
    },
    {
      "cell_type": "markdown",
      "metadata": {
        "id": "WkXsDRtPM3ZV"
      },
      "source": [
        "**HTML Tag removal**"
      ]
    },
    {
      "cell_type": "code",
      "metadata": {
        "id": "I9MMipG8tXI2"
      },
      "source": [
        "def remove_html_tags(text):\n",
        "  text_new = BeautifulSoup(text,'html.parser')\n",
        "  final_text = text_new.get_text()\n",
        "  return final_text\n"
      ],
      "execution_count": 15,
      "outputs": []
    },
    {
      "cell_type": "markdown",
      "metadata": {
        "id": "ESCqUiXcp_gQ"
      },
      "source": [
        "**http link removal**"
      ]
    },
    {
      "cell_type": "code",
      "metadata": {
        "id": "ENiVIM8GqC2W"
      },
      "source": [
        "def remove_links(text):\n",
        "  new_text = re.sub(r'http\\S+', ' ',text)\n",
        "  return new_text"
      ],
      "execution_count": 16,
      "outputs": []
    },
    {
      "cell_type": "markdown",
      "metadata": {
        "id": "ry9wACc3JjKO"
      },
      "source": [
        "**Remove mentions**"
      ]
    },
    {
      "cell_type": "code",
      "metadata": {
        "id": "SlPXAO9CJmv1"
      },
      "source": [
        "def remove_mentions(text):\n",
        "  new_text = re.sub(r'(@[A-Za-z0-9]+)','', text)\n",
        "  return new_text"
      ],
      "execution_count": 17,
      "outputs": []
    },
    {
      "cell_type": "markdown",
      "metadata": {
        "id": "AtwYiDI6dUWG"
      },
      "source": [
        "**Replace contractions**"
      ]
    },
    {
      "cell_type": "code",
      "metadata": {
        "id": "2EtwgsCKdX84"
      },
      "source": [
        "def replace_contractions(text):\n",
        "    return contractions.fix(text)"
      ],
      "execution_count": 18,
      "outputs": []
    },
    {
      "cell_type": "markdown",
      "metadata": {
        "id": "GVnc5S2pPccn"
      },
      "source": [
        "**Tokenization**"
      ]
    },
    {
      "cell_type": "code",
      "metadata": {
        "id": "IaIOm84rPijC"
      },
      "source": [
        "def text_tokenize(text):\n",
        "  tokens = word_tokenize(text)\n",
        "  tokens = [token.strip() for token in tokens]\n",
        "  return tokens"
      ],
      "execution_count": 19,
      "outputs": []
    },
    {
      "cell_type": "markdown",
      "metadata": {
        "id": "uJ1Nmp87Ype9"
      },
      "source": [
        "**Remove numbers and punctuations**"
      ]
    },
    {
      "cell_type": "code",
      "metadata": {
        "id": "rcqsrY36YszJ"
      },
      "source": [
        "def remove_numbers(text): #this will remove numbers (1,2,3 etc. and also 1st,2nd,3rd,24th )\n",
        "  pattern = \"\\\\d+[a-zA-Z][a-zA-Z]''|\\d+\"; \n",
        "  new_text = re.sub(pattern,'',text) #re.sub(r'[^a-zA-Z]',' ',text)\n",
        "  return new_text"
      ],
      "execution_count": 20,
      "outputs": []
    },
    {
      "cell_type": "code",
      "metadata": {
        "id": "fl4FyZ2kbZv_"
      },
      "source": [
        "def remove_punctuation(words):\n",
        "    new_words = []\n",
        "    for word in words:\n",
        "        new_word = re.sub(r'[^\\w\\s]', '', word)\n",
        "        if new_word != '':\n",
        "            new_words.append(new_word)\n",
        "    return new_words"
      ],
      "execution_count": 21,
      "outputs": []
    },
    {
      "cell_type": "markdown",
      "metadata": {
        "id": "Wl--SFqpZvxv"
      },
      "source": [
        "**Remove special characters**"
      ]
    },
    {
      "cell_type": "code",
      "metadata": {
        "id": "r2Wi-YlQZ3R2"
      },
      "source": [
        "def remove_special_characters(text):\n",
        "   new_word = unicodedata.normalize('NFKD', text).encode('ascii', 'ignore').decode('utf-8', 'ignore')       \n",
        "   return new_word\n"
      ],
      "execution_count": 22,
      "outputs": []
    },
    {
      "cell_type": "markdown",
      "metadata": {
        "id": "WH7RSdy2bgXr"
      },
      "source": [
        "**Convert to lower case**"
      ]
    },
    {
      "cell_type": "code",
      "metadata": {
        "id": "LoB9PtxsbKVn"
      },
      "source": [
        "def convert_to_lower(text):\n",
        "   lower_text = text.lower()        \n",
        "   return lower_text"
      ],
      "execution_count": 23,
      "outputs": []
    },
    {
      "cell_type": "markdown",
      "metadata": {
        "id": "MFPhQdwldc-R"
      },
      "source": [
        "**Lemmatization**"
      ]
    },
    {
      "cell_type": "code",
      "metadata": {
        "id": "fvBFyuWD7IiS"
      },
      "source": [
        "#def get_wordnet_pos(word):\n",
        "#    tag = nltk.pos_tag([word])[0][1][0].upper()\n",
        "#    tag_dict = {\"J\": wordnet.ADJ,\n",
        "#                \"N\": wordnet.NOUN,\n",
        "#                \"V\": wordnet.VERB,\n",
        "#                \"R\": wordnet.ADV}\n",
        "\n",
        "#    return tag_dict.get(tag, wordnet.NOUN)"
      ],
      "execution_count": 24,
      "outputs": []
    },
    {
      "cell_type": "code",
      "metadata": {
        "id": "-b8zpgcYdjKO"
      },
      "source": [
        "#def apply_lemmatization(words):\n",
        "#    lemmatizer = WordNetLemmatizer()\n",
        "#    lemmas = []                           \n",
        "#    for word in words:\n",
        "#      if len(word) != 0:\n",
        "#        lemma = lemmatizer.lemmatize(word, get_wordnet_pos(word))\n",
        "#        lemmas.append(lemma)  \n",
        "#    final_text = ' '.join(lemmas)                 \n",
        "#    return final_text"
      ],
      "execution_count": 25,
      "outputs": []
    },
    {
      "cell_type": "code",
      "metadata": {
        "id": "ae7Btqw4XMue"
      },
      "source": [
        "import spacy\n",
        "nlp = spacy.load('en_core_web_sm')"
      ],
      "execution_count": 24,
      "outputs": []
    },
    {
      "cell_type": "code",
      "metadata": {
        "id": "ibKSi2z4XI2i"
      },
      "source": [
        "def lemmatize_text(words):\n",
        "    words = nlp(words)\n",
        "    final_text = words                           \n",
        "    for word in words:\n",
        "      final_text = ' '.join([word.lemma_ if word.lemma_ != '-PRON-' else word.text for word in words])\n",
        "    return final_text"
      ],
      "execution_count": 25,
      "outputs": []
    },
    {
      "cell_type": "code",
      "metadata": {
        "id": "de31CdPuhbQa"
      },
      "source": [
        "stopword_list = stopwords.words('english')\n",
        "stopword_list.remove('not')\n",
        "stopword_list.remove('no')\n",
        "stopword_list.remove('too')\n",
        "stopword_list.append('us')\n",
        "stopword_list.append('w/')\n",
        "stopword_list.append('r')\n",
        "stopword_list.append('u')\n",
        "stopword_list.append('abt')\n",
        "stopword_list.append('b/c')\n",
        "stopword_list.append('yr')"
      ],
      "execution_count": 26,
      "outputs": []
    },
    {
      "cell_type": "code",
      "metadata": {
        "id": "Pe66J5zi1s5L"
      },
      "source": [
        "#stopword_list"
      ],
      "execution_count": 29,
      "outputs": []
    },
    {
      "cell_type": "code",
      "metadata": {
        "id": "4wczq-xZd4Uw"
      },
      "source": [
        "def remove_stopwords(words):\n",
        "    new_words = []                       \n",
        "    for word in words:\n",
        "        if word not in stopword_list:\n",
        "            new_words.append(word)        \n",
        "    return new_words\n"
      ],
      "execution_count": 27,
      "outputs": []
    },
    {
      "cell_type": "code",
      "metadata": {
        "id": "wxAZCPo4HYll"
      },
      "source": [
        "def replace_abbr(text):  # remove abbreviations\n",
        "  new_text = re.sub(r'ppl','people',text)\n",
        "  new_text = re.sub(r'plz','please',new_text)\n",
        "  new_text = re.sub(r'pls','please',new_text)\n",
        "  new_text = re.sub(r'luv','love',new_text)\n",
        "  new_text = re.sub(r'yep','yes',new_text)\n",
        "  new_text = re.sub(r'thanks','thank',new_text)\n",
        "  new_text = re.sub(r'thankyou','thank',new_text)\n",
        "  new_text = re.sub(r'hrs','hour',new_text)\n",
        "  new_text = re.sub(r'tkt','ticket',new_text)\n",
        "  new_text = re.sub(r'w/you','with you',new_text)\n",
        "  new_text = re.sub(r'w/out','without',new_text)\n",
        "  return new_text"
      ],
      "execution_count": 28,
      "outputs": []
    },
    {
      "cell_type": "code",
      "metadata": {
        "id": "vxuIaHbiRNHK"
      },
      "source": [
        "def replace_EmojisTo_text(text):\n",
        "  new_text = emoji.demojize(text)\n",
        "  new_text = new_text.replace('_','')\n",
        "  #new_text = text\n",
        "  #em_split_emoji = emoji.get_emoji_regexp().split(text)\n",
        "  #em_split_whitespace = [substr.split() for substr in em_split_emoji]\n",
        "  #em_split = functools.reduce(operator.concat, em_split_whitespace)\n",
        "  #for word in em_split:\n",
        "  #  if word in emojisDict_happySad.keys():\n",
        "  #    new_text = re.sub(word,emojisDict_happySad[word],new_text)\n",
        "  return new_text"
      ],
      "execution_count": 29,
      "outputs": []
    },
    {
      "cell_type": "code",
      "metadata": {
        "id": "tO9QZIDHD02n"
      },
      "source": [
        "# emoticons\n",
        "def load_dict_smileys():   \n",
        "    return {\n",
        "        \":‑)\":\"positive\",\n",
        "        \":-]\":\"positive\",\n",
        "        \":-3\":\"positive\",\n",
        "        \":->\":\"positive\",\n",
        "        \"8-)\":\"positive\",\n",
        "        \":-}\":\"positive\",\n",
        "        \":)\":\"positive\",\n",
        "        \":]\":\"positive\",\n",
        "        \":3\":\"positive\",\n",
        "        \":>\":\"positive\",\n",
        "        \"8)\":\"positive\",\n",
        "        \":}\":\"positive\",\n",
        "        \":o)\":\"positive\",\n",
        "        \":c)\":\"positive\",\n",
        "        \":^)\":\"positive\",\n",
        "        \"=]\":\"positive\",\n",
        "        \"=)\":\"positive\",\n",
        "        \":-))\":\"positive\",\n",
        "        \":‑D\":\"positive\",\n",
        "        \"8‑D\":\"positive\",\n",
        "        \"x‑D\":\"positive\",\n",
        "        \"X‑D\":\"positive\",\n",
        "        \":D\":\"positive\",\n",
        "        \"8D\":\"positive\",\n",
        "        \"xD\":\"positive\",\n",
        "        \"XD\":\"positive\",\n",
        "        \";p\":\"positive\",\n",
        "        \":‑(\":\"negative\",\n",
        "        \":‑c\":\"negative\",\n",
        "        \":‑<\":\"negative\",\n",
        "        \":‑[\":\"negative\",\n",
        "        \":(\":\"negative\",\n",
        "        \":c\":\"negative\",\n",
        "        \":<\":\"negative\",\n",
        "        \":[\":\"negative\",\n",
        "        \":-||\":\"negative\",\n",
        "        \">:[\":\"negative\",\n",
        "        \":{\":\"negative\",\n",
        "        \":@\":\"negative\",\n",
        "        \">:(\":\"negative\",\n",
        "        \":'‑(\":\"negative\",\n",
        "        \":'(\":\"negative\",\n",
        "        \":‑P\":\"neutral\",\n",
        "        \"X‑P\":\"neutral\",\n",
        "        \"x‑p\":\"neutral\",\n",
        "        \":‑p\":\"neutral\",\n",
        "        \":‑Þ\":\"neutral\",\n",
        "        \":‑þ\":\"neutral\",\n",
        "        \":‑b\":\"neutral\",\n",
        "        \":P\":\"neutral\",\n",
        "        \"XP\":\"neutral\",\n",
        "        \"xp\":\"neutral\",\n",
        "        \":p\":\"neutral\",\n",
        "        \":Þ\":\"neutral\",\n",
        "        \":þ\":\"neutral\",\n",
        "        \":b\":\"neutral\",\n",
        "        \"<3\":\"positive\"\n",
        "        }"
      ],
      "execution_count": 30,
      "outputs": []
    },
    {
      "cell_type": "code",
      "metadata": {
        "id": "VPv6GuQcD-fO"
      },
      "source": [
        "  def replace_EmoticonsTo_Text(text):\n",
        "    SMILEY_dict = load_dict_smileys()  \n",
        "    words = text.split()\n",
        "    reformed = [SMILEY_dict[word] if word in SMILEY_dict else word for word in words]\n",
        "    text = \" \".join(reformed)\n",
        "    return text"
      ],
      "execution_count": 31,
      "outputs": []
    },
    {
      "cell_type": "code",
      "metadata": {
        "id": "DOevzu5ugLzu"
      },
      "source": [
        "def extract_emojis(tweets):\n",
        "  emoji_dict = {}\n",
        "  for tweet in tweets:\n",
        "    dict1 = {}\n",
        "    dict1 =demoji.findall(tweet)\n",
        "    for key,value in zip(dict1.keys(),dict1.values()):\n",
        "      emoji_dict[key] = value\n",
        "  return emoji_dict"
      ],
      "execution_count": 32,
      "outputs": []
    },
    {
      "cell_type": "code",
      "metadata": {
        "colab": {
          "base_uri": "https://localhost:8080/"
        },
        "id": "ZrZEIF08g7Wk",
        "outputId": "c579a69e-8c81-41dd-ce45-2198e0c4f871"
      },
      "source": [
        "emojis_dict = extract_emojis(tweets_copy['text'])\n",
        "emojis_dict"
      ],
      "execution_count": 33,
      "outputs": [
        {
          "output_type": "execute_result",
          "data": {
            "text/plain": [
              "{'↔️': 'left-right arrow',\n",
              " '⌚': 'watch',\n",
              " '☀️': 'sun',\n",
              " '☕': 'hot beverage',\n",
              " '☺': 'smiling face',\n",
              " '☺️': 'smiling face',\n",
              " '♥': 'heart suit',\n",
              " '♥️': 'heart suit',\n",
              " '⛄': 'snowman without snow',\n",
              " '✅': 'check mark button',\n",
              " '✈': 'airplane',\n",
              " '✈️': 'airplane',\n",
              " '✌️': 'victory hand',\n",
              " '✔️': 'check mark',\n",
              " '✨': 'sparkles',\n",
              " '❄️': 'snowflake',\n",
              " '❌': 'cross mark',\n",
              " '❗': 'red exclamation mark',\n",
              " '❤': 'red heart',\n",
              " '❤️': 'red heart',\n",
              " '➡️': 'right arrow',\n",
              " '⤴': 'right arrow curving up',\n",
              " '⤵': 'right arrow curving down',\n",
              " '⭐': 'star',\n",
              " '🆖': 'NG button',\n",
              " '🆘': 'SOS button',\n",
              " '🇬🇧': 'flag: United Kingdom',\n",
              " '🇺🇸': 'flag: United States',\n",
              " '🌏': 'globe showing Asia-Australia',\n",
              " '🌞': 'sun with face',\n",
              " '🌟': 'glowing star',\n",
              " '🌴': 'palm tree',\n",
              " '🍅': 'tomato',\n",
              " '🍷': 'wine glass',\n",
              " '🍸': 'cocktail glass',\n",
              " '🍻': 'clinking beer mugs',\n",
              " '🎀': 'ribbon',\n",
              " '🎉': 'party popper',\n",
              " '🎲': 'game die',\n",
              " '🎵': 'musical note',\n",
              " '🐩': 'poodle',\n",
              " '🐳': 'spouting whale',\n",
              " '🐴': 'horse face',\n",
              " '👀': 'eyes',\n",
              " '👉': 'backhand index pointing right',\n",
              " '👊': 'oncoming fist',\n",
              " '👋': 'waving hand',\n",
              " '👌': 'OK hand',\n",
              " '👍': 'thumbs up',\n",
              " '👎': 'thumbs down',\n",
              " '👏': 'clapping hands',\n",
              " '👠': 'high-heeled shoe',\n",
              " '👸': 'princess',\n",
              " '👺': 'goblin',\n",
              " '👿': 'angry face with horns',\n",
              " '💁': 'person tipping hand',\n",
              " '💔': 'broken heart',\n",
              " '💕': 'two hearts',\n",
              " '💖': 'sparkling heart',\n",
              " '💗': 'growing heart',\n",
              " '💘': 'heart with arrow',\n",
              " '💙': 'blue heart',\n",
              " '💜': 'purple heart',\n",
              " '💝': 'heart with ribbon',\n",
              " '💤': 'zzz',\n",
              " '💩': 'pile of poo',\n",
              " '💪': 'flexed biceps',\n",
              " '💯': 'hundred points',\n",
              " '💺': 'seat',\n",
              " '📱': 'mobile phone',\n",
              " '📲': 'mobile phone with arrow',\n",
              " '🔵': 'blue circle',\n",
              " '😀': 'grinning face',\n",
              " '😁': 'beaming face with smiling eyes',\n",
              " '😂': 'face with tears of joy',\n",
              " '😃': 'grinning face with big eyes',\n",
              " '😄': 'grinning face with smiling eyes',\n",
              " '😅': 'grinning face with sweat',\n",
              " '😆': 'grinning squinting face',\n",
              " '😈': 'smiling face with horns',\n",
              " '😉': 'winking face',\n",
              " '😊': 'smiling face with smiling eyes',\n",
              " '😋': 'face savoring food',\n",
              " '😍': 'smiling face with heart-eyes',\n",
              " '😎': 'smiling face with sunglasses',\n",
              " '😏': 'smirking face',\n",
              " '😐': 'neutral face',\n",
              " '😑': 'expressionless face',\n",
              " '😒': 'unamused face',\n",
              " '😓': 'downcast face with sweat',\n",
              " '😔': 'pensive face',\n",
              " '😕': 'confused face',\n",
              " '😖': 'confounded face',\n",
              " '😘': 'face blowing a kiss',\n",
              " '😜': 'winking face with tongue',\n",
              " '😞': 'disappointed face',\n",
              " '😠': 'angry face',\n",
              " '😡': 'pouting face',\n",
              " '😢': 'crying face',\n",
              " '😣': 'persevering face',\n",
              " '😤': 'face with steam from nose',\n",
              " '😥': 'sad but relieved face',\n",
              " '😦': 'frowning face with open mouth',\n",
              " '😩': 'weary face',\n",
              " '😪': 'sleepy face',\n",
              " '😫': 'tired face',\n",
              " '😬': 'grimacing face',\n",
              " '😭': 'loudly crying face',\n",
              " '😮': 'face with open mouth',\n",
              " '😱': 'face screaming in fear',\n",
              " '😲': 'astonished face',\n",
              " '😳': 'flushed face',\n",
              " '😵': 'knocked-out face',\n",
              " '😷': 'face with medical mask',\n",
              " '😻': 'smiling cat with heart-eyes',\n",
              " '🙅': 'person gesturing NO',\n",
              " '🙈': 'see-no-evil monkey',\n",
              " '🙉': 'hear-no-evil monkey',\n",
              " '🙌': 'raising hands',\n",
              " '🙏': 'folded hands',\n",
              " '🚪': 'door',\n",
              " '🚫': 'prohibited',\n",
              " '🚶': 'person walking'}"
            ]
          },
          "metadata": {
            "tags": []
          },
          "execution_count": 33
        }
      ]
    },
    {
      "cell_type": "code",
      "metadata": {
        "colab": {
          "base_uri": "https://localhost:8080/"
        },
        "id": "EbZL0o7thSrg",
        "outputId": "f81e338f-53f1-4bc6-dc84-7e5adabda141"
      },
      "source": [
        "print(len(emojis_dict)) # there are 123 unique emojis used in this dataset"
      ],
      "execution_count": 34,
      "outputs": [
        {
          "output_type": "stream",
          "text": [
            "123\n"
          ],
          "name": "stdout"
        }
      ]
    },
    {
      "cell_type": "code",
      "metadata": {
        "id": "2XPjMLENiasj"
      },
      "source": [
        "#emojisDict_happySad = emojis_dict.copy()\n",
        "#list2 = ['positive ', 'positive ', 'love ', 'negative ', 'negative ', 'love ', 'airplane', 'airplane', \n",
        " #                             'seat', 'positive ', 'positive ', 'positive ', 'positive ', 'positive ',                           \n",
        " #                             'sun with face', 'positive ', 'negative ', 'negative ', 'positive ',\n",
        "#                              'hear-no-evil monkey', 'positive ', 'snowflake', 'positive ', 'positive ',\n",
        "#                              'positive ', 'cocktail glass', 'negative ', 'negative ', 'positive ',\n",
        "#                              'grinning face with smiling eyes', 'face blowing a kiss', 'princess', 'flag: United States', \n",
        "#                              'globe showing Asia-Australia', 'flag: United Kingdom', 'ribbon', 'sad but relieved face', 'winking face', \n",
        "#                              'negative ', 'sparkles', 'party popper', 'positive ', 'zzz', 'negative ', 'positive ', \n",
        "#                              'waving hand', 'positive ', 'folded hands', 'angry face with horns', 'pensive face', 'person gesturing NO', \n",
        "#                              'NG button', 'negative ', 'positive ', 'palm tree', 'positive ', 'negative ', 'high-heeled shoe', \n",
        "#                              'winking face with tongue', 'smiling cat with heart-eyes', 'confused face', 'smiling face with horns', \n",
        "#                              'face with steam from nose', 'flexed biceps', 'tired face', 'broken heart', 'sleepy face', 'persevering face', \n",
        "#                              'grimacing face', 'person tipping hand', 'face savoring food', 'smirking face', 'confounded face', 'glowing star', \n",
        "#                              'mobile phone', 'clinking beer mugs', 'sparkling heart', 'grinning face with sweat', 'heart with ribbon', \n",
        "#                              'prohibited', 'left-right arrow', 'face with medical mask', 'star', 'love ', 'red exclamation mark',\n",
        "#                              'musical note', 'horse face', 'positive ', 'love ', 'grinning squinting face', 'expressionless face', \n",
        "#                              'poodle', 'right arrow curving up', 'sun', 'oncoming fist', 'hundred points', 'negative', 'hot beverage',\n",
        "#                              'mobile phone with arrow', 'goblin', 'see-no-evil monkey', 'love ', 'love ', 'door',\n",
        "#                              'backhand index pointing right', 'flushed face', 'knocked-out face', 'person walking', 'blue circle',\n",
        "#                              'neutral ', 'eyes', 'tomato', 'SOS button', 'snowman without snow', 'negative ', \n",
        "#                              'game die', 'watch', 'spouting whale', 'right arrow curving down', 'face with open mouth', 'astonished face',\n",
        "#                              'frowning face with open mouth', 'right arrow']\n",
        "#i = 0\n",
        "#for key,value in emojisDict_happySad.items():\n",
        "#  emojisDict_happySad[key] = list2[i]\n",
        "#  i = i +1\n",
        "\n",
        "#print(emojisDict_happySad)\n"
      ],
      "execution_count": 38,
      "outputs": []
    },
    {
      "cell_type": "code",
      "metadata": {
        "id": "gzF28dbDjNCK"
      },
      "source": [
        "def preprocess_text(text):\n",
        "  \n",
        "  new_text = remove_links(text)\n",
        "  new_text = replace_contractions(new_text)\n",
        "  new_text = convert_to_lower(new_text)\n",
        "  new_text = remove_html_tags(new_text) \n",
        "  new_text = remove_mentions(new_text)\n",
        "  new_text = replace_abbr(new_text)\n",
        "  # Instead of removing emojis,emoticons,we are converting them to text\n",
        "  new_text = replace_EmojisTo_text(new_text)\n",
        "  new_text = replace_EmoticonsTo_Text(new_text)\n",
        "  new_text = remove_special_characters(new_text) # if there is any other special character remaining after above pre-process,remove them\n",
        "  new_text = remove_numbers(new_text)\n",
        "  new_text = lemmatize_text(new_text)\n",
        "  new_text = text_tokenize(new_text)\n",
        "  new_text = remove_punctuation(new_text)\n",
        "  new_text = remove_stopwords(new_text) \n",
        "  new_text = ' '.join(new_text)\n",
        "\n",
        "  return new_text\n"
      ],
      "execution_count": 35,
      "outputs": []
    },
    {
      "cell_type": "code",
      "metadata": {
        "colab": {
          "base_uri": "https://localhost:8080/"
        },
        "id": "tSfFPLX8O_vR",
        "outputId": "53b5c657-52b3-45e4-99aa-3c908256cc45"
      },
      "source": [
        "text = preprocess_text(tweets_copy['text'][2148])\n",
        "print(text)"
      ],
      "execution_count": 36,
      "outputs": [
        {
          "output_type": "stream",
          "text": [
            "seat hour inside flight ua iad delay offer water cookie business class fail\n"
          ],
          "name": "stdout"
        }
      ]
    },
    {
      "cell_type": "code",
      "metadata": {
        "colab": {
          "base_uri": "https://localhost:8080/",
          "height": 53
        },
        "id": "Wqy47H-PQUer",
        "outputId": "42aa6e5e-7f5c-4585-ef9c-62973bba88ac"
      },
      "source": [
        "tweets_copy['text'][2148]"
      ],
      "execution_count": 37,
      "outputs": [
        {
          "output_type": "execute_result",
          "data": {
            "application/vnd.google.colaboratory.intrinsic+json": {
              "type": "string"
            },
            "text/plain": [
              "\"@united we've been seating for 5hrs inside flight UA936 at #IAD delayed. We've only been offered water &amp; cookies in business class. #failed\""
            ]
          },
          "metadata": {
            "tags": []
          },
          "execution_count": 37
        }
      ]
    },
    {
      "cell_type": "code",
      "metadata": {
        "id": "XoIYZ1bVk63T"
      },
      "source": [
        "wordsList = []\n",
        "for i in range(X_features.shape[0]):\n",
        "  text = preprocess_text(X_features[i])\n",
        "  wordsList.append(text)"
      ],
      "execution_count": 38,
      "outputs": []
    },
    {
      "cell_type": "code",
      "metadata": {
        "colab": {
          "base_uri": "https://localhost:8080/",
          "height": 35
        },
        "id": "BeCbl7tmoK5I",
        "outputId": "a0264403-81a7-40af-aa44-fac3035381c3"
      },
      "source": [
        "wordsList[36] #6, [42,36(emoji)]"
      ],
      "execution_count": 39,
      "outputs": [
        {
          "output_type": "execute_result",
          "data": {
            "application/vnd.google.colaboratory.intrinsic+json": {
              "type": "string"
            },
            "text/plain": [
              "'moodlighting way fly good experience ever cool calm purpleheart airplane moodlitmonday'"
            ]
          },
          "metadata": {
            "tags": []
          },
          "execution_count": 39
        }
      ]
    },
    {
      "cell_type": "code",
      "metadata": {
        "colab": {
          "base_uri": "https://localhost:8080/",
          "height": 355
        },
        "id": "RELwNtSQlBUu",
        "outputId": "586b7bfd-d886-4484-a461-ba1cff8d945b"
      },
      "source": [
        "processed_df = pd.DataFrame(wordsList,columns=['text'])\n",
        "processed_df['airline_sentiment'] = tweets_copy['airline_sentiment']\n",
        "processed_df.head(10)"
      ],
      "execution_count": 40,
      "outputs": [
        {
          "output_type": "execute_result",
          "data": {
            "text/html": [
              "<div>\n",
              "<style scoped>\n",
              "    .dataframe tbody tr th:only-of-type {\n",
              "        vertical-align: middle;\n",
              "    }\n",
              "\n",
              "    .dataframe tbody tr th {\n",
              "        vertical-align: top;\n",
              "    }\n",
              "\n",
              "    .dataframe thead th {\n",
              "        text-align: right;\n",
              "    }\n",
              "</style>\n",
              "<table border=\"1\" class=\"dataframe\">\n",
              "  <thead>\n",
              "    <tr style=\"text-align: right;\">\n",
              "      <th></th>\n",
              "      <th>text</th>\n",
              "      <th>airline_sentiment</th>\n",
              "    </tr>\n",
              "  </thead>\n",
              "  <tbody>\n",
              "    <tr>\n",
              "      <th>0</th>\n",
              "      <td>say</td>\n",
              "      <td>neutral</td>\n",
              "    </tr>\n",
              "    <tr>\n",
              "      <th>1</th>\n",
              "      <td>plus add commercial experience tacky</td>\n",
              "      <td>positive</td>\n",
              "    </tr>\n",
              "    <tr>\n",
              "      <th>2</th>\n",
              "      <td>not today must mean need take another trip</td>\n",
              "      <td>neutral</td>\n",
              "    </tr>\n",
              "    <tr>\n",
              "      <th>3</th>\n",
              "      <td>really aggressive blast obnoxious entertainment guest face little recourse</td>\n",
              "      <td>negative</td>\n",
              "    </tr>\n",
              "    <tr>\n",
              "      <th>4</th>\n",
              "      <td>really big bad thing</td>\n",
              "      <td>negative</td>\n",
              "    </tr>\n",
              "    <tr>\n",
              "      <th>5</th>\n",
              "      <td>seriously would pay flight seat not playing really bad thing fly va</td>\n",
              "      <td>negative</td>\n",
              "    </tr>\n",
              "    <tr>\n",
              "      <th>6</th>\n",
              "      <td>yes nearly every time fly vx ear worm not go away positive</td>\n",
              "      <td>positive</td>\n",
              "    </tr>\n",
              "    <tr>\n",
              "      <th>7</th>\n",
              "      <td>really miss prime opportunity man without hat parody</td>\n",
              "      <td>neutral</td>\n",
              "    </tr>\n",
              "    <tr>\n",
              "      <th>8</th>\n",
              "      <td>well not</td>\n",
              "      <td>positive</td>\n",
              "    </tr>\n",
              "    <tr>\n",
              "      <th>9</th>\n",
              "      <td>amazing arrive hour early too good</td>\n",
              "      <td>positive</td>\n",
              "    </tr>\n",
              "  </tbody>\n",
              "</table>\n",
              "</div>"
            ],
            "text/plain": [
              "                                                                         text airline_sentiment\n",
              "0                                                                         say           neutral\n",
              "1                                        plus add commercial experience tacky          positive\n",
              "2                                  not today must mean need take another trip           neutral\n",
              "3  really aggressive blast obnoxious entertainment guest face little recourse          negative\n",
              "4                                                        really big bad thing          negative\n",
              "5         seriously would pay flight seat not playing really bad thing fly va          negative\n",
              "6                  yes nearly every time fly vx ear worm not go away positive          positive\n",
              "7                        really miss prime opportunity man without hat parody           neutral\n",
              "8                                                                    well not          positive\n",
              "9                                          amazing arrive hour early too good          positive"
            ]
          },
          "metadata": {
            "tags": []
          },
          "execution_count": 40
        }
      ]
    },
    {
      "cell_type": "code",
      "metadata": {
        "colab": {
          "base_uri": "https://localhost:8080/",
          "height": 607
        },
        "id": "43VPB95OvQ2R",
        "outputId": "c36e563f-af05-4bef-c5e9-4a2fd0507797"
      },
      "source": [
        "from wordcloud import WordCloud\n",
        "\n",
        "\n",
        "comment_words = ''\n",
        "for sentence in wordsList:\n",
        "  tokens = sentence.split()\n",
        "  comment_words = \" \".join(tokens)\n",
        "\n",
        "wordcloud = WordCloud(width = 800, height = 800,\n",
        "\t\t\t\tbackground_color ='white',\n",
        "\t\t\t\tstopwords = stopword_list,\n",
        "\t\t\t\tmin_font_size = 10).generate(comment_words)\n",
        "\n",
        "# plot the WordCloud image\t\t\t\t\t\n",
        "plt.figure(figsize = (10, 8), facecolor = None)\n",
        "plt.imshow(wordcloud)\n",
        "plt.axis(\"off\")\n",
        "plt.tight_layout(pad = 0)\n",
        "\n",
        "plt.show()\n"
      ],
      "execution_count": 41,
      "outputs": [
        {
          "output_type": "display_data",
          "data": {
            "image/png": "[encoded data removed]",
            "text/plain": [
              "<Figure size 720x576 with 1 Axes>"
            ]
          },
          "metadata": {
            "tags": [],
            "needs_background": "light"
          }
        }
      ]
    },
    {
      "cell_type": "markdown",
      "metadata": {
        "id": "Fui6j6xO_CB7"
      },
      "source": [
        "**Count Vectorization**"
      ]
    },
    {
      "cell_type": "code",
      "metadata": {
        "id": "ZPjuhlJy_JFK"
      },
      "source": [
        "countVector = CountVectorizer(max_features=5000)#min_df=5,ngram_range=(1,2)\n",
        "X_count_features = countVector.fit_transform(processed_df['text'])"
      ],
      "execution_count": 79,
      "outputs": []
    },
    {
      "cell_type": "code",
      "metadata": {
        "colab": {
          "base_uri": "https://localhost:8080/"
        },
        "id": "Np2CwcmhwKQA",
        "outputId": "d4098b96-05d4-4077-f091-98333a2827b5"
      },
      "source": [
        "X_count_features.shape"
      ],
      "execution_count": 80,
      "outputs": [
        {
          "output_type": "execute_result",
          "data": {
            "text/plain": [
              "(14640, 5000)"
            ]
          },
          "metadata": {
            "tags": []
          },
          "execution_count": 80
        }
      ]
    },
    {
      "cell_type": "code",
      "metadata": {
        "colab": {
          "base_uri": "https://localhost:8080/",
          "height": 405
        },
        "id": "b8ZzHz1CDwpm",
        "outputId": "49dfcc46-8eb4-4710-db72-3de56aaf5ed0"
      },
      "source": [
        "feature_names = countVector.get_feature_names()\n",
        "corpus_index = [n for n in range(X_count_features.shape[0])]\n",
        "count_df = pd.DataFrame(X_count_features.T.todense(),index=feature_names, columns=corpus_index)\n",
        "count_df.head(10)"
      ],
      "execution_count": 81,
      "outputs": [
        {
          "output_type": "execute_result",
          "data": {
            "text/html": [
              "<div>\n",
              "<style scoped>\n",
              "    .dataframe tbody tr th:only-of-type {\n",
              "        vertical-align: middle;\n",
              "    }\n",
              "\n",
              "    .dataframe tbody tr th {\n",
              "        vertical-align: top;\n",
              "    }\n",
              "\n",
              "    .dataframe thead th {\n",
              "        text-align: right;\n",
              "    }\n",
              "</style>\n",
              "<table border=\"1\" class=\"dataframe\">\n",
              "  <thead>\n",
              "    <tr style=\"text-align: right;\">\n",
              "      <th></th>\n",
              "      <th>0</th>\n",
              "      <th>1</th>\n",
              "      <th>2</th>\n",
              "      <th>3</th>\n",
              "      <th>4</th>\n",
              "      <th>5</th>\n",
              "      <th>6</th>\n",
              "      <th>7</th>\n",
              "      <th>8</th>\n",
              "      <th>9</th>\n",
              "      <th>10</th>\n",
              "      <th>11</th>\n",
              "      <th>12</th>\n",
              "      <th>13</th>\n",
              "      <th>14</th>\n",
              "      <th>15</th>\n",
              "      <th>16</th>\n",
              "      <th>17</th>\n",
              "      <th>18</th>\n",
              "      <th>19</th>\n",
              "      <th>20</th>\n",
              "      <th>21</th>\n",
              "      <th>22</th>\n",
              "      <th>23</th>\n",
              "      <th>24</th>\n",
              "      <th>25</th>\n",
              "      <th>26</th>\n",
              "      <th>27</th>\n",
              "      <th>28</th>\n",
              "      <th>29</th>\n",
              "      <th>30</th>\n",
              "      <th>31</th>\n",
              "      <th>32</th>\n",
              "      <th>33</th>\n",
              "      <th>34</th>\n",
              "      <th>35</th>\n",
              "      <th>36</th>\n",
              "      <th>37</th>\n",
              "      <th>38</th>\n",
              "      <th>39</th>\n",
              "      <th>...</th>\n",
              "      <th>14600</th>\n",
              "      <th>14601</th>\n",
              "      <th>14602</th>\n",
              "      <th>14603</th>\n",
              "      <th>14604</th>\n",
              "      <th>14605</th>\n",
              "      <th>14606</th>\n",
              "      <th>14607</th>\n",
              "      <th>14608</th>\n",
              "      <th>14609</th>\n",
              "      <th>14610</th>\n",
              "      <th>14611</th>\n",
              "      <th>14612</th>\n",
              "      <th>14613</th>\n",
              "      <th>14614</th>\n",
              "      <th>14615</th>\n",
              "      <th>14616</th>\n",
              "      <th>14617</th>\n",
              "      <th>14618</th>\n",
              "      <th>14619</th>\n",
              "      <th>14620</th>\n",
              "      <th>14621</th>\n",
              "      <th>14622</th>\n",
              "      <th>14623</th>\n",
              "      <th>14624</th>\n",
              "      <th>14625</th>\n",
              "      <th>14626</th>\n",
              "      <th>14627</th>\n",
              "      <th>14628</th>\n",
              "      <th>14629</th>\n",
              "      <th>14630</th>\n",
              "      <th>14631</th>\n",
              "      <th>14632</th>\n",
              "      <th>14633</th>\n",
              "      <th>14634</th>\n",
              "      <th>14635</th>\n",
              "      <th>14636</th>\n",
              "      <th>14637</th>\n",
              "      <th>14638</th>\n",
              "      <th>14639</th>\n",
              "    </tr>\n",
              "  </thead>\n",
              "  <tbody>\n",
              "    <tr>\n",
              "      <th>aa</th>\n",
              "      <td>0</td>\n",
              "      <td>0</td>\n",
              "      <td>0</td>\n",
              "      <td>0</td>\n",
              "      <td>0</td>\n",
              "      <td>0</td>\n",
              "      <td>0</td>\n",
              "      <td>0</td>\n",
              "      <td>0</td>\n",
              "      <td>0</td>\n",
              "      <td>0</td>\n",
              "      <td>0</td>\n",
              "      <td>0</td>\n",
              "      <td>0</td>\n",
              "      <td>0</td>\n",
              "      <td>0</td>\n",
              "      <td>0</td>\n",
              "      <td>0</td>\n",
              "      <td>0</td>\n",
              "      <td>0</td>\n",
              "      <td>0</td>\n",
              "      <td>0</td>\n",
              "      <td>0</td>\n",
              "      <td>0</td>\n",
              "      <td>0</td>\n",
              "      <td>0</td>\n",
              "      <td>0</td>\n",
              "      <td>0</td>\n",
              "      <td>0</td>\n",
              "      <td>0</td>\n",
              "      <td>0</td>\n",
              "      <td>0</td>\n",
              "      <td>0</td>\n",
              "      <td>0</td>\n",
              "      <td>0</td>\n",
              "      <td>0</td>\n",
              "      <td>0</td>\n",
              "      <td>0</td>\n",
              "      <td>0</td>\n",
              "      <td>0</td>\n",
              "      <td>...</td>\n",
              "      <td>0</td>\n",
              "      <td>0</td>\n",
              "      <td>0</td>\n",
              "      <td>0</td>\n",
              "      <td>1</td>\n",
              "      <td>0</td>\n",
              "      <td>0</td>\n",
              "      <td>0</td>\n",
              "      <td>0</td>\n",
              "      <td>0</td>\n",
              "      <td>0</td>\n",
              "      <td>0</td>\n",
              "      <td>0</td>\n",
              "      <td>0</td>\n",
              "      <td>0</td>\n",
              "      <td>0</td>\n",
              "      <td>1</td>\n",
              "      <td>0</td>\n",
              "      <td>0</td>\n",
              "      <td>0</td>\n",
              "      <td>0</td>\n",
              "      <td>0</td>\n",
              "      <td>0</td>\n",
              "      <td>0</td>\n",
              "      <td>0</td>\n",
              "      <td>0</td>\n",
              "      <td>0</td>\n",
              "      <td>0</td>\n",
              "      <td>0</td>\n",
              "      <td>0</td>\n",
              "      <td>0</td>\n",
              "      <td>0</td>\n",
              "      <td>0</td>\n",
              "      <td>0</td>\n",
              "      <td>0</td>\n",
              "      <td>0</td>\n",
              "      <td>0</td>\n",
              "      <td>0</td>\n",
              "      <td>0</td>\n",
              "      <td>0</td>\n",
              "    </tr>\n",
              "    <tr>\n",
              "      <th>aadv</th>\n",
              "      <td>0</td>\n",
              "      <td>0</td>\n",
              "      <td>0</td>\n",
              "      <td>0</td>\n",
              "      <td>0</td>\n",
              "      <td>0</td>\n",
              "      <td>0</td>\n",
              "      <td>0</td>\n",
              "      <td>0</td>\n",
              "      <td>0</td>\n",
              "      <td>0</td>\n",
              "      <td>0</td>\n",
              "      <td>0</td>\n",
              "      <td>0</td>\n",
              "      <td>0</td>\n",
              "      <td>0</td>\n",
              "      <td>0</td>\n",
              "      <td>0</td>\n",
              "      <td>0</td>\n",
              "      <td>0</td>\n",
              "      <td>0</td>\n",
              "      <td>0</td>\n",
              "      <td>0</td>\n",
              "      <td>0</td>\n",
              "      <td>0</td>\n",
              "      <td>0</td>\n",
              "      <td>0</td>\n",
              "      <td>0</td>\n",
              "      <td>0</td>\n",
              "      <td>0</td>\n",
              "      <td>0</td>\n",
              "      <td>0</td>\n",
              "      <td>0</td>\n",
              "      <td>0</td>\n",
              "      <td>0</td>\n",
              "      <td>0</td>\n",
              "      <td>0</td>\n",
              "      <td>0</td>\n",
              "      <td>0</td>\n",
              "      <td>0</td>\n",
              "      <td>...</td>\n",
              "      <td>0</td>\n",
              "      <td>0</td>\n",
              "      <td>0</td>\n",
              "      <td>0</td>\n",
              "      <td>0</td>\n",
              "      <td>0</td>\n",
              "      <td>0</td>\n",
              "      <td>0</td>\n",
              "      <td>0</td>\n",
              "      <td>0</td>\n",
              "      <td>0</td>\n",
              "      <td>0</td>\n",
              "      <td>0</td>\n",
              "      <td>0</td>\n",
              "      <td>0</td>\n",
              "      <td>0</td>\n",
              "      <td>0</td>\n",
              "      <td>0</td>\n",
              "      <td>0</td>\n",
              "      <td>0</td>\n",
              "      <td>0</td>\n",
              "      <td>0</td>\n",
              "      <td>0</td>\n",
              "      <td>0</td>\n",
              "      <td>0</td>\n",
              "      <td>0</td>\n",
              "      <td>0</td>\n",
              "      <td>0</td>\n",
              "      <td>0</td>\n",
              "      <td>0</td>\n",
              "      <td>0</td>\n",
              "      <td>0</td>\n",
              "      <td>0</td>\n",
              "      <td>0</td>\n",
              "      <td>0</td>\n",
              "      <td>0</td>\n",
              "      <td>0</td>\n",
              "      <td>0</td>\n",
              "      <td>0</td>\n",
              "      <td>0</td>\n",
              "    </tr>\n",
              "    <tr>\n",
              "      <th>aadvantage</th>\n",
              "      <td>0</td>\n",
              "      <td>0</td>\n",
              "      <td>0</td>\n",
              "      <td>0</td>\n",
              "      <td>0</td>\n",
              "      <td>0</td>\n",
              "      <td>0</td>\n",
              "      <td>0</td>\n",
              "      <td>0</td>\n",
              "      <td>0</td>\n",
              "      <td>0</td>\n",
              "      <td>0</td>\n",
              "      <td>0</td>\n",
              "      <td>0</td>\n",
              "      <td>0</td>\n",
              "      <td>0</td>\n",
              "      <td>0</td>\n",
              "      <td>0</td>\n",
              "      <td>0</td>\n",
              "      <td>0</td>\n",
              "      <td>0</td>\n",
              "      <td>0</td>\n",
              "      <td>0</td>\n",
              "      <td>0</td>\n",
              "      <td>0</td>\n",
              "      <td>0</td>\n",
              "      <td>0</td>\n",
              "      <td>0</td>\n",
              "      <td>0</td>\n",
              "      <td>0</td>\n",
              "      <td>0</td>\n",
              "      <td>0</td>\n",
              "      <td>0</td>\n",
              "      <td>0</td>\n",
              "      <td>0</td>\n",
              "      <td>0</td>\n",
              "      <td>0</td>\n",
              "      <td>0</td>\n",
              "      <td>0</td>\n",
              "      <td>0</td>\n",
              "      <td>...</td>\n",
              "      <td>0</td>\n",
              "      <td>0</td>\n",
              "      <td>0</td>\n",
              "      <td>0</td>\n",
              "      <td>0</td>\n",
              "      <td>0</td>\n",
              "      <td>0</td>\n",
              "      <td>0</td>\n",
              "      <td>0</td>\n",
              "      <td>0</td>\n",
              "      <td>0</td>\n",
              "      <td>0</td>\n",
              "      <td>0</td>\n",
              "      <td>0</td>\n",
              "      <td>0</td>\n",
              "      <td>0</td>\n",
              "      <td>0</td>\n",
              "      <td>0</td>\n",
              "      <td>0</td>\n",
              "      <td>0</td>\n",
              "      <td>0</td>\n",
              "      <td>0</td>\n",
              "      <td>0</td>\n",
              "      <td>0</td>\n",
              "      <td>0</td>\n",
              "      <td>0</td>\n",
              "      <td>0</td>\n",
              "      <td>0</td>\n",
              "      <td>0</td>\n",
              "      <td>0</td>\n",
              "      <td>0</td>\n",
              "      <td>0</td>\n",
              "      <td>0</td>\n",
              "      <td>0</td>\n",
              "      <td>0</td>\n",
              "      <td>0</td>\n",
              "      <td>0</td>\n",
              "      <td>0</td>\n",
              "      <td>0</td>\n",
              "      <td>0</td>\n",
              "    </tr>\n",
              "    <tr>\n",
              "      <th>aafail</th>\n",
              "      <td>0</td>\n",
              "      <td>0</td>\n",
              "      <td>0</td>\n",
              "      <td>0</td>\n",
              "      <td>0</td>\n",
              "      <td>0</td>\n",
              "      <td>0</td>\n",
              "      <td>0</td>\n",
              "      <td>0</td>\n",
              "      <td>0</td>\n",
              "      <td>0</td>\n",
              "      <td>0</td>\n",
              "      <td>0</td>\n",
              "      <td>0</td>\n",
              "      <td>0</td>\n",
              "      <td>0</td>\n",
              "      <td>0</td>\n",
              "      <td>0</td>\n",
              "      <td>0</td>\n",
              "      <td>0</td>\n",
              "      <td>0</td>\n",
              "      <td>0</td>\n",
              "      <td>0</td>\n",
              "      <td>0</td>\n",
              "      <td>0</td>\n",
              "      <td>0</td>\n",
              "      <td>0</td>\n",
              "      <td>0</td>\n",
              "      <td>0</td>\n",
              "      <td>0</td>\n",
              "      <td>0</td>\n",
              "      <td>0</td>\n",
              "      <td>0</td>\n",
              "      <td>0</td>\n",
              "      <td>0</td>\n",
              "      <td>0</td>\n",
              "      <td>0</td>\n",
              "      <td>0</td>\n",
              "      <td>0</td>\n",
              "      <td>0</td>\n",
              "      <td>...</td>\n",
              "      <td>0</td>\n",
              "      <td>0</td>\n",
              "      <td>0</td>\n",
              "      <td>0</td>\n",
              "      <td>0</td>\n",
              "      <td>0</td>\n",
              "      <td>0</td>\n",
              "      <td>0</td>\n",
              "      <td>0</td>\n",
              "      <td>0</td>\n",
              "      <td>0</td>\n",
              "      <td>0</td>\n",
              "      <td>0</td>\n",
              "      <td>0</td>\n",
              "      <td>0</td>\n",
              "      <td>0</td>\n",
              "      <td>0</td>\n",
              "      <td>0</td>\n",
              "      <td>0</td>\n",
              "      <td>0</td>\n",
              "      <td>0</td>\n",
              "      <td>0</td>\n",
              "      <td>0</td>\n",
              "      <td>0</td>\n",
              "      <td>0</td>\n",
              "      <td>0</td>\n",
              "      <td>0</td>\n",
              "      <td>0</td>\n",
              "      <td>0</td>\n",
              "      <td>0</td>\n",
              "      <td>0</td>\n",
              "      <td>0</td>\n",
              "      <td>0</td>\n",
              "      <td>0</td>\n",
              "      <td>0</td>\n",
              "      <td>0</td>\n",
              "      <td>0</td>\n",
              "      <td>0</td>\n",
              "      <td>0</td>\n",
              "      <td>0</td>\n",
              "    </tr>\n",
              "    <tr>\n",
              "      <th>aal</th>\n",
              "      <td>0</td>\n",
              "      <td>0</td>\n",
              "      <td>0</td>\n",
              "      <td>0</td>\n",
              "      <td>0</td>\n",
              "      <td>0</td>\n",
              "      <td>0</td>\n",
              "      <td>0</td>\n",
              "      <td>0</td>\n",
              "      <td>0</td>\n",
              "      <td>0</td>\n",
              "      <td>0</td>\n",
              "      <td>0</td>\n",
              "      <td>0</td>\n",
              "      <td>0</td>\n",
              "      <td>0</td>\n",
              "      <td>0</td>\n",
              "      <td>0</td>\n",
              "      <td>0</td>\n",
              "      <td>0</td>\n",
              "      <td>0</td>\n",
              "      <td>0</td>\n",
              "      <td>0</td>\n",
              "      <td>0</td>\n",
              "      <td>0</td>\n",
              "      <td>0</td>\n",
              "      <td>0</td>\n",
              "      <td>0</td>\n",
              "      <td>0</td>\n",
              "      <td>0</td>\n",
              "      <td>0</td>\n",
              "      <td>0</td>\n",
              "      <td>0</td>\n",
              "      <td>0</td>\n",
              "      <td>0</td>\n",
              "      <td>0</td>\n",
              "      <td>0</td>\n",
              "      <td>0</td>\n",
              "      <td>0</td>\n",
              "      <td>0</td>\n",
              "      <td>...</td>\n",
              "      <td>0</td>\n",
              "      <td>0</td>\n",
              "      <td>0</td>\n",
              "      <td>0</td>\n",
              "      <td>0</td>\n",
              "      <td>0</td>\n",
              "      <td>0</td>\n",
              "      <td>0</td>\n",
              "      <td>0</td>\n",
              "      <td>0</td>\n",
              "      <td>0</td>\n",
              "      <td>0</td>\n",
              "      <td>0</td>\n",
              "      <td>0</td>\n",
              "      <td>0</td>\n",
              "      <td>0</td>\n",
              "      <td>0</td>\n",
              "      <td>0</td>\n",
              "      <td>0</td>\n",
              "      <td>0</td>\n",
              "      <td>0</td>\n",
              "      <td>0</td>\n",
              "      <td>0</td>\n",
              "      <td>0</td>\n",
              "      <td>0</td>\n",
              "      <td>0</td>\n",
              "      <td>0</td>\n",
              "      <td>0</td>\n",
              "      <td>0</td>\n",
              "      <td>0</td>\n",
              "      <td>0</td>\n",
              "      <td>0</td>\n",
              "      <td>0</td>\n",
              "      <td>0</td>\n",
              "      <td>0</td>\n",
              "      <td>0</td>\n",
              "      <td>0</td>\n",
              "      <td>0</td>\n",
              "      <td>0</td>\n",
              "      <td>0</td>\n",
              "    </tr>\n",
              "    <tr>\n",
              "      <th>abandon</th>\n",
              "      <td>0</td>\n",
              "      <td>0</td>\n",
              "      <td>0</td>\n",
              "      <td>0</td>\n",
              "      <td>0</td>\n",
              "      <td>0</td>\n",
              "      <td>0</td>\n",
              "      <td>0</td>\n",
              "      <td>0</td>\n",
              "      <td>0</td>\n",
              "      <td>0</td>\n",
              "      <td>0</td>\n",
              "      <td>0</td>\n",
              "      <td>0</td>\n",
              "      <td>0</td>\n",
              "      <td>0</td>\n",
              "      <td>0</td>\n",
              "      <td>0</td>\n",
              "      <td>0</td>\n",
              "      <td>0</td>\n",
              "      <td>0</td>\n",
              "      <td>0</td>\n",
              "      <td>0</td>\n",
              "      <td>0</td>\n",
              "      <td>0</td>\n",
              "      <td>0</td>\n",
              "      <td>0</td>\n",
              "      <td>0</td>\n",
              "      <td>0</td>\n",
              "      <td>0</td>\n",
              "      <td>0</td>\n",
              "      <td>0</td>\n",
              "      <td>0</td>\n",
              "      <td>0</td>\n",
              "      <td>0</td>\n",
              "      <td>0</td>\n",
              "      <td>0</td>\n",
              "      <td>0</td>\n",
              "      <td>0</td>\n",
              "      <td>0</td>\n",
              "      <td>...</td>\n",
              "      <td>0</td>\n",
              "      <td>0</td>\n",
              "      <td>0</td>\n",
              "      <td>0</td>\n",
              "      <td>0</td>\n",
              "      <td>0</td>\n",
              "      <td>0</td>\n",
              "      <td>0</td>\n",
              "      <td>0</td>\n",
              "      <td>0</td>\n",
              "      <td>0</td>\n",
              "      <td>0</td>\n",
              "      <td>0</td>\n",
              "      <td>0</td>\n",
              "      <td>0</td>\n",
              "      <td>0</td>\n",
              "      <td>0</td>\n",
              "      <td>0</td>\n",
              "      <td>0</td>\n",
              "      <td>0</td>\n",
              "      <td>0</td>\n",
              "      <td>0</td>\n",
              "      <td>0</td>\n",
              "      <td>0</td>\n",
              "      <td>0</td>\n",
              "      <td>0</td>\n",
              "      <td>0</td>\n",
              "      <td>0</td>\n",
              "      <td>0</td>\n",
              "      <td>0</td>\n",
              "      <td>0</td>\n",
              "      <td>0</td>\n",
              "      <td>0</td>\n",
              "      <td>0</td>\n",
              "      <td>0</td>\n",
              "      <td>0</td>\n",
              "      <td>0</td>\n",
              "      <td>0</td>\n",
              "      <td>0</td>\n",
              "      <td>0</td>\n",
              "    </tr>\n",
              "    <tr>\n",
              "      <th>abc</th>\n",
              "      <td>0</td>\n",
              "      <td>0</td>\n",
              "      <td>0</td>\n",
              "      <td>0</td>\n",
              "      <td>0</td>\n",
              "      <td>0</td>\n",
              "      <td>0</td>\n",
              "      <td>0</td>\n",
              "      <td>0</td>\n",
              "      <td>0</td>\n",
              "      <td>0</td>\n",
              "      <td>0</td>\n",
              "      <td>0</td>\n",
              "      <td>0</td>\n",
              "      <td>0</td>\n",
              "      <td>0</td>\n",
              "      <td>0</td>\n",
              "      <td>0</td>\n",
              "      <td>0</td>\n",
              "      <td>0</td>\n",
              "      <td>0</td>\n",
              "      <td>0</td>\n",
              "      <td>0</td>\n",
              "      <td>0</td>\n",
              "      <td>0</td>\n",
              "      <td>0</td>\n",
              "      <td>0</td>\n",
              "      <td>0</td>\n",
              "      <td>0</td>\n",
              "      <td>0</td>\n",
              "      <td>0</td>\n",
              "      <td>0</td>\n",
              "      <td>0</td>\n",
              "      <td>0</td>\n",
              "      <td>0</td>\n",
              "      <td>0</td>\n",
              "      <td>0</td>\n",
              "      <td>0</td>\n",
              "      <td>0</td>\n",
              "      <td>0</td>\n",
              "      <td>...</td>\n",
              "      <td>0</td>\n",
              "      <td>0</td>\n",
              "      <td>0</td>\n",
              "      <td>0</td>\n",
              "      <td>0</td>\n",
              "      <td>0</td>\n",
              "      <td>0</td>\n",
              "      <td>0</td>\n",
              "      <td>0</td>\n",
              "      <td>0</td>\n",
              "      <td>0</td>\n",
              "      <td>0</td>\n",
              "      <td>0</td>\n",
              "      <td>0</td>\n",
              "      <td>0</td>\n",
              "      <td>0</td>\n",
              "      <td>0</td>\n",
              "      <td>0</td>\n",
              "      <td>0</td>\n",
              "      <td>0</td>\n",
              "      <td>0</td>\n",
              "      <td>0</td>\n",
              "      <td>0</td>\n",
              "      <td>0</td>\n",
              "      <td>0</td>\n",
              "      <td>0</td>\n",
              "      <td>0</td>\n",
              "      <td>0</td>\n",
              "      <td>0</td>\n",
              "      <td>0</td>\n",
              "      <td>0</td>\n",
              "      <td>0</td>\n",
              "      <td>0</td>\n",
              "      <td>0</td>\n",
              "      <td>0</td>\n",
              "      <td>0</td>\n",
              "      <td>0</td>\n",
              "      <td>0</td>\n",
              "      <td>0</td>\n",
              "      <td>0</td>\n",
              "    </tr>\n",
              "    <tr>\n",
              "      <th>abi</th>\n",
              "      <td>0</td>\n",
              "      <td>0</td>\n",
              "      <td>0</td>\n",
              "      <td>0</td>\n",
              "      <td>0</td>\n",
              "      <td>0</td>\n",
              "      <td>0</td>\n",
              "      <td>0</td>\n",
              "      <td>0</td>\n",
              "      <td>0</td>\n",
              "      <td>0</td>\n",
              "      <td>0</td>\n",
              "      <td>0</td>\n",
              "      <td>0</td>\n",
              "      <td>0</td>\n",
              "      <td>0</td>\n",
              "      <td>0</td>\n",
              "      <td>0</td>\n",
              "      <td>0</td>\n",
              "      <td>0</td>\n",
              "      <td>0</td>\n",
              "      <td>0</td>\n",
              "      <td>0</td>\n",
              "      <td>0</td>\n",
              "      <td>0</td>\n",
              "      <td>0</td>\n",
              "      <td>0</td>\n",
              "      <td>0</td>\n",
              "      <td>0</td>\n",
              "      <td>0</td>\n",
              "      <td>0</td>\n",
              "      <td>0</td>\n",
              "      <td>0</td>\n",
              "      <td>0</td>\n",
              "      <td>0</td>\n",
              "      <td>0</td>\n",
              "      <td>0</td>\n",
              "      <td>0</td>\n",
              "      <td>0</td>\n",
              "      <td>0</td>\n",
              "      <td>...</td>\n",
              "      <td>0</td>\n",
              "      <td>0</td>\n",
              "      <td>0</td>\n",
              "      <td>0</td>\n",
              "      <td>0</td>\n",
              "      <td>0</td>\n",
              "      <td>0</td>\n",
              "      <td>0</td>\n",
              "      <td>0</td>\n",
              "      <td>0</td>\n",
              "      <td>0</td>\n",
              "      <td>0</td>\n",
              "      <td>0</td>\n",
              "      <td>0</td>\n",
              "      <td>0</td>\n",
              "      <td>0</td>\n",
              "      <td>0</td>\n",
              "      <td>0</td>\n",
              "      <td>0</td>\n",
              "      <td>0</td>\n",
              "      <td>0</td>\n",
              "      <td>0</td>\n",
              "      <td>0</td>\n",
              "      <td>0</td>\n",
              "      <td>0</td>\n",
              "      <td>0</td>\n",
              "      <td>0</td>\n",
              "      <td>0</td>\n",
              "      <td>0</td>\n",
              "      <td>0</td>\n",
              "      <td>0</td>\n",
              "      <td>0</td>\n",
              "      <td>0</td>\n",
              "      <td>0</td>\n",
              "      <td>0</td>\n",
              "      <td>0</td>\n",
              "      <td>0</td>\n",
              "      <td>0</td>\n",
              "      <td>0</td>\n",
              "      <td>0</td>\n",
              "    </tr>\n",
              "    <tr>\n",
              "      <th>ability</th>\n",
              "      <td>0</td>\n",
              "      <td>0</td>\n",
              "      <td>0</td>\n",
              "      <td>0</td>\n",
              "      <td>0</td>\n",
              "      <td>0</td>\n",
              "      <td>0</td>\n",
              "      <td>0</td>\n",
              "      <td>0</td>\n",
              "      <td>0</td>\n",
              "      <td>0</td>\n",
              "      <td>0</td>\n",
              "      <td>0</td>\n",
              "      <td>0</td>\n",
              "      <td>0</td>\n",
              "      <td>0</td>\n",
              "      <td>0</td>\n",
              "      <td>0</td>\n",
              "      <td>0</td>\n",
              "      <td>0</td>\n",
              "      <td>0</td>\n",
              "      <td>0</td>\n",
              "      <td>0</td>\n",
              "      <td>0</td>\n",
              "      <td>0</td>\n",
              "      <td>0</td>\n",
              "      <td>0</td>\n",
              "      <td>0</td>\n",
              "      <td>0</td>\n",
              "      <td>0</td>\n",
              "      <td>0</td>\n",
              "      <td>0</td>\n",
              "      <td>0</td>\n",
              "      <td>0</td>\n",
              "      <td>0</td>\n",
              "      <td>0</td>\n",
              "      <td>0</td>\n",
              "      <td>0</td>\n",
              "      <td>0</td>\n",
              "      <td>0</td>\n",
              "      <td>...</td>\n",
              "      <td>0</td>\n",
              "      <td>0</td>\n",
              "      <td>0</td>\n",
              "      <td>0</td>\n",
              "      <td>0</td>\n",
              "      <td>0</td>\n",
              "      <td>0</td>\n",
              "      <td>0</td>\n",
              "      <td>0</td>\n",
              "      <td>0</td>\n",
              "      <td>0</td>\n",
              "      <td>0</td>\n",
              "      <td>0</td>\n",
              "      <td>0</td>\n",
              "      <td>0</td>\n",
              "      <td>0</td>\n",
              "      <td>0</td>\n",
              "      <td>0</td>\n",
              "      <td>0</td>\n",
              "      <td>0</td>\n",
              "      <td>0</td>\n",
              "      <td>0</td>\n",
              "      <td>0</td>\n",
              "      <td>0</td>\n",
              "      <td>0</td>\n",
              "      <td>0</td>\n",
              "      <td>0</td>\n",
              "      <td>0</td>\n",
              "      <td>0</td>\n",
              "      <td>0</td>\n",
              "      <td>0</td>\n",
              "      <td>0</td>\n",
              "      <td>0</td>\n",
              "      <td>0</td>\n",
              "      <td>0</td>\n",
              "      <td>0</td>\n",
              "      <td>0</td>\n",
              "      <td>0</td>\n",
              "      <td>0</td>\n",
              "      <td>0</td>\n",
              "    </tr>\n",
              "    <tr>\n",
              "      <th>able</th>\n",
              "      <td>0</td>\n",
              "      <td>0</td>\n",
              "      <td>0</td>\n",
              "      <td>0</td>\n",
              "      <td>0</td>\n",
              "      <td>0</td>\n",
              "      <td>0</td>\n",
              "      <td>0</td>\n",
              "      <td>0</td>\n",
              "      <td>0</td>\n",
              "      <td>0</td>\n",
              "      <td>0</td>\n",
              "      <td>0</td>\n",
              "      <td>0</td>\n",
              "      <td>0</td>\n",
              "      <td>0</td>\n",
              "      <td>0</td>\n",
              "      <td>0</td>\n",
              "      <td>0</td>\n",
              "      <td>0</td>\n",
              "      <td>0</td>\n",
              "      <td>0</td>\n",
              "      <td>0</td>\n",
              "      <td>0</td>\n",
              "      <td>0</td>\n",
              "      <td>0</td>\n",
              "      <td>1</td>\n",
              "      <td>0</td>\n",
              "      <td>0</td>\n",
              "      <td>0</td>\n",
              "      <td>0</td>\n",
              "      <td>0</td>\n",
              "      <td>0</td>\n",
              "      <td>0</td>\n",
              "      <td>0</td>\n",
              "      <td>0</td>\n",
              "      <td>0</td>\n",
              "      <td>0</td>\n",
              "      <td>0</td>\n",
              "      <td>0</td>\n",
              "      <td>...</td>\n",
              "      <td>0</td>\n",
              "      <td>0</td>\n",
              "      <td>0</td>\n",
              "      <td>0</td>\n",
              "      <td>0</td>\n",
              "      <td>0</td>\n",
              "      <td>0</td>\n",
              "      <td>0</td>\n",
              "      <td>0</td>\n",
              "      <td>0</td>\n",
              "      <td>0</td>\n",
              "      <td>0</td>\n",
              "      <td>0</td>\n",
              "      <td>0</td>\n",
              "      <td>0</td>\n",
              "      <td>0</td>\n",
              "      <td>0</td>\n",
              "      <td>0</td>\n",
              "      <td>0</td>\n",
              "      <td>0</td>\n",
              "      <td>0</td>\n",
              "      <td>0</td>\n",
              "      <td>0</td>\n",
              "      <td>0</td>\n",
              "      <td>0</td>\n",
              "      <td>0</td>\n",
              "      <td>0</td>\n",
              "      <td>0</td>\n",
              "      <td>0</td>\n",
              "      <td>0</td>\n",
              "      <td>0</td>\n",
              "      <td>0</td>\n",
              "      <td>0</td>\n",
              "      <td>0</td>\n",
              "      <td>0</td>\n",
              "      <td>0</td>\n",
              "      <td>0</td>\n",
              "      <td>0</td>\n",
              "      <td>0</td>\n",
              "      <td>0</td>\n",
              "    </tr>\n",
              "  </tbody>\n",
              "</table>\n",
              "<p>10 rows × 14640 columns</p>\n",
              "</div>"
            ],
            "text/plain": [
              "            0      1      2      3      ...  14636  14637  14638  14639\n",
              "aa              0      0      0      0  ...      0      0      0      0\n",
              "aadv            0      0      0      0  ...      0      0      0      0\n",
              "aadvantage      0      0      0      0  ...      0      0      0      0\n",
              "aafail          0      0      0      0  ...      0      0      0      0\n",
              "aal             0      0      0      0  ...      0      0      0      0\n",
              "abandon         0      0      0      0  ...      0      0      0      0\n",
              "abc             0      0      0      0  ...      0      0      0      0\n",
              "abi             0      0      0      0  ...      0      0      0      0\n",
              "ability         0      0      0      0  ...      0      0      0      0\n",
              "able            0      0      0      0  ...      0      0      0      0\n",
              "\n",
              "[10 rows x 14640 columns]"
            ]
          },
          "metadata": {
            "tags": []
          },
          "execution_count": 81
        }
      ]
    },
    {
      "cell_type": "code",
      "metadata": {
        "id": "5Wqi-rkvb0mm",
        "colab": {
          "base_uri": "https://localhost:8080/",
          "height": 969
        },
        "outputId": "e94ee58a-7d2c-4f81-d180-3f682f934b92"
      },
      "source": [
        "train_data_features = X_count_features.toarray()\n",
        "dist = np.sum(train_data_features, axis=0)\n",
        "df_count = pd.DataFrame(feature_names,columns=['Feature'])\n",
        "#for tag, count in zip(feature_names, dist):\n",
        "    #print (count, tag)\n",
        "df_count['Count'] = dist \n",
        "#df_count.sort_values(by=df_count['Count'],ascending=False,axis=1,inplace=True)\n",
        "df_count.head(30)\n",
        "#df_count.to_csv('Word_Freq.csv')"
      ],
      "execution_count": 82,
      "outputs": [
        {
          "output_type": "execute_result",
          "data": {
            "text/html": [
              "<div>\n",
              "<style scoped>\n",
              "    .dataframe tbody tr th:only-of-type {\n",
              "        vertical-align: middle;\n",
              "    }\n",
              "\n",
              "    .dataframe tbody tr th {\n",
              "        vertical-align: top;\n",
              "    }\n",
              "\n",
              "    .dataframe thead th {\n",
              "        text-align: right;\n",
              "    }\n",
              "</style>\n",
              "<table border=\"1\" class=\"dataframe\">\n",
              "  <thead>\n",
              "    <tr style=\"text-align: right;\">\n",
              "      <th></th>\n",
              "      <th>Feature</th>\n",
              "      <th>Count</th>\n",
              "    </tr>\n",
              "  </thead>\n",
              "  <tbody>\n",
              "    <tr>\n",
              "      <th>0</th>\n",
              "      <td>aa</td>\n",
              "      <td>293</td>\n",
              "    </tr>\n",
              "    <tr>\n",
              "      <th>1</th>\n",
              "      <td>aadv</td>\n",
              "      <td>2</td>\n",
              "    </tr>\n",
              "    <tr>\n",
              "      <th>2</th>\n",
              "      <td>aadvantage</td>\n",
              "      <td>10</td>\n",
              "    </tr>\n",
              "    <tr>\n",
              "      <th>3</th>\n",
              "      <td>aafail</td>\n",
              "      <td>2</td>\n",
              "    </tr>\n",
              "    <tr>\n",
              "      <th>4</th>\n",
              "      <td>aal</td>\n",
              "      <td>2</td>\n",
              "    </tr>\n",
              "    <tr>\n",
              "      <th>5</th>\n",
              "      <td>abandon</td>\n",
              "      <td>3</td>\n",
              "    </tr>\n",
              "    <tr>\n",
              "      <th>6</th>\n",
              "      <td>abc</td>\n",
              "      <td>8</td>\n",
              "    </tr>\n",
              "    <tr>\n",
              "      <th>7</th>\n",
              "      <td>abi</td>\n",
              "      <td>2</td>\n",
              "    </tr>\n",
              "    <tr>\n",
              "      <th>8</th>\n",
              "      <td>ability</td>\n",
              "      <td>7</td>\n",
              "    </tr>\n",
              "    <tr>\n",
              "      <th>9</th>\n",
              "      <td>able</td>\n",
              "      <td>121</td>\n",
              "    </tr>\n",
              "    <tr>\n",
              "      <th>10</th>\n",
              "      <td>aboard</td>\n",
              "      <td>4</td>\n",
              "    </tr>\n",
              "    <tr>\n",
              "      <th>11</th>\n",
              "      <td>abq</td>\n",
              "      <td>9</td>\n",
              "    </tr>\n",
              "    <tr>\n",
              "      <th>12</th>\n",
              "      <td>abroad</td>\n",
              "      <td>2</td>\n",
              "    </tr>\n",
              "    <tr>\n",
              "      <th>13</th>\n",
              "      <td>absolute</td>\n",
              "      <td>22</td>\n",
              "    </tr>\n",
              "    <tr>\n",
              "      <th>14</th>\n",
              "      <td>absolutely</td>\n",
              "      <td>30</td>\n",
              "    </tr>\n",
              "    <tr>\n",
              "      <th>15</th>\n",
              "      <td>absurd</td>\n",
              "      <td>13</td>\n",
              "    </tr>\n",
              "    <tr>\n",
              "      <th>16</th>\n",
              "      <td>abuse</td>\n",
              "      <td>3</td>\n",
              "    </tr>\n",
              "    <tr>\n",
              "      <th>17</th>\n",
              "      <td>abysmal</td>\n",
              "      <td>6</td>\n",
              "    </tr>\n",
              "    <tr>\n",
              "      <th>18</th>\n",
              "      <td>ac</td>\n",
              "      <td>4</td>\n",
              "    </tr>\n",
              "    <tr>\n",
              "      <th>19</th>\n",
              "      <td>accept</td>\n",
              "      <td>32</td>\n",
              "    </tr>\n",
              "    <tr>\n",
              "      <th>20</th>\n",
              "      <td>acceptable</td>\n",
              "      <td>23</td>\n",
              "    </tr>\n",
              "    <tr>\n",
              "      <th>21</th>\n",
              "      <td>access</td>\n",
              "      <td>39</td>\n",
              "    </tr>\n",
              "    <tr>\n",
              "      <th>22</th>\n",
              "      <td>accident</td>\n",
              "      <td>6</td>\n",
              "    </tr>\n",
              "    <tr>\n",
              "      <th>23</th>\n",
              "      <td>accidentally</td>\n",
              "      <td>4</td>\n",
              "    </tr>\n",
              "    <tr>\n",
              "      <th>24</th>\n",
              "      <td>accommodate</td>\n",
              "      <td>23</td>\n",
              "    </tr>\n",
              "    <tr>\n",
              "      <th>25</th>\n",
              "      <td>accommodating</td>\n",
              "      <td>3</td>\n",
              "    </tr>\n",
              "    <tr>\n",
              "      <th>26</th>\n",
              "      <td>accommodation</td>\n",
              "      <td>10</td>\n",
              "    </tr>\n",
              "    <tr>\n",
              "      <th>27</th>\n",
              "      <td>accomplish</td>\n",
              "      <td>3</td>\n",
              "    </tr>\n",
              "    <tr>\n",
              "      <th>28</th>\n",
              "      <td>accord</td>\n",
              "      <td>11</td>\n",
              "    </tr>\n",
              "    <tr>\n",
              "      <th>29</th>\n",
              "      <td>accordingly</td>\n",
              "      <td>4</td>\n",
              "    </tr>\n",
              "  </tbody>\n",
              "</table>\n",
              "</div>"
            ],
            "text/plain": [
              "          Feature  Count\n",
              "0              aa    293\n",
              "1            aadv      2\n",
              "2      aadvantage     10\n",
              "3          aafail      2\n",
              "4             aal      2\n",
              "5         abandon      3\n",
              "6             abc      8\n",
              "7             abi      2\n",
              "8         ability      7\n",
              "9            able    121\n",
              "10         aboard      4\n",
              "11            abq      9\n",
              "12         abroad      2\n",
              "13       absolute     22\n",
              "14     absolutely     30\n",
              "15         absurd     13\n",
              "16          abuse      3\n",
              "17        abysmal      6\n",
              "18             ac      4\n",
              "19         accept     32\n",
              "20     acceptable     23\n",
              "21         access     39\n",
              "22       accident      6\n",
              "23   accidentally      4\n",
              "24    accommodate     23\n",
              "25  accommodating      3\n",
              "26  accommodation     10\n",
              "27     accomplish      3\n",
              "28         accord     11\n",
              "29    accordingly      4"
            ]
          },
          "metadata": {
            "tags": []
          },
          "execution_count": 82
        }
      ]
    },
    {
      "cell_type": "markdown",
      "metadata": {
        "id": "8TSQGOB3AZUs"
      },
      "source": [
        "**TF-IDF Vectorization**"
      ]
    },
    {
      "cell_type": "code",
      "metadata": {
        "id": "l9OiO9gKAdxq"
      },
      "source": [
        "tfidf_vector = TfidfVectorizer(max_features=5000)#,ngram_range=(1,2)\n",
        "X_tfidf_features = tfidf_vector.fit_transform(processed_df['text'])"
      ],
      "execution_count": 133,
      "outputs": []
    },
    {
      "cell_type": "code",
      "metadata": {
        "colab": {
          "base_uri": "https://localhost:8080/"
        },
        "id": "_kWmo5hfAM0Y",
        "outputId": "78367d0f-d863-4cdf-a8ca-a51be37d820f"
      },
      "source": [
        "X_tfidf_features.shape"
      ],
      "execution_count": 134,
      "outputs": [
        {
          "output_type": "execute_result",
          "data": {
            "text/plain": [
              "(14640, 5000)"
            ]
          },
          "metadata": {
            "tags": []
          },
          "execution_count": 134
        }
      ]
    },
    {
      "cell_type": "code",
      "metadata": {
        "colab": {
          "base_uri": "https://localhost:8080/",
          "height": 251
        },
        "id": "PgwlkGI0AuTw",
        "outputId": "45f3be5c-0e24-4b3c-a5a7-26406012de92"
      },
      "source": [
        "feature_names = tfidf_vector.get_feature_names()\n",
        "corpus_index = [n for n in range(X_tfidf_features.shape[0])]\n",
        "df_tfidf = pd.DataFrame(X_tfidf_features.T.todense(), index=feature_names, columns=corpus_index)\n",
        "df_tfidf.head()"
      ],
      "execution_count": 135,
      "outputs": [
        {
          "output_type": "execute_result",
          "data": {
            "text/html": [
              "<div>\n",
              "<style scoped>\n",
              "    .dataframe tbody tr th:only-of-type {\n",
              "        vertical-align: middle;\n",
              "    }\n",
              "\n",
              "    .dataframe tbody tr th {\n",
              "        vertical-align: top;\n",
              "    }\n",
              "\n",
              "    .dataframe thead th {\n",
              "        text-align: right;\n",
              "    }\n",
              "</style>\n",
              "<table border=\"1\" class=\"dataframe\">\n",
              "  <thead>\n",
              "    <tr style=\"text-align: right;\">\n",
              "      <th></th>\n",
              "      <th>0</th>\n",
              "      <th>1</th>\n",
              "      <th>2</th>\n",
              "      <th>3</th>\n",
              "      <th>4</th>\n",
              "      <th>5</th>\n",
              "      <th>6</th>\n",
              "      <th>7</th>\n",
              "      <th>8</th>\n",
              "      <th>9</th>\n",
              "      <th>10</th>\n",
              "      <th>11</th>\n",
              "      <th>12</th>\n",
              "      <th>13</th>\n",
              "      <th>14</th>\n",
              "      <th>15</th>\n",
              "      <th>16</th>\n",
              "      <th>17</th>\n",
              "      <th>18</th>\n",
              "      <th>19</th>\n",
              "      <th>20</th>\n",
              "      <th>21</th>\n",
              "      <th>22</th>\n",
              "      <th>23</th>\n",
              "      <th>24</th>\n",
              "      <th>25</th>\n",
              "      <th>26</th>\n",
              "      <th>27</th>\n",
              "      <th>28</th>\n",
              "      <th>29</th>\n",
              "      <th>30</th>\n",
              "      <th>31</th>\n",
              "      <th>32</th>\n",
              "      <th>33</th>\n",
              "      <th>34</th>\n",
              "      <th>35</th>\n",
              "      <th>36</th>\n",
              "      <th>37</th>\n",
              "      <th>38</th>\n",
              "      <th>39</th>\n",
              "      <th>...</th>\n",
              "      <th>14600</th>\n",
              "      <th>14601</th>\n",
              "      <th>14602</th>\n",
              "      <th>14603</th>\n",
              "      <th>14604</th>\n",
              "      <th>14605</th>\n",
              "      <th>14606</th>\n",
              "      <th>14607</th>\n",
              "      <th>14608</th>\n",
              "      <th>14609</th>\n",
              "      <th>14610</th>\n",
              "      <th>14611</th>\n",
              "      <th>14612</th>\n",
              "      <th>14613</th>\n",
              "      <th>14614</th>\n",
              "      <th>14615</th>\n",
              "      <th>14616</th>\n",
              "      <th>14617</th>\n",
              "      <th>14618</th>\n",
              "      <th>14619</th>\n",
              "      <th>14620</th>\n",
              "      <th>14621</th>\n",
              "      <th>14622</th>\n",
              "      <th>14623</th>\n",
              "      <th>14624</th>\n",
              "      <th>14625</th>\n",
              "      <th>14626</th>\n",
              "      <th>14627</th>\n",
              "      <th>14628</th>\n",
              "      <th>14629</th>\n",
              "      <th>14630</th>\n",
              "      <th>14631</th>\n",
              "      <th>14632</th>\n",
              "      <th>14633</th>\n",
              "      <th>14634</th>\n",
              "      <th>14635</th>\n",
              "      <th>14636</th>\n",
              "      <th>14637</th>\n",
              "      <th>14638</th>\n",
              "      <th>14639</th>\n",
              "    </tr>\n",
              "  </thead>\n",
              "  <tbody>\n",
              "    <tr>\n",
              "      <th>aa</th>\n",
              "      <td>0.0</td>\n",
              "      <td>0.0</td>\n",
              "      <td>0.0</td>\n",
              "      <td>0.0</td>\n",
              "      <td>0.0</td>\n",
              "      <td>0.0</td>\n",
              "      <td>0.0</td>\n",
              "      <td>0.0</td>\n",
              "      <td>0.0</td>\n",
              "      <td>0.0</td>\n",
              "      <td>0.0</td>\n",
              "      <td>0.0</td>\n",
              "      <td>0.0</td>\n",
              "      <td>0.0</td>\n",
              "      <td>0.0</td>\n",
              "      <td>0.0</td>\n",
              "      <td>0.0</td>\n",
              "      <td>0.0</td>\n",
              "      <td>0.0</td>\n",
              "      <td>0.0</td>\n",
              "      <td>0.0</td>\n",
              "      <td>0.0</td>\n",
              "      <td>0.0</td>\n",
              "      <td>0.0</td>\n",
              "      <td>0.0</td>\n",
              "      <td>0.0</td>\n",
              "      <td>0.0</td>\n",
              "      <td>0.0</td>\n",
              "      <td>0.0</td>\n",
              "      <td>0.0</td>\n",
              "      <td>0.0</td>\n",
              "      <td>0.0</td>\n",
              "      <td>0.0</td>\n",
              "      <td>0.0</td>\n",
              "      <td>0.0</td>\n",
              "      <td>0.0</td>\n",
              "      <td>0.0</td>\n",
              "      <td>0.0</td>\n",
              "      <td>0.0</td>\n",
              "      <td>0.0</td>\n",
              "      <td>...</td>\n",
              "      <td>0.0</td>\n",
              "      <td>0.0</td>\n",
              "      <td>0.0</td>\n",
              "      <td>0.0</td>\n",
              "      <td>0.33139</td>\n",
              "      <td>0.0</td>\n",
              "      <td>0.0</td>\n",
              "      <td>0.0</td>\n",
              "      <td>0.0</td>\n",
              "      <td>0.0</td>\n",
              "      <td>0.0</td>\n",
              "      <td>0.0</td>\n",
              "      <td>0.0</td>\n",
              "      <td>0.0</td>\n",
              "      <td>0.0</td>\n",
              "      <td>0.0</td>\n",
              "      <td>0.263784</td>\n",
              "      <td>0.0</td>\n",
              "      <td>0.0</td>\n",
              "      <td>0.0</td>\n",
              "      <td>0.0</td>\n",
              "      <td>0.0</td>\n",
              "      <td>0.0</td>\n",
              "      <td>0.0</td>\n",
              "      <td>0.0</td>\n",
              "      <td>0.0</td>\n",
              "      <td>0.0</td>\n",
              "      <td>0.0</td>\n",
              "      <td>0.0</td>\n",
              "      <td>0.0</td>\n",
              "      <td>0.0</td>\n",
              "      <td>0.0</td>\n",
              "      <td>0.0</td>\n",
              "      <td>0.0</td>\n",
              "      <td>0.0</td>\n",
              "      <td>0.0</td>\n",
              "      <td>0.0</td>\n",
              "      <td>0.0</td>\n",
              "      <td>0.0</td>\n",
              "      <td>0.0</td>\n",
              "    </tr>\n",
              "    <tr>\n",
              "      <th>aadv</th>\n",
              "      <td>0.0</td>\n",
              "      <td>0.0</td>\n",
              "      <td>0.0</td>\n",
              "      <td>0.0</td>\n",
              "      <td>0.0</td>\n",
              "      <td>0.0</td>\n",
              "      <td>0.0</td>\n",
              "      <td>0.0</td>\n",
              "      <td>0.0</td>\n",
              "      <td>0.0</td>\n",
              "      <td>0.0</td>\n",
              "      <td>0.0</td>\n",
              "      <td>0.0</td>\n",
              "      <td>0.0</td>\n",
              "      <td>0.0</td>\n",
              "      <td>0.0</td>\n",
              "      <td>0.0</td>\n",
              "      <td>0.0</td>\n",
              "      <td>0.0</td>\n",
              "      <td>0.0</td>\n",
              "      <td>0.0</td>\n",
              "      <td>0.0</td>\n",
              "      <td>0.0</td>\n",
              "      <td>0.0</td>\n",
              "      <td>0.0</td>\n",
              "      <td>0.0</td>\n",
              "      <td>0.0</td>\n",
              "      <td>0.0</td>\n",
              "      <td>0.0</td>\n",
              "      <td>0.0</td>\n",
              "      <td>0.0</td>\n",
              "      <td>0.0</td>\n",
              "      <td>0.0</td>\n",
              "      <td>0.0</td>\n",
              "      <td>0.0</td>\n",
              "      <td>0.0</td>\n",
              "      <td>0.0</td>\n",
              "      <td>0.0</td>\n",
              "      <td>0.0</td>\n",
              "      <td>0.0</td>\n",
              "      <td>...</td>\n",
              "      <td>0.0</td>\n",
              "      <td>0.0</td>\n",
              "      <td>0.0</td>\n",
              "      <td>0.0</td>\n",
              "      <td>0.00000</td>\n",
              "      <td>0.0</td>\n",
              "      <td>0.0</td>\n",
              "      <td>0.0</td>\n",
              "      <td>0.0</td>\n",
              "      <td>0.0</td>\n",
              "      <td>0.0</td>\n",
              "      <td>0.0</td>\n",
              "      <td>0.0</td>\n",
              "      <td>0.0</td>\n",
              "      <td>0.0</td>\n",
              "      <td>0.0</td>\n",
              "      <td>0.000000</td>\n",
              "      <td>0.0</td>\n",
              "      <td>0.0</td>\n",
              "      <td>0.0</td>\n",
              "      <td>0.0</td>\n",
              "      <td>0.0</td>\n",
              "      <td>0.0</td>\n",
              "      <td>0.0</td>\n",
              "      <td>0.0</td>\n",
              "      <td>0.0</td>\n",
              "      <td>0.0</td>\n",
              "      <td>0.0</td>\n",
              "      <td>0.0</td>\n",
              "      <td>0.0</td>\n",
              "      <td>0.0</td>\n",
              "      <td>0.0</td>\n",
              "      <td>0.0</td>\n",
              "      <td>0.0</td>\n",
              "      <td>0.0</td>\n",
              "      <td>0.0</td>\n",
              "      <td>0.0</td>\n",
              "      <td>0.0</td>\n",
              "      <td>0.0</td>\n",
              "      <td>0.0</td>\n",
              "    </tr>\n",
              "    <tr>\n",
              "      <th>aadvantage</th>\n",
              "      <td>0.0</td>\n",
              "      <td>0.0</td>\n",
              "      <td>0.0</td>\n",
              "      <td>0.0</td>\n",
              "      <td>0.0</td>\n",
              "      <td>0.0</td>\n",
              "      <td>0.0</td>\n",
              "      <td>0.0</td>\n",
              "      <td>0.0</td>\n",
              "      <td>0.0</td>\n",
              "      <td>0.0</td>\n",
              "      <td>0.0</td>\n",
              "      <td>0.0</td>\n",
              "      <td>0.0</td>\n",
              "      <td>0.0</td>\n",
              "      <td>0.0</td>\n",
              "      <td>0.0</td>\n",
              "      <td>0.0</td>\n",
              "      <td>0.0</td>\n",
              "      <td>0.0</td>\n",
              "      <td>0.0</td>\n",
              "      <td>0.0</td>\n",
              "      <td>0.0</td>\n",
              "      <td>0.0</td>\n",
              "      <td>0.0</td>\n",
              "      <td>0.0</td>\n",
              "      <td>0.0</td>\n",
              "      <td>0.0</td>\n",
              "      <td>0.0</td>\n",
              "      <td>0.0</td>\n",
              "      <td>0.0</td>\n",
              "      <td>0.0</td>\n",
              "      <td>0.0</td>\n",
              "      <td>0.0</td>\n",
              "      <td>0.0</td>\n",
              "      <td>0.0</td>\n",
              "      <td>0.0</td>\n",
              "      <td>0.0</td>\n",
              "      <td>0.0</td>\n",
              "      <td>0.0</td>\n",
              "      <td>...</td>\n",
              "      <td>0.0</td>\n",
              "      <td>0.0</td>\n",
              "      <td>0.0</td>\n",
              "      <td>0.0</td>\n",
              "      <td>0.00000</td>\n",
              "      <td>0.0</td>\n",
              "      <td>0.0</td>\n",
              "      <td>0.0</td>\n",
              "      <td>0.0</td>\n",
              "      <td>0.0</td>\n",
              "      <td>0.0</td>\n",
              "      <td>0.0</td>\n",
              "      <td>0.0</td>\n",
              "      <td>0.0</td>\n",
              "      <td>0.0</td>\n",
              "      <td>0.0</td>\n",
              "      <td>0.000000</td>\n",
              "      <td>0.0</td>\n",
              "      <td>0.0</td>\n",
              "      <td>0.0</td>\n",
              "      <td>0.0</td>\n",
              "      <td>0.0</td>\n",
              "      <td>0.0</td>\n",
              "      <td>0.0</td>\n",
              "      <td>0.0</td>\n",
              "      <td>0.0</td>\n",
              "      <td>0.0</td>\n",
              "      <td>0.0</td>\n",
              "      <td>0.0</td>\n",
              "      <td>0.0</td>\n",
              "      <td>0.0</td>\n",
              "      <td>0.0</td>\n",
              "      <td>0.0</td>\n",
              "      <td>0.0</td>\n",
              "      <td>0.0</td>\n",
              "      <td>0.0</td>\n",
              "      <td>0.0</td>\n",
              "      <td>0.0</td>\n",
              "      <td>0.0</td>\n",
              "      <td>0.0</td>\n",
              "    </tr>\n",
              "    <tr>\n",
              "      <th>aafail</th>\n",
              "      <td>0.0</td>\n",
              "      <td>0.0</td>\n",
              "      <td>0.0</td>\n",
              "      <td>0.0</td>\n",
              "      <td>0.0</td>\n",
              "      <td>0.0</td>\n",
              "      <td>0.0</td>\n",
              "      <td>0.0</td>\n",
              "      <td>0.0</td>\n",
              "      <td>0.0</td>\n",
              "      <td>0.0</td>\n",
              "      <td>0.0</td>\n",
              "      <td>0.0</td>\n",
              "      <td>0.0</td>\n",
              "      <td>0.0</td>\n",
              "      <td>0.0</td>\n",
              "      <td>0.0</td>\n",
              "      <td>0.0</td>\n",
              "      <td>0.0</td>\n",
              "      <td>0.0</td>\n",
              "      <td>0.0</td>\n",
              "      <td>0.0</td>\n",
              "      <td>0.0</td>\n",
              "      <td>0.0</td>\n",
              "      <td>0.0</td>\n",
              "      <td>0.0</td>\n",
              "      <td>0.0</td>\n",
              "      <td>0.0</td>\n",
              "      <td>0.0</td>\n",
              "      <td>0.0</td>\n",
              "      <td>0.0</td>\n",
              "      <td>0.0</td>\n",
              "      <td>0.0</td>\n",
              "      <td>0.0</td>\n",
              "      <td>0.0</td>\n",
              "      <td>0.0</td>\n",
              "      <td>0.0</td>\n",
              "      <td>0.0</td>\n",
              "      <td>0.0</td>\n",
              "      <td>0.0</td>\n",
              "      <td>...</td>\n",
              "      <td>0.0</td>\n",
              "      <td>0.0</td>\n",
              "      <td>0.0</td>\n",
              "      <td>0.0</td>\n",
              "      <td>0.00000</td>\n",
              "      <td>0.0</td>\n",
              "      <td>0.0</td>\n",
              "      <td>0.0</td>\n",
              "      <td>0.0</td>\n",
              "      <td>0.0</td>\n",
              "      <td>0.0</td>\n",
              "      <td>0.0</td>\n",
              "      <td>0.0</td>\n",
              "      <td>0.0</td>\n",
              "      <td>0.0</td>\n",
              "      <td>0.0</td>\n",
              "      <td>0.000000</td>\n",
              "      <td>0.0</td>\n",
              "      <td>0.0</td>\n",
              "      <td>0.0</td>\n",
              "      <td>0.0</td>\n",
              "      <td>0.0</td>\n",
              "      <td>0.0</td>\n",
              "      <td>0.0</td>\n",
              "      <td>0.0</td>\n",
              "      <td>0.0</td>\n",
              "      <td>0.0</td>\n",
              "      <td>0.0</td>\n",
              "      <td>0.0</td>\n",
              "      <td>0.0</td>\n",
              "      <td>0.0</td>\n",
              "      <td>0.0</td>\n",
              "      <td>0.0</td>\n",
              "      <td>0.0</td>\n",
              "      <td>0.0</td>\n",
              "      <td>0.0</td>\n",
              "      <td>0.0</td>\n",
              "      <td>0.0</td>\n",
              "      <td>0.0</td>\n",
              "      <td>0.0</td>\n",
              "    </tr>\n",
              "    <tr>\n",
              "      <th>aal</th>\n",
              "      <td>0.0</td>\n",
              "      <td>0.0</td>\n",
              "      <td>0.0</td>\n",
              "      <td>0.0</td>\n",
              "      <td>0.0</td>\n",
              "      <td>0.0</td>\n",
              "      <td>0.0</td>\n",
              "      <td>0.0</td>\n",
              "      <td>0.0</td>\n",
              "      <td>0.0</td>\n",
              "      <td>0.0</td>\n",
              "      <td>0.0</td>\n",
              "      <td>0.0</td>\n",
              "      <td>0.0</td>\n",
              "      <td>0.0</td>\n",
              "      <td>0.0</td>\n",
              "      <td>0.0</td>\n",
              "      <td>0.0</td>\n",
              "      <td>0.0</td>\n",
              "      <td>0.0</td>\n",
              "      <td>0.0</td>\n",
              "      <td>0.0</td>\n",
              "      <td>0.0</td>\n",
              "      <td>0.0</td>\n",
              "      <td>0.0</td>\n",
              "      <td>0.0</td>\n",
              "      <td>0.0</td>\n",
              "      <td>0.0</td>\n",
              "      <td>0.0</td>\n",
              "      <td>0.0</td>\n",
              "      <td>0.0</td>\n",
              "      <td>0.0</td>\n",
              "      <td>0.0</td>\n",
              "      <td>0.0</td>\n",
              "      <td>0.0</td>\n",
              "      <td>0.0</td>\n",
              "      <td>0.0</td>\n",
              "      <td>0.0</td>\n",
              "      <td>0.0</td>\n",
              "      <td>0.0</td>\n",
              "      <td>...</td>\n",
              "      <td>0.0</td>\n",
              "      <td>0.0</td>\n",
              "      <td>0.0</td>\n",
              "      <td>0.0</td>\n",
              "      <td>0.00000</td>\n",
              "      <td>0.0</td>\n",
              "      <td>0.0</td>\n",
              "      <td>0.0</td>\n",
              "      <td>0.0</td>\n",
              "      <td>0.0</td>\n",
              "      <td>0.0</td>\n",
              "      <td>0.0</td>\n",
              "      <td>0.0</td>\n",
              "      <td>0.0</td>\n",
              "      <td>0.0</td>\n",
              "      <td>0.0</td>\n",
              "      <td>0.000000</td>\n",
              "      <td>0.0</td>\n",
              "      <td>0.0</td>\n",
              "      <td>0.0</td>\n",
              "      <td>0.0</td>\n",
              "      <td>0.0</td>\n",
              "      <td>0.0</td>\n",
              "      <td>0.0</td>\n",
              "      <td>0.0</td>\n",
              "      <td>0.0</td>\n",
              "      <td>0.0</td>\n",
              "      <td>0.0</td>\n",
              "      <td>0.0</td>\n",
              "      <td>0.0</td>\n",
              "      <td>0.0</td>\n",
              "      <td>0.0</td>\n",
              "      <td>0.0</td>\n",
              "      <td>0.0</td>\n",
              "      <td>0.0</td>\n",
              "      <td>0.0</td>\n",
              "      <td>0.0</td>\n",
              "      <td>0.0</td>\n",
              "      <td>0.0</td>\n",
              "      <td>0.0</td>\n",
              "    </tr>\n",
              "  </tbody>\n",
              "</table>\n",
              "<p>5 rows × 14640 columns</p>\n",
              "</div>"
            ],
            "text/plain": [
              "            0      1      2      3      ...  14636  14637  14638  14639\n",
              "aa            0.0    0.0    0.0    0.0  ...    0.0    0.0    0.0    0.0\n",
              "aadv          0.0    0.0    0.0    0.0  ...    0.0    0.0    0.0    0.0\n",
              "aadvantage    0.0    0.0    0.0    0.0  ...    0.0    0.0    0.0    0.0\n",
              "aafail        0.0    0.0    0.0    0.0  ...    0.0    0.0    0.0    0.0\n",
              "aal           0.0    0.0    0.0    0.0  ...    0.0    0.0    0.0    0.0\n",
              "\n",
              "[5 rows x 14640 columns]"
            ]
          },
          "metadata": {
            "tags": []
          },
          "execution_count": 135
        }
      ]
    },
    {
      "cell_type": "code",
      "metadata": {
        "colab": {
          "base_uri": "https://localhost:8080/"
        },
        "id": "H70jEX2L2Mit",
        "outputId": "494ff01b-102a-4ff0-8ab9-98b4a8420a0a"
      },
      "source": [
        "le = LabelEncoder()\n",
        "y = le.fit_transform(processed_df['airline_sentiment'])\n",
        "y "
      ],
      "execution_count": 49,
      "outputs": [
        {
          "output_type": "execute_result",
          "data": {
            "text/plain": [
              "array([1, 2, 1, ..., 1, 0, 1])"
            ]
          },
          "metadata": {
            "tags": []
          },
          "execution_count": 49
        }
      ]
    },
    {
      "cell_type": "code",
      "metadata": {
        "id": "yFMigDIDzC8r"
      },
      "source": [
        "def fitEvalModel(X_train,y_train,X_test,y_test,model):\n",
        "  model.fit(X_train,y_train)\n",
        "  y_pred = model.predict(X_test)\n",
        "  print('Mean Training Score',np.round(np.mean(cross_val_score(model,X_train,y_train,cv=10,n_jobs=-1)),2))\n",
        "  print('Testing Score:',np.round(accuracy_score(y_test,y_pred),2))\n",
        "  print('===========Classification Report===================')\n",
        "  print(classification_report(y_test,y_pred))\n",
        "  print('==============Confusion Matrix====================')\n",
        "  conf_mat = confusion_matrix(y_test,y_pred)\n",
        "  conf_df = pd.DataFrame(conf_mat,index=[i for i in le.classes_],\n",
        "                     columns = [i for i in le.classes_])\n",
        "  sns.heatmap(conf_df,annot=True,fmt='d',cmap='YlGnBu');\n",
        "  plt.ylabel('True label');\n",
        "  plt.xlabel('Predicted label');\n"
      ],
      "execution_count": 50,
      "outputs": []
    },
    {
      "cell_type": "markdown",
      "metadata": {
        "id": "m-TDDJ9n1-XP"
      },
      "source": [
        "**Model using countVectorizer**"
      ]
    },
    {
      "cell_type": "code",
      "metadata": {
        "id": "FT0XoJNBCIRW"
      },
      "source": [
        "X1 = X_count_features"
      ],
      "execution_count": 83,
      "outputs": []
    },
    {
      "cell_type": "code",
      "metadata": {
        "id": "oqwmiBeW29UT"
      },
      "source": [
        "X_train,X_test,y_train,y_test = train_test_split(X1,y,test_size=0.3,random_state=7)"
      ],
      "execution_count": 84,
      "outputs": []
    },
    {
      "cell_type": "code",
      "metadata": {
        "id": "nWzysqFY3YsB"
      },
      "source": [
        "rf_count = RandomForestClassifier(n_estimators=200,random_state=7)"
      ],
      "execution_count": 85,
      "outputs": []
    },
    {
      "cell_type": "code",
      "metadata": {
        "colab": {
          "base_uri": "https://localhost:8080/",
          "height": 523
        },
        "id": "GZnofdA70Sop",
        "outputId": "50c6a740-4e39-4b6c-9af0-d0a63a4da031"
      },
      "source": [
        "fitEvalModel(X_train,y_train,X_test,y_test,rf_count)"
      ],
      "execution_count": 86,
      "outputs": [
        {
          "output_type": "stream",
          "text": [
            "Mean Training Score 0.78\n",
            "Testing Score: 0.78\n",
            "===========Classification Report===================\n",
            "              precision    recall  f1-score   support\n",
            "\n",
            "           0       0.83      0.91      0.87      2784\n",
            "           1       0.65      0.50      0.56       930\n",
            "           2       0.70      0.62      0.66       678\n",
            "\n",
            "    accuracy                           0.78      4392\n",
            "   macro avg       0.73      0.68      0.70      4392\n",
            "weighted avg       0.77      0.78      0.77      4392\n",
            "\n",
            "==============Confusion Matrix====================\n"
          ],
          "name": "stdout"
        },
        {
          "output_type": "display_data",
          "data": {
            "image/png": "[encoded data removed]",
            "text/plain": [
              "<Figure size 432x288 with 2 Axes>"
            ]
          },
          "metadata": {
            "tags": [],
            "needs_background": "light"
          }
        }
      ]
    },
    {
      "cell_type": "markdown",
      "metadata": {
        "id": "Oy0Ly8MaGHj5"
      },
      "source": [
        "*Naive Bayes*"
      ]
    },
    {
      "cell_type": "code",
      "metadata": {
        "id": "srU8j5oGAV73"
      },
      "source": [
        "nb_count = MultinomialNB()"
      ],
      "execution_count": 87,
      "outputs": []
    },
    {
      "cell_type": "code",
      "metadata": {
        "colab": {
          "base_uri": "https://localhost:8080/",
          "height": 523
        },
        "id": "CHDIJulL4Ysq",
        "outputId": "abc3c845-fb57-4888-f8a4-6cbb119ae239"
      },
      "source": [
        "fitEvalModel(X_train,y_train,X_test,y_test,nb_count)"
      ],
      "execution_count": 88,
      "outputs": [
        {
          "output_type": "stream",
          "text": [
            "Mean Training Score 0.77\n",
            "Testing Score: 0.77\n",
            "===========Classification Report===================\n",
            "              precision    recall  f1-score   support\n",
            "\n",
            "           0       0.82      0.91      0.86      2784\n",
            "           1       0.63      0.44      0.52       930\n",
            "           2       0.71      0.66      0.68       678\n",
            "\n",
            "    accuracy                           0.77      4392\n",
            "   macro avg       0.72      0.67      0.69      4392\n",
            "weighted avg       0.76      0.77      0.76      4392\n",
            "\n",
            "==============Confusion Matrix====================\n"
          ],
          "name": "stdout"
        },
        {
          "output_type": "display_data",
          "data": {
            "image/png": "[encoded data removed]",
            "text/plain": [
              "<Figure size 432x288 with 2 Axes>"
            ]
          },
          "metadata": {
            "tags": [],
            "needs_background": "light"
          }
        }
      ]
    },
    {
      "cell_type": "code",
      "metadata": {
        "id": "oAcDVy3s-9hu"
      },
      "source": [
        "from sklearn.ensemble import GradientBoostingClassifier"
      ],
      "execution_count": 89,
      "outputs": []
    },
    {
      "cell_type": "code",
      "metadata": {
        "id": "TCiiMmwn_CLn"
      },
      "source": [
        "xg_count = GradientBoostingClassifier(n_estimators=200,random_state=7)\n"
      ],
      "execution_count": 90,
      "outputs": []
    },
    {
      "cell_type": "code",
      "metadata": {
        "colab": {
          "base_uri": "https://localhost:8080/",
          "height": 522
        },
        "id": "Nt2R-K7Y_LWW",
        "outputId": "8f6550e9-8e25-471b-db1f-fcf56d8478c6"
      },
      "source": [
        "fitEvalModel(X_train,y_train,X_test,y_test,xg_count)"
      ],
      "execution_count": 91,
      "outputs": [
        {
          "output_type": "stream",
          "text": [
            "Mean Training Score 0.75\n",
            "Testing Score: 0.75\n",
            "===========Classification Report===================\n",
            "              precision    recall  f1-score   support\n",
            "\n",
            "           0       0.77      0.94      0.84      2784\n",
            "           1       0.69      0.29      0.41       930\n",
            "           2       0.70      0.60      0.65       678\n",
            "\n",
            "    accuracy                           0.75      4392\n",
            "   macro avg       0.72      0.61      0.63      4392\n",
            "weighted avg       0.74      0.75      0.72      4392\n",
            "\n",
            "==============Confusion Matrix====================\n"
          ],
          "name": "stdout"
        },
        {
          "output_type": "display_data",
          "data": {
            "image/png": "[encoded data removed]",
            "text/plain": [
              "<Figure size 432x288 with 2 Axes>"
            ]
          },
          "metadata": {
            "tags": [],
            "needs_background": "light"
          }
        }
      ]
    },
    {
      "cell_type": "markdown",
      "metadata": {
        "id": "2G5Sr48wFmAp"
      },
      "source": [
        "**Model usinf tf-idf**"
      ]
    },
    {
      "cell_type": "code",
      "metadata": {
        "id": "agQdOGnXDtPm"
      },
      "source": [
        "X2 = X_tfidf_features"
      ],
      "execution_count": 136,
      "outputs": []
    },
    {
      "cell_type": "code",
      "metadata": {
        "id": "Z0_jJVCNGxJq"
      },
      "source": [
        "X_train,X_test,y_train,y_test = train_test_split(X2,y,test_size=0.3,random_state=7)"
      ],
      "execution_count": 137,
      "outputs": []
    },
    {
      "cell_type": "code",
      "metadata": {
        "id": "rHGs6ONdG7Ro"
      },
      "source": [
        "rf_tfidf = RandomForestClassifier(n_estimators=200,random_state=1)"
      ],
      "execution_count": 138,
      "outputs": []
    },
    {
      "cell_type": "code",
      "metadata": {
        "colab": {
          "base_uri": "https://localhost:8080/",
          "height": 522
        },
        "id": "tDxMRjjP20pm",
        "outputId": "362e4abd-7883-411d-cd55-e9ea9b1e4b8e"
      },
      "source": [
        "fitEvalModel(X_train,y_train,X_test,y_test,rf_tfidf)"
      ],
      "execution_count": 139,
      "outputs": [
        {
          "output_type": "stream",
          "text": [
            "Mean Training Score 0.78\n",
            "Testing Score: 0.78\n",
            "===========Classification Report===================\n",
            "              precision    recall  f1-score   support\n",
            "\n",
            "           0       0.81      0.92      0.86      2784\n",
            "           1       0.65      0.48      0.55       930\n",
            "           2       0.74      0.59      0.65       678\n",
            "\n",
            "    accuracy                           0.78      4392\n",
            "   macro avg       0.73      0.66      0.69      4392\n",
            "weighted avg       0.77      0.78      0.77      4392\n",
            "\n",
            "==============Confusion Matrix====================\n"
          ],
          "name": "stdout"
        },
        {
          "output_type": "display_data",
          "data": {
            "image/png": "[encoded data removed]",
            "text/plain": [
              "<Figure size 432x288 with 2 Axes>"
            ]
          },
          "metadata": {
            "tags": [],
            "needs_background": "light"
          }
        }
      ]
    },
    {
      "cell_type": "markdown",
      "metadata": {
        "id": "3RyxmqCt8TB5"
      },
      "source": [
        "**SUMMARY**\n",
        "\n",
        "**PRE-PROCESSING**\n",
        "1. First ,there were some URLs present in dataset.We removed these URLs using *remove_links* function.\n",
        "2. Then we convert all the text to lower case using *convert_to_lower* so that the words like 'The' and 'the' will not be counted as differnent words.\n",
        "3. No HTML tags were present in dataset but we still applied *remove_html_tags* function to remove HTML tags.HTML tags might be present in the new test case.\n",
        "4. Contractions(like didn't etc.) were present.These are removed using *replace_contractions* so that they can be represented like 'did not'. 'not','no' these words are important in case of sentiment analysis.\n",
        "5. Emoticons,emojis (special characters) were present.This seems useful in case of asentiment analysis.So converting them to text.\n",
        "6. If some special charaters still remains , we removed them using *remove_special_characters*\n",
        "7. Then we tokenize the text(converted them into individual words/tokens) using *text_tokenize*.\n",
        "8. Then we remove the stopwords(frequently used words) from tokenized text using *remove_stopwords*.'not','no' were already removed from stopwords list.These words are important for sentiment analysis.\n",
        "9. In the last, I applied lemmatization to convert the inflected form of words to root word(which has some dictionary meaning) using *apply_lemmatization*.\n",
        "\n",
        "**VECTORIZATION**\n",
        "\n",
        "With pre-processing our universal set of words are ready to use.\n",
        "But since we can't feed text to machine leaning algorithms,we need to convert them to vectors.\n",
        "Two techniques are used here to convert text to vectors:-\n",
        "1. CountVectorizer :- This actually makes a DTM(document term matrix) in which each token(word) is replaced with a number.This number is frequency of that word in a particular document.\n",
        "2. TfidfVectorizer :- This also gives a DTM in which each token is replaced with a number.Here this number(N) is calculated using a formula:-\n",
        "\n",
        "  N = Tf*IDF (Term frequency * Inverse Document frequence)\n",
        "\n",
        "  Tf = frequncy of the word in a doc/total no. of words in that doc\n",
        "  \n",
        "  IDF = log(No. of docs/word present in no. of docs)\n",
        "\n",
        "In both of the vectorization techniques, I have used max_features(=5000).There were 10000+ words in universal set but I wanted to build model using 5000 words. Also I have used ngram_range.Both unigrams and bigrams are being used(unigrams means single token,bigrams means two tokens at a time).\n",
        "\n",
        "**PERFORMANCE**\n",
        "\n",
        "I have used random forest for both vectorizations.Both models are giving same accuracy 78%.\n",
        "I think we can try to increase the accuracy of the model by using other vectorization techniques like word embedding(word2vec,glove).\n",
        "We can also try to build RNN or LSTM to increase performance.\n",
        "\n",
        "\n",
        "\n"
      ]
    },
    {
      "cell_type": "markdown",
      "metadata": {
        "id": "NYwHRs8dpFW2"
      },
      "source": [
        "**Let's try to use word embedding and build a LSTM model**"
      ]
    },
    {
      "cell_type": "code",
      "metadata": {
        "id": "QpZAtAiwIkDR"
      },
      "source": [
        "from tensorflow.keras.layers import Embedding,LSTM,Dense,Dropout\n",
        "from tensorflow.keras.preprocessing.text import one_hot\n",
        "from tensorflow.keras.preprocessing.sequence import pad_sequences\n",
        "from tensorflow.keras.models import Sequential"
      ],
      "execution_count": 96,
      "outputs": []
    },
    {
      "cell_type": "code",
      "metadata": {
        "id": "8Hcf4w9RqDCr"
      },
      "source": [
        "vocab_size = 5000"
      ],
      "execution_count": 97,
      "outputs": []
    },
    {
      "cell_type": "code",
      "metadata": {
        "colab": {
          "base_uri": "https://localhost:8080/",
          "height": 35
        },
        "id": "t6FVWGAkq381",
        "outputId": "60f7676e-21c1-4e49-9e61-33b8703119b1"
      },
      "source": [
        "wordsList[0]"
      ],
      "execution_count": 98,
      "outputs": [
        {
          "output_type": "execute_result",
          "data": {
            "application/vnd.google.colaboratory.intrinsic+json": {
              "type": "string"
            },
            "text/plain": [
              "'say'"
            ]
          },
          "metadata": {
            "tags": []
          },
          "execution_count": 98
        }
      ]
    },
    {
      "cell_type": "code",
      "metadata": {
        "colab": {
          "base_uri": "https://localhost:8080/"
        },
        "id": "2MTVkErO6rUK",
        "outputId": "d23da5ff-22f8-47f1-bde5-bc9dcc00f253"
      },
      "source": [
        "totalTokens = sum(len(sentence.split()) for sentence in wordsList)\n",
        "totalTokens"
      ],
      "execution_count": 99,
      "outputs": [
        {
          "output_type": "execute_result",
          "data": {
            "text/plain": [
              "131455"
            ]
          },
          "metadata": {
            "tags": []
          },
          "execution_count": 99
        }
      ]
    },
    {
      "cell_type": "code",
      "metadata": {
        "colab": {
          "base_uri": "https://localhost:8080/"
        },
        "id": "IIr4HDQWrnIE",
        "outputId": "4ad94b48-059b-4523-e89b-8b3ae644654f"
      },
      "source": [
        "maxLen = max(len(sentence.split()) for sentence in wordsList)\n",
        "maxLen"
      ],
      "execution_count": 100,
      "outputs": [
        {
          "output_type": "execute_result",
          "data": {
            "text/plain": [
              "45"
            ]
          },
          "metadata": {
            "tags": []
          },
          "execution_count": 100
        }
      ]
    },
    {
      "cell_type": "code",
      "metadata": {
        "colab": {
          "base_uri": "https://localhost:8080/"
        },
        "id": "PoGF7LANqHII",
        "outputId": "4cbec4cf-62cf-4377-f2de-673b3ff19e06"
      },
      "source": [
        "oneHot_rep = [one_hot(words,vocab_size) for words in wordsList]\n",
        "oneHot_rep[0]"
      ],
      "execution_count": 101,
      "outputs": [
        {
          "output_type": "execute_result",
          "data": {
            "text/plain": [
              "[3520]"
            ]
          },
          "metadata": {
            "tags": []
          },
          "execution_count": 101
        }
      ]
    },
    {
      "cell_type": "code",
      "metadata": {
        "colab": {
          "base_uri": "https://localhost:8080/"
        },
        "id": "sI6MCzk6qtnN",
        "outputId": "a147031c-1b37-454b-85b2-e0db6467f806"
      },
      "source": [
        "embedded_docs = pad_sequences(oneHot_rep,maxlen=maxLen,padding='pre')\n",
        "embedded_docs[0]"
      ],
      "execution_count": 102,
      "outputs": [
        {
          "output_type": "execute_result",
          "data": {
            "text/plain": [
              "array([   0,    0,    0,    0,    0,    0,    0,    0,    0,    0,    0,\n",
              "          0,    0,    0,    0,    0,    0,    0,    0,    0,    0,    0,\n",
              "          0,    0,    0,    0,    0,    0,    0,    0,    0,    0,    0,\n",
              "          0,    0,    0,    0,    0,    0,    0,    0,    0,    0,    0,\n",
              "       3520], dtype=int32)"
            ]
          },
          "metadata": {
            "tags": []
          },
          "execution_count": 102
        }
      ]
    },
    {
      "cell_type": "code",
      "metadata": {
        "id": "QqCgVaND5N6W"
      },
      "source": [
        "from tensorflow.keras.callbacks import EarlyStopping"
      ],
      "execution_count": 103,
      "outputs": []
    },
    {
      "cell_type": "code",
      "metadata": {
        "id": "-Qy9lgHNsIgQ"
      },
      "source": [
        "embedding_vector_features = 60\n",
        "model = Sequential()\n",
        "model.add(Embedding(vocab_size,embedding_vector_features,input_length=maxLen))\n",
        "model.add(Dropout(0.3))\n",
        "model.add(LSTM(100))\n",
        "model.add(Dropout(0.3))\n",
        "model.add(Dense(3,activation='softmax'))"
      ],
      "execution_count": 104,
      "outputs": []
    },
    {
      "cell_type": "code",
      "metadata": {
        "colab": {
          "base_uri": "https://localhost:8080/"
        },
        "id": "FhivIJRtuC0T",
        "outputId": "44d2b07e-7e9b-44bc-a241-4927baddac7d"
      },
      "source": [
        "model.compile(optimizer='adam',loss='categorical_crossentropy',metrics=['accuracy'])\n",
        "model.summary()"
      ],
      "execution_count": 105,
      "outputs": [
        {
          "output_type": "stream",
          "text": [
            "Model: \"sequential\"\n",
            "_________________________________________________________________\n",
            "Layer (type)                 Output Shape              Param #   \n",
            "=================================================================\n",
            "embedding (Embedding)        (None, 45, 60)            300000    \n",
            "_________________________________________________________________\n",
            "dropout (Dropout)            (None, 45, 60)            0         \n",
            "_________________________________________________________________\n",
            "lstm (LSTM)                  (None, 100)               64400     \n",
            "_________________________________________________________________\n",
            "dropout_1 (Dropout)          (None, 100)               0         \n",
            "_________________________________________________________________\n",
            "dense (Dense)                (None, 3)                 303       \n",
            "=================================================================\n",
            "Total params: 364,703\n",
            "Trainable params: 364,703\n",
            "Non-trainable params: 0\n",
            "_________________________________________________________________\n"
          ],
          "name": "stdout"
        }
      ]
    },
    {
      "cell_type": "code",
      "metadata": {
        "id": "U4L1ZjSDuVpP"
      },
      "source": [
        "X = np.array(embedded_docs)"
      ],
      "execution_count": 106,
      "outputs": []
    },
    {
      "cell_type": "code",
      "metadata": {
        "id": "PXbdEQXkxbZC"
      },
      "source": [
        "y1 = pd.get_dummies(y)\n",
        "y1 = np.array(y1)"
      ],
      "execution_count": 107,
      "outputs": []
    },
    {
      "cell_type": "code",
      "metadata": {
        "colab": {
          "base_uri": "https://localhost:8080/"
        },
        "id": "h9ygAQEsuj0e",
        "outputId": "5e79cf4d-efc2-4840-b981-94d62dba9e8d"
      },
      "source": [
        "X.shape"
      ],
      "execution_count": 108,
      "outputs": [
        {
          "output_type": "execute_result",
          "data": {
            "text/plain": [
              "(14640, 45)"
            ]
          },
          "metadata": {
            "tags": []
          },
          "execution_count": 108
        }
      ]
    },
    {
      "cell_type": "code",
      "metadata": {
        "colab": {
          "base_uri": "https://localhost:8080/"
        },
        "id": "GxhaL9weulID",
        "outputId": "da8530f7-67d2-4336-c7bb-b9e213b86b6e"
      },
      "source": [
        "y1.shape"
      ],
      "execution_count": 109,
      "outputs": [
        {
          "output_type": "execute_result",
          "data": {
            "text/plain": [
              "(14640, 3)"
            ]
          },
          "metadata": {
            "tags": []
          },
          "execution_count": 109
        }
      ]
    },
    {
      "cell_type": "code",
      "metadata": {
        "id": "9IggFk8guotf"
      },
      "source": [
        "X_train,X_test,y_train,y_test = train_test_split(X,y1,test_size=0.3,random_state=1)\n",
        "X_val,X_test,y_val,y_test = train_test_split(X_test,y_test,test_size=0.5,random_state=1)"
      ],
      "execution_count": 110,
      "outputs": []
    },
    {
      "cell_type": "code",
      "metadata": {
        "colab": {
          "base_uri": "https://localhost:8080/"
        },
        "id": "ZVmAy-tbu_9E",
        "outputId": "94484ca3-82fc-487c-cdec-2d722d29f294"
      },
      "source": [
        "print(X_train.shape)\n",
        "print(X_val.shape)\n",
        "print(X_test.shape)\n",
        "print(y_train.shape)\n",
        "print(y_val.shape)\n",
        "print(y_test.shape)"
      ],
      "execution_count": 111,
      "outputs": [
        {
          "output_type": "stream",
          "text": [
            "(10248, 45)\n",
            "(2196, 45)\n",
            "(2196, 45)\n",
            "(10248, 3)\n",
            "(2196, 3)\n",
            "(2196, 3)\n"
          ],
          "name": "stdout"
        }
      ]
    },
    {
      "cell_type": "code",
      "metadata": {
        "colab": {
          "base_uri": "https://localhost:8080/"
        },
        "id": "jh3quJrCvMsK",
        "outputId": "13a17d7f-ef7d-4fa7-b407-70ac7024610c"
      },
      "source": [
        "early_stopping_cb = EarlyStopping(monitor=\"val_loss\", patience=15,min_delta=0.001,\n",
        "                                  restore_best_weights=True)\n",
        "model.fit(X_train,y_train,batch_size=64,epochs=50,validation_data=(X_val,y_val),\n",
        "          callbacks=[early_stopping_cb])"
      ],
      "execution_count": 112,
      "outputs": [
        {
          "output_type": "stream",
          "text": [
            "Epoch 1/50\n",
            "161/161 [==============================] - 35s 28ms/step - loss: 0.8810 - accuracy: 0.6350 - val_loss: 0.6270 - val_accuracy: 0.7386\n",
            "Epoch 2/50\n",
            "161/161 [==============================] - 4s 25ms/step - loss: 0.5479 - accuracy: 0.7823 - val_loss: 0.5682 - val_accuracy: 0.7728\n",
            "Epoch 3/50\n",
            "161/161 [==============================] - 4s 26ms/step - loss: 0.4324 - accuracy: 0.8323 - val_loss: 0.5531 - val_accuracy: 0.7782\n",
            "Epoch 4/50\n",
            "161/161 [==============================] - 4s 24ms/step - loss: 0.3592 - accuracy: 0.8667 - val_loss: 0.5729 - val_accuracy: 0.7714\n",
            "Epoch 5/50\n",
            "161/161 [==============================] - 4s 25ms/step - loss: 0.3242 - accuracy: 0.8802 - val_loss: 0.6180 - val_accuracy: 0.7755\n",
            "Epoch 6/50\n",
            "161/161 [==============================] - 4s 26ms/step - loss: 0.2869 - accuracy: 0.8971 - val_loss: 0.6548 - val_accuracy: 0.7714\n",
            "Epoch 7/50\n",
            "161/161 [==============================] - 4s 25ms/step - loss: 0.2677 - accuracy: 0.8999 - val_loss: 0.6960 - val_accuracy: 0.7600\n",
            "Epoch 8/50\n",
            "161/161 [==============================] - 4s 25ms/step - loss: 0.2508 - accuracy: 0.9081 - val_loss: 0.7497 - val_accuracy: 0.7641\n",
            "Epoch 9/50\n",
            "161/161 [==============================] - 4s 26ms/step - loss: 0.2341 - accuracy: 0.9153 - val_loss: 0.7434 - val_accuracy: 0.7659\n",
            "Epoch 10/50\n",
            "161/161 [==============================] - 4s 24ms/step - loss: 0.2275 - accuracy: 0.9179 - val_loss: 0.7825 - val_accuracy: 0.7582\n",
            "Epoch 11/50\n",
            "161/161 [==============================] - 4s 24ms/step - loss: 0.2060 - accuracy: 0.9257 - val_loss: 0.8277 - val_accuracy: 0.7623\n",
            "Epoch 12/50\n",
            "161/161 [==============================] - 4s 25ms/step - loss: 0.1875 - accuracy: 0.9360 - val_loss: 0.8533 - val_accuracy: 0.7655\n",
            "Epoch 13/50\n",
            "161/161 [==============================] - 4s 27ms/step - loss: 0.1765 - accuracy: 0.9368 - val_loss: 0.8793 - val_accuracy: 0.7555\n",
            "Epoch 14/50\n",
            "161/161 [==============================] - 4s 27ms/step - loss: 0.1602 - accuracy: 0.9457 - val_loss: 0.9757 - val_accuracy: 0.7568\n",
            "Epoch 15/50\n",
            "161/161 [==============================] - 4s 26ms/step - loss: 0.1569 - accuracy: 0.9441 - val_loss: 0.9614 - val_accuracy: 0.7596\n",
            "Epoch 16/50\n",
            "161/161 [==============================] - 4s 25ms/step - loss: 0.1407 - accuracy: 0.9486 - val_loss: 1.0701 - val_accuracy: 0.7577\n",
            "Epoch 17/50\n",
            "161/161 [==============================] - 4s 25ms/step - loss: 0.1243 - accuracy: 0.9548 - val_loss: 1.0993 - val_accuracy: 0.7550\n",
            "Epoch 18/50\n",
            "161/161 [==============================] - 4s 24ms/step - loss: 0.1241 - accuracy: 0.9551 - val_loss: 1.1041 - val_accuracy: 0.7555\n"
          ],
          "name": "stdout"
        },
        {
          "output_type": "execute_result",
          "data": {
            "text/plain": [
              "<tensorflow.python.keras.callbacks.History at 0x7f276e0b2950>"
            ]
          },
          "metadata": {
            "tags": []
          },
          "execution_count": 112
        }
      ]
    },
    {
      "cell_type": "code",
      "metadata": {
        "colab": {
          "base_uri": "https://localhost:8080/"
        },
        "id": "djc7Vg173hNr",
        "outputId": "e12282fa-9e5c-4541-a89d-123c4f070a11"
      },
      "source": [
        "model.evaluate(X_test, y_test)"
      ],
      "execution_count": 113,
      "outputs": [
        {
          "output_type": "stream",
          "text": [
            "69/69 [==============================] - 1s 7ms/step - loss: 0.5488 - accuracy: 0.7873\n"
          ],
          "name": "stdout"
        },
        {
          "output_type": "execute_result",
          "data": {
            "text/plain": [
              "[0.5487768054008484, 0.7873406410217285]"
            ]
          },
          "metadata": {
            "tags": []
          },
          "execution_count": 113
        }
      ]
    },
    {
      "cell_type": "code",
      "metadata": {
        "id": "D6XKtKk834Ux"
      },
      "source": [
        "y_pred = model.predict(X_test) \n",
        "y_pred = np.round(y_pred)"
      ],
      "execution_count": 114,
      "outputs": []
    },
    {
      "cell_type": "code",
      "metadata": {
        "colab": {
          "base_uri": "https://localhost:8080/"
        },
        "id": "Fz1_RSkX3o0x",
        "outputId": "412fb34f-997f-4d1c-e7ef-601292dc213a"
      },
      "source": [
        "print(classification_report(np.argmax(y_test,axis=-1),np.argmax(y_pred,axis=-1)))"
      ],
      "execution_count": 115,
      "outputs": [
        {
          "output_type": "stream",
          "text": [
            "              precision    recall  f1-score   support\n",
            "\n",
            "           0       0.82      0.90      0.86      1376\n",
            "           1       0.63      0.52      0.57       456\n",
            "           2       0.77      0.64      0.70       364\n",
            "\n",
            "    accuracy                           0.78      2196\n",
            "   macro avg       0.74      0.69      0.71      2196\n",
            "weighted avg       0.77      0.78      0.77      2196\n",
            "\n"
          ],
          "name": "stdout"
        }
      ]
    },
    {
      "cell_type": "code",
      "metadata": {
        "colab": {
          "base_uri": "https://localhost:8080/",
          "height": 334
        },
        "id": "6Zh2z2PR4AiT",
        "outputId": "e36e8e01-e289-4645-cce3-5065986a754e"
      },
      "source": [
        "conf = confusion_matrix(np.argmax(y_test,axis=1),np.argmax(y_pred,axis=1))\n",
        "conf_df = pd.DataFrame(conf, index = [i for i in le.classes_],\n",
        "                     columns = [i for i in le.classes_])\n",
        "conf_df = pd.DataFrame(conf_df)\n",
        "plt.figure(figsize = (10,5))\n",
        "sns.heatmap(conf_df, annot=True, fmt='d',cmap='YlGnBu');\n",
        "plt.ylabel('True label');\n",
        "plt.xlabel('Predicted label');"
      ],
      "execution_count": 116,
      "outputs": [
        {
          "output_type": "display_data",
          "data": {
            "image/png": "[encoded data removed]",
            "text/plain": [
              "<Figure size 720x360 with 2 Axes>"
            ]
          },
          "metadata": {
            "tags": [],
            "needs_background": "light"
          }
        }
      ]
    },
    {
      "cell_type": "code",
      "metadata": {
        "id": "p4JVQeVMSMWZ"
      },
      "source": [
        "yPredFull = model.predict(X)"
      ],
      "execution_count": 117,
      "outputs": []
    },
    {
      "cell_type": "code",
      "metadata": {
        "id": "v4uLgQJvQNKA"
      },
      "source": [
        "df = pd.DataFrame(y1)\n",
        "x = df.stack()\n",
        "yOrig = pd.Series(pd.Categorical(x[x!=0].index.get_level_values(1)))"
      ],
      "execution_count": 118,
      "outputs": []
    },
    {
      "cell_type": "code",
      "metadata": {
        "id": "sGUNcv-ZRaQs"
      },
      "source": [
        "df1 = pd.DataFrame(yPredFull)\n",
        "x1 = df1.stack()\n",
        "yPred = pd.Series(pd.Categorical(x1[x1!=0].index.get_level_values(1)))"
      ],
      "execution_count": 119,
      "outputs": []
    },
    {
      "cell_type": "code",
      "metadata": {
        "colab": {
          "base_uri": "https://localhost:8080/",
          "height": 355
        },
        "id": "hEmD5lhwe4sV",
        "outputId": "b2e6c684-19aa-4616-fa49-1c890b0d87d1"
      },
      "source": [
        "mergedDf = pd.DataFrame(X)\n",
        "mergedDf['Original'] = yOrig\n",
        "mergedDf['Predicted'] = yPred\n",
        "df3 = mergedDf[mergedDf['Original'] != mergedDf['Predicted']]\n",
        "df3.iloc[:,45:].head(10)"
      ],
      "execution_count": 120,
      "outputs": [
        {
          "output_type": "execute_result",
          "data": {
            "text/html": [
              "<div>\n",
              "<style scoped>\n",
              "    .dataframe tbody tr th:only-of-type {\n",
              "        vertical-align: middle;\n",
              "    }\n",
              "\n",
              "    .dataframe tbody tr th {\n",
              "        vertical-align: top;\n",
              "    }\n",
              "\n",
              "    .dataframe thead th {\n",
              "        text-align: right;\n",
              "    }\n",
              "</style>\n",
              "<table border=\"1\" class=\"dataframe\">\n",
              "  <thead>\n",
              "    <tr style=\"text-align: right;\">\n",
              "      <th></th>\n",
              "      <th>Original</th>\n",
              "      <th>Predicted</th>\n",
              "    </tr>\n",
              "  </thead>\n",
              "  <tbody>\n",
              "    <tr>\n",
              "      <th>0</th>\n",
              "      <td>1</td>\n",
              "      <td>0</td>\n",
              "    </tr>\n",
              "    <tr>\n",
              "      <th>1</th>\n",
              "      <td>2</td>\n",
              "      <td>1</td>\n",
              "    </tr>\n",
              "    <tr>\n",
              "      <th>2</th>\n",
              "      <td>1</td>\n",
              "      <td>2</td>\n",
              "    </tr>\n",
              "    <tr>\n",
              "      <th>4</th>\n",
              "      <td>0</td>\n",
              "      <td>1</td>\n",
              "    </tr>\n",
              "    <tr>\n",
              "      <th>5</th>\n",
              "      <td>0</td>\n",
              "      <td>2</td>\n",
              "    </tr>\n",
              "    <tr>\n",
              "      <th>6</th>\n",
              "      <td>2</td>\n",
              "      <td>0</td>\n",
              "    </tr>\n",
              "    <tr>\n",
              "      <th>9</th>\n",
              "      <td>2</td>\n",
              "      <td>0</td>\n",
              "    </tr>\n",
              "    <tr>\n",
              "      <th>12</th>\n",
              "      <td>2</td>\n",
              "      <td>0</td>\n",
              "    </tr>\n",
              "    <tr>\n",
              "      <th>13</th>\n",
              "      <td>2</td>\n",
              "      <td>1</td>\n",
              "    </tr>\n",
              "    <tr>\n",
              "      <th>16</th>\n",
              "      <td>2</td>\n",
              "      <td>1</td>\n",
              "    </tr>\n",
              "  </tbody>\n",
              "</table>\n",
              "</div>"
            ],
            "text/plain": [
              "   Original Predicted\n",
              "0         1         0\n",
              "1         2         1\n",
              "2         1         2\n",
              "4         0         1\n",
              "5         0         2\n",
              "6         2         0\n",
              "9         2         0\n",
              "12        2         0\n",
              "13        2         1\n",
              "16        2         1"
            ]
          },
          "metadata": {
            "tags": []
          },
          "execution_count": 120
        }
      ]
    },
    {
      "cell_type": "code",
      "metadata": {
        "colab": {
          "base_uri": "https://localhost:8080/"
        },
        "id": "takisFa5t-EX",
        "outputId": "e89f55f4-c583-485a-f351-10b3c0878750"
      },
      "source": [
        "df3.shape"
      ],
      "execution_count": 121,
      "outputs": [
        {
          "output_type": "execute_result",
          "data": {
            "text/plain": [
              "(9755, 47)"
            ]
          },
          "metadata": {
            "tags": []
          },
          "execution_count": 121
        }
      ]
    },
    {
      "cell_type": "code",
      "metadata": {
        "colab": {
          "base_uri": "https://localhost:8080/",
          "height": 355
        },
        "id": "jU2H6yMUTkPF",
        "outputId": "4f4ae174-f1ee-41ee-a801-666a4f407a09"
      },
      "source": [
        "df_negative = df3[df3['Original'] == 0]\n",
        "df_negative.iloc[:,45:].head(10)"
      ],
      "execution_count": 122,
      "outputs": [
        {
          "output_type": "execute_result",
          "data": {
            "text/html": [
              "<div>\n",
              "<style scoped>\n",
              "    .dataframe tbody tr th:only-of-type {\n",
              "        vertical-align: middle;\n",
              "    }\n",
              "\n",
              "    .dataframe tbody tr th {\n",
              "        vertical-align: top;\n",
              "    }\n",
              "\n",
              "    .dataframe thead th {\n",
              "        text-align: right;\n",
              "    }\n",
              "</style>\n",
              "<table border=\"1\" class=\"dataframe\">\n",
              "  <thead>\n",
              "    <tr style=\"text-align: right;\">\n",
              "      <th></th>\n",
              "      <th>Original</th>\n",
              "      <th>Predicted</th>\n",
              "    </tr>\n",
              "  </thead>\n",
              "  <tbody>\n",
              "    <tr>\n",
              "      <th>4</th>\n",
              "      <td>0</td>\n",
              "      <td>1</td>\n",
              "    </tr>\n",
              "    <tr>\n",
              "      <th>5</th>\n",
              "      <td>0</td>\n",
              "      <td>2</td>\n",
              "    </tr>\n",
              "    <tr>\n",
              "      <th>17</th>\n",
              "      <td>0</td>\n",
              "      <td>2</td>\n",
              "    </tr>\n",
              "    <tr>\n",
              "      <th>20</th>\n",
              "      <td>0</td>\n",
              "      <td>2</td>\n",
              "    </tr>\n",
              "    <tr>\n",
              "      <th>25</th>\n",
              "      <td>0</td>\n",
              "      <td>1</td>\n",
              "    </tr>\n",
              "    <tr>\n",
              "      <th>26</th>\n",
              "      <td>0</td>\n",
              "      <td>2</td>\n",
              "    </tr>\n",
              "    <tr>\n",
              "      <th>28</th>\n",
              "      <td>0</td>\n",
              "      <td>1</td>\n",
              "    </tr>\n",
              "    <tr>\n",
              "      <th>32</th>\n",
              "      <td>0</td>\n",
              "      <td>2</td>\n",
              "    </tr>\n",
              "    <tr>\n",
              "      <th>41</th>\n",
              "      <td>0</td>\n",
              "      <td>2</td>\n",
              "    </tr>\n",
              "    <tr>\n",
              "      <th>55</th>\n",
              "      <td>0</td>\n",
              "      <td>1</td>\n",
              "    </tr>\n",
              "  </tbody>\n",
              "</table>\n",
              "</div>"
            ],
            "text/plain": [
              "   Original Predicted\n",
              "4         0         1\n",
              "5         0         2\n",
              "17        0         2\n",
              "20        0         2\n",
              "25        0         1\n",
              "26        0         2\n",
              "28        0         1\n",
              "32        0         2\n",
              "41        0         2\n",
              "55        0         1"
            ]
          },
          "metadata": {
            "tags": []
          },
          "execution_count": 122
        }
      ]
    },
    {
      "cell_type": "code",
      "metadata": {
        "colab": {
          "base_uri": "https://localhost:8080/",
          "height": 53
        },
        "id": "-reDY2IRoyfo",
        "outputId": "33fee3b0-becc-4054-fb05-1179af560084"
      },
      "source": [
        "X_features[41]"
      ],
      "execution_count": 123,
      "outputs": [
        {
          "output_type": "execute_result",
          "data": {
            "application/vnd.google.colaboratory.intrinsic+json": {
              "type": "string"
            },
            "text/plain": [
              "\"@VirginAmerica Hey, first time flyer next week - excited! But I'm having a hard time getting my flights added to my Elevate account. Help?\""
            ]
          },
          "metadata": {
            "tags": []
          },
          "execution_count": 123
        }
      ]
    },
    {
      "cell_type": "code",
      "metadata": {
        "colab": {
          "base_uri": "https://localhost:8080/",
          "height": 355
        },
        "id": "SVRSGxyFUtGF",
        "outputId": "9273ab39-8924-45c6-ae64-ff43377aa575"
      },
      "source": [
        "processed_df.head(10)"
      ],
      "execution_count": 124,
      "outputs": [
        {
          "output_type": "execute_result",
          "data": {
            "text/html": [
              "<div>\n",
              "<style scoped>\n",
              "    .dataframe tbody tr th:only-of-type {\n",
              "        vertical-align: middle;\n",
              "    }\n",
              "\n",
              "    .dataframe tbody tr th {\n",
              "        vertical-align: top;\n",
              "    }\n",
              "\n",
              "    .dataframe thead th {\n",
              "        text-align: right;\n",
              "    }\n",
              "</style>\n",
              "<table border=\"1\" class=\"dataframe\">\n",
              "  <thead>\n",
              "    <tr style=\"text-align: right;\">\n",
              "      <th></th>\n",
              "      <th>text</th>\n",
              "      <th>airline_sentiment</th>\n",
              "    </tr>\n",
              "  </thead>\n",
              "  <tbody>\n",
              "    <tr>\n",
              "      <th>0</th>\n",
              "      <td>say</td>\n",
              "      <td>neutral</td>\n",
              "    </tr>\n",
              "    <tr>\n",
              "      <th>1</th>\n",
              "      <td>plus add commercial experience tacky</td>\n",
              "      <td>positive</td>\n",
              "    </tr>\n",
              "    <tr>\n",
              "      <th>2</th>\n",
              "      <td>not today must mean need take another trip</td>\n",
              "      <td>neutral</td>\n",
              "    </tr>\n",
              "    <tr>\n",
              "      <th>3</th>\n",
              "      <td>really aggressive blast obnoxious entertainment guest face little recourse</td>\n",
              "      <td>negative</td>\n",
              "    </tr>\n",
              "    <tr>\n",
              "      <th>4</th>\n",
              "      <td>really big bad thing</td>\n",
              "      <td>negative</td>\n",
              "    </tr>\n",
              "    <tr>\n",
              "      <th>5</th>\n",
              "      <td>seriously would pay flight seat not playing really bad thing fly va</td>\n",
              "      <td>negative</td>\n",
              "    </tr>\n",
              "    <tr>\n",
              "      <th>6</th>\n",
              "      <td>yes nearly every time fly vx ear worm not go away positive</td>\n",
              "      <td>positive</td>\n",
              "    </tr>\n",
              "    <tr>\n",
              "      <th>7</th>\n",
              "      <td>really miss prime opportunity man without hat parody</td>\n",
              "      <td>neutral</td>\n",
              "    </tr>\n",
              "    <tr>\n",
              "      <th>8</th>\n",
              "      <td>well not</td>\n",
              "      <td>positive</td>\n",
              "    </tr>\n",
              "    <tr>\n",
              "      <th>9</th>\n",
              "      <td>amazing arrive hour early too good</td>\n",
              "      <td>positive</td>\n",
              "    </tr>\n",
              "  </tbody>\n",
              "</table>\n",
              "</div>"
            ],
            "text/plain": [
              "                                                                         text airline_sentiment\n",
              "0                                                                         say           neutral\n",
              "1                                        plus add commercial experience tacky          positive\n",
              "2                                  not today must mean need take another trip           neutral\n",
              "3  really aggressive blast obnoxious entertainment guest face little recourse          negative\n",
              "4                                                        really big bad thing          negative\n",
              "5         seriously would pay flight seat not playing really bad thing fly va          negative\n",
              "6                  yes nearly every time fly vx ear worm not go away positive          positive\n",
              "7                        really miss prime opportunity man without hat parody           neutral\n",
              "8                                                                    well not          positive\n",
              "9                                          amazing arrive hour early too good          positive"
            ]
          },
          "metadata": {
            "tags": []
          },
          "execution_count": 124
        }
      ]
    },
    {
      "cell_type": "code",
      "metadata": {
        "id": "LjxDSvucApJN"
      },
      "source": [
        "from tensorflow.keras.layers import Conv1D,GlobalMaxPooling1D,Bidirectional"
      ],
      "execution_count": 125,
      "outputs": []
    },
    {
      "cell_type": "code",
      "metadata": {
        "id": "Q0J2tJv9_6Sg"
      },
      "source": [
        "embedding_vector_features = 60\n",
        "biLSTM_model = Sequential()\n",
        "biLSTM_model.add(Embedding(vocab_size,embedding_vector_features,input_length=maxLen))\n",
        "biLSTM_model.add(Dropout(0.5))\n",
        "biLSTM_model.add(Bidirectional(LSTM(128, return_sequences=True)))\n",
        "biLSTM_model.add(Bidirectional(LSTM(64)))\n",
        "biLSTM_model.add(Dropout(0.3))\n",
        "biLSTM_model.add(Dense(3,activation='softmax'))"
      ],
      "execution_count": 126,
      "outputs": []
    },
    {
      "cell_type": "code",
      "metadata": {
        "colab": {
          "base_uri": "https://localhost:8080/"
        },
        "id": "9BQv5F5SA_6t",
        "outputId": "7425fd58-36e4-49db-8667-81a5dd16716b"
      },
      "source": [
        "biLSTM_model.compile(optimizer='adam',loss='categorical_crossentropy',metrics=['accuracy'])\n",
        "biLSTM_model.summary()"
      ],
      "execution_count": 127,
      "outputs": [
        {
          "output_type": "stream",
          "text": [
            "Model: \"sequential_1\"\n",
            "_________________________________________________________________\n",
            "Layer (type)                 Output Shape              Param #   \n",
            "=================================================================\n",
            "embedding_1 (Embedding)      (None, 45, 60)            300000    \n",
            "_________________________________________________________________\n",
            "dropout_2 (Dropout)          (None, 45, 60)            0         \n",
            "_________________________________________________________________\n",
            "bidirectional (Bidirectional (None, 45, 256)           193536    \n",
            "_________________________________________________________________\n",
            "bidirectional_1 (Bidirection (None, 128)               164352    \n",
            "_________________________________________________________________\n",
            "dropout_3 (Dropout)          (None, 128)               0         \n",
            "_________________________________________________________________\n",
            "dense_1 (Dense)              (None, 3)                 387       \n",
            "=================================================================\n",
            "Total params: 658,275\n",
            "Trainable params: 658,275\n",
            "Non-trainable params: 0\n",
            "_________________________________________________________________\n"
          ],
          "name": "stdout"
        }
      ]
    },
    {
      "cell_type": "code",
      "metadata": {
        "colab": {
          "base_uri": "https://localhost:8080/"
        },
        "id": "BFVRFGXQBEC0",
        "outputId": "f1ac41d8-62f5-499b-b43c-7974722bbf30"
      },
      "source": [
        "early_stopping_cb = EarlyStopping(monitor=\"val_loss\", patience=15,min_delta=0.001,\n",
        "                                  restore_best_weights=True)\n",
        "biLSTM_model.fit(X_train,y_train,batch_size=64,epochs=50,validation_data=(X_val,y_val),\n",
        "          callbacks=[early_stopping_cb])"
      ],
      "execution_count": 128,
      "outputs": [
        {
          "output_type": "stream",
          "text": [
            "Epoch 1/50\n",
            "161/161 [==============================] - 20s 83ms/step - loss: 0.8489 - accuracy: 0.6342 - val_loss: 0.6361 - val_accuracy: 0.7486\n",
            "Epoch 2/50\n",
            "161/161 [==============================] - 11s 71ms/step - loss: 0.5602 - accuracy: 0.7792 - val_loss: 0.5583 - val_accuracy: 0.7760\n",
            "Epoch 3/50\n",
            "161/161 [==============================] - 11s 71ms/step - loss: 0.4463 - accuracy: 0.8342 - val_loss: 0.5704 - val_accuracy: 0.7691\n",
            "Epoch 4/50\n",
            "161/161 [==============================] - 11s 71ms/step - loss: 0.4030 - accuracy: 0.8558 - val_loss: 0.5694 - val_accuracy: 0.7755\n",
            "Epoch 5/50\n",
            "161/161 [==============================] - 11s 71ms/step - loss: 0.3557 - accuracy: 0.8708 - val_loss: 0.6215 - val_accuracy: 0.7668\n",
            "Epoch 6/50\n",
            "161/161 [==============================] - 12s 72ms/step - loss: 0.3235 - accuracy: 0.8810 - val_loss: 0.6350 - val_accuracy: 0.7737\n",
            "Epoch 7/50\n",
            "161/161 [==============================] - 11s 71ms/step - loss: 0.2981 - accuracy: 0.8896 - val_loss: 0.6880 - val_accuracy: 0.7664\n",
            "Epoch 8/50\n",
            "161/161 [==============================] - 11s 71ms/step - loss: 0.2784 - accuracy: 0.9023 - val_loss: 0.6908 - val_accuracy: 0.7609\n",
            "Epoch 9/50\n",
            "161/161 [==============================] - 11s 71ms/step - loss: 0.2648 - accuracy: 0.9082 - val_loss: 0.6878 - val_accuracy: 0.7587\n",
            "Epoch 10/50\n",
            "161/161 [==============================] - 11s 71ms/step - loss: 0.2473 - accuracy: 0.9134 - val_loss: 0.7210 - val_accuracy: 0.7628\n",
            "Epoch 11/50\n",
            "161/161 [==============================] - 11s 71ms/step - loss: 0.2294 - accuracy: 0.9192 - val_loss: 0.7656 - val_accuracy: 0.7646\n",
            "Epoch 12/50\n",
            "161/161 [==============================] - 11s 71ms/step - loss: 0.2297 - accuracy: 0.9200 - val_loss: 0.7657 - val_accuracy: 0.7632\n",
            "Epoch 13/50\n",
            "161/161 [==============================] - 11s 71ms/step - loss: 0.1960 - accuracy: 0.9353 - val_loss: 0.7931 - val_accuracy: 0.7614\n",
            "Epoch 14/50\n",
            "161/161 [==============================] - 11s 71ms/step - loss: 0.2029 - accuracy: 0.9254 - val_loss: 0.8047 - val_accuracy: 0.7587\n",
            "Epoch 15/50\n",
            "161/161 [==============================] - 11s 71ms/step - loss: 0.1933 - accuracy: 0.9334 - val_loss: 0.8589 - val_accuracy: 0.7541\n",
            "Epoch 16/50\n",
            "161/161 [==============================] - 11s 71ms/step - loss: 0.1783 - accuracy: 0.9373 - val_loss: 0.8500 - val_accuracy: 0.7550\n",
            "Epoch 17/50\n",
            "161/161 [==============================] - 12s 72ms/step - loss: 0.1682 - accuracy: 0.9418 - val_loss: 0.8868 - val_accuracy: 0.7509\n"
          ],
          "name": "stdout"
        },
        {
          "output_type": "execute_result",
          "data": {
            "text/plain": [
              "<tensorflow.python.keras.callbacks.History at 0x7f26d4b9c3d0>"
            ]
          },
          "metadata": {
            "tags": []
          },
          "execution_count": 128
        }
      ]
    },
    {
      "cell_type": "code",
      "metadata": {
        "colab": {
          "base_uri": "https://localhost:8080/"
        },
        "id": "vd2PmyeMBlhm",
        "outputId": "2db23d80-166f-4772-f4d2-0682662594bc"
      },
      "source": [
        "biLSTM_model.evaluate(X_test, y_test)"
      ],
      "execution_count": 129,
      "outputs": [
        {
          "output_type": "stream",
          "text": [
            "69/69 [==============================] - 1s 21ms/step - loss: 0.5495 - accuracy: 0.7883\n"
          ],
          "name": "stdout"
        },
        {
          "output_type": "execute_result",
          "data": {
            "text/plain": [
              "[0.5495133399963379, 0.7882513403892517]"
            ]
          },
          "metadata": {
            "tags": []
          },
          "execution_count": 129
        }
      ]
    },
    {
      "cell_type": "code",
      "metadata": {
        "id": "04N7wAbqT86v"
      },
      "source": [
        "y_pred = biLSTM_model.predict(X_test) \n",
        "y_pred = np.round(y_pred)"
      ],
      "execution_count": 130,
      "outputs": []
    },
    {
      "cell_type": "code",
      "metadata": {
        "colab": {
          "base_uri": "https://localhost:8080/"
        },
        "id": "Wc98fhSIT_ib",
        "outputId": "49e7851d-4d91-4821-fbb0-eba8ff324b01"
      },
      "source": [
        "print(classification_report(np.argmax(y_test,axis=-1),np.argmax(y_pred,axis=-1)))"
      ],
      "execution_count": 131,
      "outputs": [
        {
          "output_type": "stream",
          "text": [
            "              precision    recall  f1-score   support\n",
            "\n",
            "           0       0.78      0.94      0.85      1376\n",
            "           1       0.67      0.39      0.49       456\n",
            "           2       0.78      0.60      0.68       364\n",
            "\n",
            "    accuracy                           0.77      2196\n",
            "   macro avg       0.75      0.64      0.67      2196\n",
            "weighted avg       0.76      0.77      0.75      2196\n",
            "\n"
          ],
          "name": "stdout"
        }
      ]
    },
    {
      "cell_type": "code",
      "metadata": {
        "colab": {
          "base_uri": "https://localhost:8080/",
          "height": 334
        },
        "id": "z6DDob1GUGbV",
        "outputId": "049c1697-85fe-4492-fdac-5f904bfeb60d"
      },
      "source": [
        "conf1 = confusion_matrix(np.argmax(y_test,axis=1),np.argmax(y_pred,axis=1))\n",
        "conf_df1 = pd.DataFrame(conf1, index = [i for i in le.classes_],\n",
        "                     columns = [i for i in le.classes_])\n",
        "plt.figure(figsize = (10,5))\n",
        "sns.heatmap(conf_df, annot=True, fmt='d',cmap='YlGnBu');\n",
        "plt.ylabel('True label');\n",
        "plt.xlabel('Predicted label');"
      ],
      "execution_count": 132,
      "outputs": [
        {
          "output_type": "display_data",
          "data": {
            "image/png": "[encoded data removed]",
            "text/plain": [
              "<Figure size 720x360 with 2 Axes>"
            ]
          },
          "metadata": {
            "tags": [],
            "needs_background": "light"
          }
        }
      ]
    },
    {
      "cell_type": "markdown",
      "metadata": {
        "id": "v8wFIfJH9MhS"
      },
      "source": [
        "Using LSTM and bidirectional LSTM, accuracy increased a bit. We can further work on text processing to increase the accuracy."
      ]
    },
    {
      "cell_type": "code",
      "metadata": {
        "id": "-dqdrNmEEmdv"
      },
      "source": [
        ""
      ],
      "execution_count": 103,
      "outputs": []
    }
  ]
}