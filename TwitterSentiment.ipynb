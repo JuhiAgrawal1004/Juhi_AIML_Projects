{
 "cells": [
  {
   "cell_type": "markdown",
   "metadata": {
    "id": "IW4s5qhkpyYD"
   },
   "source": [
    "**Import libraries**"
   ]
  },
  {
   "cell_type": "code",
   "execution_count": 1,
   "metadata": {
    "colab": {
     "base_uri": "https://localhost:8080/"
    },
    "id": "IqVqxtkam1Ir",
    "outputId": "607d39d5-0694-4a2f-f588-533ac2e17ed3"
   },
   "outputs": [
    {
     "name": "stderr",
     "output_type": "stream",
     "text": [
      "[nltk_data] Downloading package stopwords to\n",
      "[nltk_data]     C:\\Users\\Juhi\\AppData\\Roaming\\nltk_data...\n",
      "[nltk_data]   Package stopwords is already up-to-date!\n",
      "[nltk_data] Downloading package punkt to\n",
      "[nltk_data]     C:\\Users\\Juhi\\AppData\\Roaming\\nltk_data...\n",
      "[nltk_data]   Package punkt is already up-to-date!\n",
      "[nltk_data] Downloading package wordnet to\n",
      "[nltk_data]     C:\\Users\\Juhi\\AppData\\Roaming\\nltk_data...\n",
      "[nltk_data]   Package wordnet is already up-to-date!\n",
      "[nltk_data] Downloading package averaged_perceptron_tagger to\n",
      "[nltk_data]     C:\\Users\\Juhi\\AppData\\Roaming\\nltk_data...\n",
      "[nltk_data]   Package averaged_perceptron_tagger is already up-to-\n",
      "[nltk_data]       date!\n"
     ]
    },
    {
     "name": "stdout",
     "output_type": "stream",
     "text": [
      "Requirement already satisfied: contractions in c:\\users\\juhi\\anaconda3\\lib\\site-packages (0.0.48)\n",
      "Requirement already satisfied: textsearch>=0.0.21 in c:\\users\\juhi\\anaconda3\\lib\\site-packages (from contractions) (0.0.21)\n",
      "Requirement already satisfied: anyascii in c:\\users\\juhi\\anaconda3\\lib\\site-packages (from textsearch>=0.0.21->contractions) (0.1.7)\n",
      "Requirement already satisfied: pyahocorasick in c:\\users\\juhi\\anaconda3\\lib\\site-packages (from textsearch>=0.0.21->contractions) (1.4.2)\n",
      "Requirement already satisfied: emoji in c:\\users\\juhi\\anaconda3\\lib\\site-packages (1.2.0)\n",
      "Requirement already satisfied: demoji in c:\\users\\juhi\\anaconda3\\lib\\site-packages (0.4.0)\n",
      "Requirement already satisfied: requests<3.0.0 in c:\\users\\juhi\\appdata\\roaming\\python\\python37\\site-packages (from demoji) (2.24.0)\n",
      "Requirement already satisfied: colorama in c:\\users\\juhi\\anaconda3\\lib\\site-packages (from demoji) (0.4.3)\n",
      "Requirement already satisfied: idna<3,>=2.5 in c:\\users\\juhi\\anaconda3\\lib\\site-packages (from requests<3.0.0->demoji) (2.8)\n",
      "Requirement already satisfied: certifi>=2017.4.17 in c:\\users\\juhi\\anaconda3\\lib\\site-packages (from requests<3.0.0->demoji) (2020.6.20)\n",
      "Requirement already satisfied: urllib3!=1.25.0,!=1.25.1,<1.26,>=1.21.1 in c:\\users\\juhi\\anaconda3\\lib\\site-packages (from requests<3.0.0->demoji) (1.24.3)\n",
      "Requirement already satisfied: chardet<4,>=3.0.2 in c:\\users\\juhi\\anaconda3\\lib\\site-packages (from requests<3.0.0->demoji) (3.0.4)\n",
      "Downloading emoji data ...\n",
      "... OK (Got response in 0.13 seconds)\n",
      "Writing emoji data to C:\\Users\\Juhi\\.demoji\\codes.json ...\n",
      "... OK\n",
      "Requirement already satisfied: spacy in c:\\users\\juhi\\anaconda3\\lib\\site-packages (3.0.5)\n",
      "Requirement already satisfied: pydantic<1.8.0,>=1.7.1 in c:\\users\\juhi\\anaconda3\\lib\\site-packages (from spacy) (1.7.3)\n",
      "Requirement already satisfied: preshed<3.1.0,>=3.0.2 in c:\\users\\juhi\\anaconda3\\lib\\site-packages (from spacy) (3.0.5)\n",
      "Requirement already satisfied: setuptools in c:\\users\\juhi\\anaconda3\\lib\\site-packages (from spacy) (45.2.0.post20200210)\n",
      "Requirement already satisfied: cymem<2.1.0,>=2.0.2 in c:\\users\\juhi\\anaconda3\\lib\\site-packages (from spacy) (2.0.5)\n",
      "Requirement already satisfied: requests<3.0.0,>=2.13.0 in c:\\users\\juhi\\appdata\\roaming\\python\\python37\\site-packages (from spacy) (2.24.0)\n",
      "Requirement already satisfied: murmurhash<1.1.0,>=0.28.0 in c:\\users\\juhi\\anaconda3\\lib\\site-packages (from spacy) (1.0.5)\n",
      "Requirement already satisfied: typer<0.4.0,>=0.3.0 in c:\\users\\juhi\\anaconda3\\lib\\site-packages (from spacy) (0.3.2)\n",
      "Requirement already satisfied: pathy>=0.3.5 in c:\\users\\juhi\\anaconda3\\lib\\site-packages (from spacy) (0.4.0)\n",
      "Requirement already satisfied: catalogue<2.1.0,>=2.0.1 in c:\\users\\juhi\\anaconda3\\lib\\site-packages (from spacy) (2.0.1)\n",
      "Requirement already satisfied: thinc<8.1.0,>=8.0.2 in c:\\users\\juhi\\anaconda3\\lib\\site-packages (from spacy) (8.0.2)\n",
      "Requirement already satisfied: blis<0.8.0,>=0.4.0 in c:\\users\\juhi\\anaconda3\\lib\\site-packages (from spacy) (0.7.4)\n",
      "Requirement already satisfied: tqdm<5.0.0,>=4.38.0 in c:\\users\\juhi\\appdata\\roaming\\python\\python37\\site-packages (from spacy) (4.48.2)\n",
      "Requirement already satisfied: importlib-metadata>=0.20; python_version < \"3.8\" in c:\\users\\juhi\\anaconda3\\lib\\site-packages (from spacy) (1.5.0)\n",
      "Requirement already satisfied: jinja2 in c:\\users\\juhi\\anaconda3\\lib\\site-packages (from spacy) (2.11.1)\n",
      "Requirement already satisfied: wasabi<1.1.0,>=0.8.1 in c:\\users\\juhi\\anaconda3\\lib\\site-packages (from spacy) (0.8.2)\n",
      "Requirement already satisfied: numpy>=1.15.0 in c:\\users\\juhi\\anaconda3\\lib\\site-packages (from spacy) (1.18.1)\n",
      "Requirement already satisfied: typing-extensions<4.0.0.0,>=3.7.4; python_version < \"3.8\" in c:\\users\\juhi\\anaconda3\\lib\\site-packages (from spacy) (3.7.4.3)\n",
      "Requirement already satisfied: srsly<3.0.0,>=2.4.0 in c:\\users\\juhi\\anaconda3\\lib\\site-packages (from spacy) (2.4.0)\n",
      "Requirement already satisfied: spacy-legacy<3.1.0,>=3.0.0 in c:\\users\\juhi\\anaconda3\\lib\\site-packages (from spacy) (3.0.1)\n",
      "Requirement already satisfied: packaging>=20.0 in c:\\users\\juhi\\anaconda3\\lib\\site-packages (from spacy) (20.1)\n",
      "Requirement already satisfied: idna<3,>=2.5 in c:\\users\\juhi\\anaconda3\\lib\\site-packages (from requests<3.0.0,>=2.13.0->spacy) (2.8)\n",
      "Requirement already satisfied: chardet<4,>=3.0.2 in c:\\users\\juhi\\anaconda3\\lib\\site-packages (from requests<3.0.0,>=2.13.0->spacy) (3.0.4)\n",
      "Requirement already satisfied: urllib3!=1.25.0,!=1.25.1,<1.26,>=1.21.1 in c:\\users\\juhi\\anaconda3\\lib\\site-packages (from requests<3.0.0,>=2.13.0->spacy) (1.24.3)\n",
      "Requirement already satisfied: certifi>=2017.4.17 in c:\\users\\juhi\\anaconda3\\lib\\site-packages (from requests<3.0.0,>=2.13.0->spacy) (2020.6.20)\n",
      "Requirement already satisfied: click<7.2.0,>=7.1.1 in c:\\users\\juhi\\anaconda3\\lib\\site-packages (from typer<0.4.0,>=0.3.0->spacy) (7.1.2)\n",
      "Requirement already satisfied: smart-open<4.0.0,>=2.2.0 in c:\\users\\juhi\\anaconda3\\lib\\site-packages (from pathy>=0.3.5->spacy) (3.0.0)\n",
      "Requirement already satisfied: zipp>=0.5 in c:\\users\\juhi\\anaconda3\\lib\\site-packages (from importlib-metadata>=0.20; python_version < \"3.8\"->spacy) (2.2.0)\n",
      "Requirement already satisfied: MarkupSafe>=0.23 in c:\\users\\juhi\\anaconda3\\lib\\site-packages (from jinja2->spacy) (1.1.1)\n",
      "Requirement already satisfied: pyparsing>=2.0.2 in c:\\users\\juhi\\anaconda3\\lib\\site-packages (from packaging>=20.0->spacy) (2.4.6)\n",
      "Requirement already satisfied: six in c:\\users\\juhi\\anaconda3\\lib\\site-packages (from packaging>=20.0->spacy) (1.14.0)\n",
      "Requirement already satisfied: en-core-web-sm==3.0.0 from https://github.com/explosion/spacy-models/releases/download/en_core_web_sm-3.0.0/en_core_web_sm-3.0.0-py3-none-any.whl#egg=en_core_web_sm==3.0.0 in c:\\users\\juhi\\anaconda3\\lib\\site-packages (3.0.0)\n",
      "Requirement already satisfied: spacy<3.1.0,>=3.0.0 in c:\\users\\juhi\\anaconda3\\lib\\site-packages (from en-core-web-sm==3.0.0) (3.0.5)\n",
      "Requirement already satisfied: catalogue<2.1.0,>=2.0.1 in c:\\users\\juhi\\anaconda3\\lib\\site-packages (from spacy<3.1.0,>=3.0.0->en-core-web-sm==3.0.0) (2.0.1)\n",
      "Requirement already satisfied: packaging>=20.0 in c:\\users\\juhi\\anaconda3\\lib\\site-packages (from spacy<3.1.0,>=3.0.0->en-core-web-sm==3.0.0) (20.1)\n",
      "Requirement already satisfied: pathy>=0.3.5 in c:\\users\\juhi\\anaconda3\\lib\\site-packages (from spacy<3.1.0,>=3.0.0->en-core-web-sm==3.0.0) (0.4.0)\n",
      "Requirement already satisfied: pydantic<1.8.0,>=1.7.1 in c:\\users\\juhi\\anaconda3\\lib\\site-packages (from spacy<3.1.0,>=3.0.0->en-core-web-sm==3.0.0) (1.7.3)\n",
      "Requirement already satisfied: blis<0.8.0,>=0.4.0 in c:\\users\\juhi\\anaconda3\\lib\\site-packages (from spacy<3.1.0,>=3.0.0->en-core-web-sm==3.0.0) (0.7.4)\n",
      "Requirement already satisfied: jinja2 in c:\\users\\juhi\\anaconda3\\lib\\site-packages (from spacy<3.1.0,>=3.0.0->en-core-web-sm==3.0.0) (2.11.1)\n",
      "Requirement already satisfied: tqdm<5.0.0,>=4.38.0 in c:\\users\\juhi\\appdata\\roaming\\python\\python37\\site-packages (from spacy<3.1.0,>=3.0.0->en-core-web-sm==3.0.0) (4.48.2)\n",
      "Requirement already satisfied: typer<0.4.0,>=0.3.0 in c:\\users\\juhi\\anaconda3\\lib\\site-packages (from spacy<3.1.0,>=3.0.0->en-core-web-sm==3.0.0) (0.3.2)\n",
      "Requirement already satisfied: importlib-metadata>=0.20; python_version < \"3.8\" in c:\\users\\juhi\\anaconda3\\lib\\site-packages (from spacy<3.1.0,>=3.0.0->en-core-web-sm==3.0.0) (1.5.0)\n",
      "Requirement already satisfied: srsly<3.0.0,>=2.4.0 in c:\\users\\juhi\\anaconda3\\lib\\site-packages (from spacy<3.1.0,>=3.0.0->en-core-web-sm==3.0.0) (2.4.0)\n",
      "Requirement already satisfied: setuptools in c:\\users\\juhi\\anaconda3\\lib\\site-packages (from spacy<3.1.0,>=3.0.0->en-core-web-sm==3.0.0) (45.2.0.post20200210)\n",
      "Requirement already satisfied: requests<3.0.0,>=2.13.0 in c:\\users\\juhi\\appdata\\roaming\\python\\python37\\site-packages (from spacy<3.1.0,>=3.0.0->en-core-web-sm==3.0.0) (2.24.0)\n",
      "Requirement already satisfied: wasabi<1.1.0,>=0.8.1 in c:\\users\\juhi\\anaconda3\\lib\\site-packages (from spacy<3.1.0,>=3.0.0->en-core-web-sm==3.0.0) (0.8.2)\n",
      "Requirement already satisfied: murmurhash<1.1.0,>=0.28.0 in c:\\users\\juhi\\anaconda3\\lib\\site-packages (from spacy<3.1.0,>=3.0.0->en-core-web-sm==3.0.0) (1.0.5)\n",
      "Requirement already satisfied: typing-extensions<4.0.0.0,>=3.7.4; python_version < \"3.8\" in c:\\users\\juhi\\anaconda3\\lib\\site-packages (from spacy<3.1.0,>=3.0.0->en-core-web-sm==3.0.0) (3.7.4.3)\n",
      "Requirement already satisfied: cymem<2.1.0,>=2.0.2 in c:\\users\\juhi\\anaconda3\\lib\\site-packages (from spacy<3.1.0,>=3.0.0->en-core-web-sm==3.0.0) (2.0.5)\n",
      "Requirement already satisfied: preshed<3.1.0,>=3.0.2 in c:\\users\\juhi\\anaconda3\\lib\\site-packages (from spacy<3.1.0,>=3.0.0->en-core-web-sm==3.0.0) (3.0.5)\n",
      "Requirement already satisfied: numpy>=1.15.0 in c:\\users\\juhi\\anaconda3\\lib\\site-packages (from spacy<3.1.0,>=3.0.0->en-core-web-sm==3.0.0) (1.18.1)\n",
      "Requirement already satisfied: thinc<8.1.0,>=8.0.2 in c:\\users\\juhi\\anaconda3\\lib\\site-packages (from spacy<3.1.0,>=3.0.0->en-core-web-sm==3.0.0) (8.0.2)\n",
      "Requirement already satisfied: spacy-legacy<3.1.0,>=3.0.0 in c:\\users\\juhi\\anaconda3\\lib\\site-packages (from spacy<3.1.0,>=3.0.0->en-core-web-sm==3.0.0) (3.0.1)\n",
      "Requirement already satisfied: six in c:\\users\\juhi\\anaconda3\\lib\\site-packages (from packaging>=20.0->spacy<3.1.0,>=3.0.0->en-core-web-sm==3.0.0) (1.14.0)\n",
      "Requirement already satisfied: pyparsing>=2.0.2 in c:\\users\\juhi\\anaconda3\\lib\\site-packages (from packaging>=20.0->spacy<3.1.0,>=3.0.0->en-core-web-sm==3.0.0) (2.4.6)\n",
      "Requirement already satisfied: smart-open<4.0.0,>=2.2.0 in c:\\users\\juhi\\anaconda3\\lib\\site-packages (from pathy>=0.3.5->spacy<3.1.0,>=3.0.0->en-core-web-sm==3.0.0) (3.0.0)\n",
      "Requirement already satisfied: MarkupSafe>=0.23 in c:\\users\\juhi\\anaconda3\\lib\\site-packages (from jinja2->spacy<3.1.0,>=3.0.0->en-core-web-sm==3.0.0) (1.1.1)\n",
      "Requirement already satisfied: click<7.2.0,>=7.1.1 in c:\\users\\juhi\\anaconda3\\lib\\site-packages (from typer<0.4.0,>=0.3.0->spacy<3.1.0,>=3.0.0->en-core-web-sm==3.0.0) (7.1.2)\n",
      "Requirement already satisfied: zipp>=0.5 in c:\\users\\juhi\\anaconda3\\lib\\site-packages (from importlib-metadata>=0.20; python_version < \"3.8\"->spacy<3.1.0,>=3.0.0->en-core-web-sm==3.0.0) (2.2.0)\n",
      "Requirement already satisfied: chardet<4,>=3.0.2 in c:\\users\\juhi\\anaconda3\\lib\\site-packages (from requests<3.0.0,>=2.13.0->spacy<3.1.0,>=3.0.0->en-core-web-sm==3.0.0) (3.0.4)\n",
      "Requirement already satisfied: certifi>=2017.4.17 in c:\\users\\juhi\\anaconda3\\lib\\site-packages (from requests<3.0.0,>=2.13.0->spacy<3.1.0,>=3.0.0->en-core-web-sm==3.0.0) (2020.6.20)\n",
      "Requirement already satisfied: urllib3!=1.25.0,!=1.25.1,<1.26,>=1.21.1 in c:\\users\\juhi\\anaconda3\\lib\\site-packages (from requests<3.0.0,>=2.13.0->spacy<3.1.0,>=3.0.0->en-core-web-sm==3.0.0) (1.24.3)\n",
      "Requirement already satisfied: idna<3,>=2.5 in c:\\users\\juhi\\anaconda3\\lib\\site-packages (from requests<3.0.0,>=2.13.0->spacy<3.1.0,>=3.0.0->en-core-web-sm==3.0.0) (2.8)\n",
      "[+] Download and installation successful\n",
      "You can now load the package via spacy.load('en_core_web_sm')\n"
     ]
    }
   ],
   "source": [
    "import numpy as np\n",
    "import pandas as pd\n",
    "import matplotlib.pyplot as plt\n",
    "import seaborn as sns\n",
    "%matplotlib inline\n",
    "import re,unicodedata\n",
    "from bs4 import BeautifulSoup\n",
    "import nltk\n",
    "\n",
    "nltk.download('stopwords')\n",
    "nltk.download('punkt')\n",
    "nltk.download('wordnet')\n",
    "nltk.download('averaged_perceptron_tagger')\n",
    "\n",
    "from nltk.corpus import stopwords,wordnet\n",
    "from nltk.tokenize import word_tokenize\n",
    "from nltk.stem import PorterStemmer,WordNetLemmatizer\n",
    "\n",
    "!pip install contractions\n",
    "import contractions\n",
    "\n",
    "!pip install emoji\n",
    "import emoji\n",
    "\n",
    "!pip install demoji\n",
    "import demoji\n",
    "demoji.download_codes()\n",
    "\n",
    "import functools\n",
    "import operator\n",
    "\n",
    "!pip install spacy\n",
    "!python -m spacy download en_core_web_sm\n",
    "\n",
    "import spacy\n",
    "\n",
    "from sklearn.feature_extraction.text import CountVectorizer          \n",
    "from sklearn.feature_extraction.text import TfidfVectorizer\n",
    "\n",
    "from sklearn.model_selection import train_test_split,cross_val_score\n",
    "from sklearn.preprocessing import LabelEncoder\n",
    "from sklearn.ensemble import RandomForestClassifier\n",
    "from sklearn.naive_bayes import MultinomialNB\n",
    "from sklearn.metrics import accuracy_score,classification_report,confusion_matrix"
   ]
  },
  {
   "cell_type": "code",
   "execution_count": 2,
   "metadata": {
    "colab": {
     "base_uri": "https://localhost:8080/"
    },
    "id": "lrEVcUhXqFFl",
    "outputId": "b7fd73c2-d2b5-4e37-8bf9-6beb96a47281"
   },
   "outputs": [],
   "source": [
    "#from google.colab import drive\n",
    "#drive.mount('/content/drive')"
   ]
  },
  {
   "cell_type": "markdown",
   "metadata": {
    "id": "bm7iCC6IrMFE"
   },
   "source": [
    "**Load dataset**"
   ]
  },
  {
   "cell_type": "code",
   "execution_count": 3,
   "metadata": {
    "id": "OBABakxoq6yk"
   },
   "outputs": [],
   "source": [
    "tweets_data = pd.read_csv('Tweets.csv')"
   ]
  },
  {
   "cell_type": "markdown",
   "metadata": {
    "id": "la0yDYqzrPp2"
   },
   "source": [
    "**Print the shape**"
   ]
  },
  {
   "cell_type": "code",
   "execution_count": 4,
   "metadata": {
    "colab": {
     "base_uri": "https://localhost:8080/"
    },
    "id": "UBh_pVNgqQ2V",
    "outputId": "e3bc1839-7952-4553-cce2-064b7baa7231"
   },
   "outputs": [
    {
     "data": {
      "text/plain": [
       "(14640, 15)"
      ]
     },
     "execution_count": 4,
     "metadata": {},
     "output_type": "execute_result"
    }
   ],
   "source": [
    "tweets_data.shape"
   ]
  },
  {
   "cell_type": "markdown",
   "metadata": {
    "id": "DGBzYZZ7rVM0"
   },
   "source": [
    "There are 14640 rows and 15 columns."
   ]
  },
  {
   "cell_type": "code",
   "execution_count": 5,
   "metadata": {
    "colab": {
     "base_uri": "https://localhost:8080/"
    },
    "id": "1yf9xAupjqTt",
    "outputId": "8a88d1a4-b0fe-4019-dce2-27ad55739b0e"
   },
   "outputs": [
    {
     "name": "stdout",
     "output_type": "stream",
     "text": [
      "<class 'pandas.core.frame.DataFrame'>\n",
      "RangeIndex: 14640 entries, 0 to 14639\n",
      "Data columns (total 15 columns):\n",
      " #   Column                        Non-Null Count  Dtype  \n",
      "---  ------                        --------------  -----  \n",
      " 0   tweet_id                      14640 non-null  int64  \n",
      " 1   airline_sentiment             14640 non-null  object \n",
      " 2   airline_sentiment_confidence  14640 non-null  float64\n",
      " 3   negativereason                9178 non-null   object \n",
      " 4   negativereason_confidence     10522 non-null  float64\n",
      " 5   airline                       14640 non-null  object \n",
      " 6   airline_sentiment_gold        40 non-null     object \n",
      " 7   name                          14640 non-null  object \n",
      " 8   negativereason_gold           32 non-null     object \n",
      " 9   retweet_count                 14640 non-null  int64  \n",
      " 10  text                          14640 non-null  object \n",
      " 11  tweet_coord                   1019 non-null   object \n",
      " 12  tweet_created                 14640 non-null  object \n",
      " 13  tweet_location                9907 non-null   object \n",
      " 14  user_timezone                 9820 non-null   object \n",
      "dtypes: float64(2), int64(2), object(11)\n",
      "memory usage: 1.7+ MB\n"
     ]
    }
   ],
   "source": [
    "tweets_data.info()"
   ]
  },
  {
   "cell_type": "markdown",
   "metadata": {
    "id": "gRqOlZ6xj5-P"
   },
   "source": [
    "There are some null values in negativereason, negativereason_confidence, airline_sentiment_gold, negativereason_gold, tweet_coord, tweet_location, user_timezone."
   ]
  },
  {
   "cell_type": "code",
   "execution_count": 6,
   "metadata": {
    "colab": {
     "base_uri": "https://localhost:8080/",
     "height": 861
    },
    "id": "49e0ubeArUN8",
    "outputId": "c8bff417-906e-4717-87ae-49839198bde6"
   },
   "outputs": [
    {
     "data": {
      "text/html": [
       "<div>\n",
       "<style scoped>\n",
       "    .dataframe tbody tr th:only-of-type {\n",
       "        vertical-align: middle;\n",
       "    }\n",
       "\n",
       "    .dataframe tbody tr th {\n",
       "        vertical-align: top;\n",
       "    }\n",
       "\n",
       "    .dataframe thead th {\n",
       "        text-align: right;\n",
       "    }\n",
       "</style>\n",
       "<table border=\"1\" class=\"dataframe\">\n",
       "  <thead>\n",
       "    <tr style=\"text-align: right;\">\n",
       "      <th></th>\n",
       "      <th>tweet_id</th>\n",
       "      <th>airline_sentiment</th>\n",
       "      <th>airline_sentiment_confidence</th>\n",
       "      <th>negativereason</th>\n",
       "      <th>negativereason_confidence</th>\n",
       "      <th>airline</th>\n",
       "      <th>airline_sentiment_gold</th>\n",
       "      <th>name</th>\n",
       "      <th>negativereason_gold</th>\n",
       "      <th>retweet_count</th>\n",
       "      <th>text</th>\n",
       "      <th>tweet_coord</th>\n",
       "      <th>tweet_created</th>\n",
       "      <th>tweet_location</th>\n",
       "      <th>user_timezone</th>\n",
       "    </tr>\n",
       "  </thead>\n",
       "  <tbody>\n",
       "    <tr>\n",
       "      <th>0</th>\n",
       "      <td>570306133677760513</td>\n",
       "      <td>neutral</td>\n",
       "      <td>1.0000</td>\n",
       "      <td>NaN</td>\n",
       "      <td>NaN</td>\n",
       "      <td>Virgin America</td>\n",
       "      <td>NaN</td>\n",
       "      <td>cairdin</td>\n",
       "      <td>NaN</td>\n",
       "      <td>0</td>\n",
       "      <td>@VirginAmerica What @dhepburn said.</td>\n",
       "      <td>NaN</td>\n",
       "      <td>2015-02-24 11:35:52 -0800</td>\n",
       "      <td>NaN</td>\n",
       "      <td>Eastern Time (US &amp; Canada)</td>\n",
       "    </tr>\n",
       "    <tr>\n",
       "      <th>1</th>\n",
       "      <td>570301130888122368</td>\n",
       "      <td>positive</td>\n",
       "      <td>0.3486</td>\n",
       "      <td>NaN</td>\n",
       "      <td>0.0000</td>\n",
       "      <td>Virgin America</td>\n",
       "      <td>NaN</td>\n",
       "      <td>jnardino</td>\n",
       "      <td>NaN</td>\n",
       "      <td>0</td>\n",
       "      <td>@VirginAmerica plus you've added commercials t...</td>\n",
       "      <td>NaN</td>\n",
       "      <td>2015-02-24 11:15:59 -0800</td>\n",
       "      <td>NaN</td>\n",
       "      <td>Pacific Time (US &amp; Canada)</td>\n",
       "    </tr>\n",
       "    <tr>\n",
       "      <th>2</th>\n",
       "      <td>570301083672813571</td>\n",
       "      <td>neutral</td>\n",
       "      <td>0.6837</td>\n",
       "      <td>NaN</td>\n",
       "      <td>NaN</td>\n",
       "      <td>Virgin America</td>\n",
       "      <td>NaN</td>\n",
       "      <td>yvonnalynn</td>\n",
       "      <td>NaN</td>\n",
       "      <td>0</td>\n",
       "      <td>@VirginAmerica I didn't today... Must mean I n...</td>\n",
       "      <td>NaN</td>\n",
       "      <td>2015-02-24 11:15:48 -0800</td>\n",
       "      <td>Lets Play</td>\n",
       "      <td>Central Time (US &amp; Canada)</td>\n",
       "    </tr>\n",
       "    <tr>\n",
       "      <th>3</th>\n",
       "      <td>570301031407624196</td>\n",
       "      <td>negative</td>\n",
       "      <td>1.0000</td>\n",
       "      <td>Bad Flight</td>\n",
       "      <td>0.7033</td>\n",
       "      <td>Virgin America</td>\n",
       "      <td>NaN</td>\n",
       "      <td>jnardino</td>\n",
       "      <td>NaN</td>\n",
       "      <td>0</td>\n",
       "      <td>@VirginAmerica it's really aggressive to blast...</td>\n",
       "      <td>NaN</td>\n",
       "      <td>2015-02-24 11:15:36 -0800</td>\n",
       "      <td>NaN</td>\n",
       "      <td>Pacific Time (US &amp; Canada)</td>\n",
       "    </tr>\n",
       "    <tr>\n",
       "      <th>4</th>\n",
       "      <td>570300817074462722</td>\n",
       "      <td>negative</td>\n",
       "      <td>1.0000</td>\n",
       "      <td>Can't Tell</td>\n",
       "      <td>1.0000</td>\n",
       "      <td>Virgin America</td>\n",
       "      <td>NaN</td>\n",
       "      <td>jnardino</td>\n",
       "      <td>NaN</td>\n",
       "      <td>0</td>\n",
       "      <td>@VirginAmerica and it's a really big bad thing...</td>\n",
       "      <td>NaN</td>\n",
       "      <td>2015-02-24 11:14:45 -0800</td>\n",
       "      <td>NaN</td>\n",
       "      <td>Pacific Time (US &amp; Canada)</td>\n",
       "    </tr>\n",
       "    <tr>\n",
       "      <th>5</th>\n",
       "      <td>570300767074181121</td>\n",
       "      <td>negative</td>\n",
       "      <td>1.0000</td>\n",
       "      <td>Can't Tell</td>\n",
       "      <td>0.6842</td>\n",
       "      <td>Virgin America</td>\n",
       "      <td>NaN</td>\n",
       "      <td>jnardino</td>\n",
       "      <td>NaN</td>\n",
       "      <td>0</td>\n",
       "      <td>@VirginAmerica seriously would pay $30 a fligh...</td>\n",
       "      <td>NaN</td>\n",
       "      <td>2015-02-24 11:14:33 -0800</td>\n",
       "      <td>NaN</td>\n",
       "      <td>Pacific Time (US &amp; Canada)</td>\n",
       "    </tr>\n",
       "    <tr>\n",
       "      <th>6</th>\n",
       "      <td>570300616901320704</td>\n",
       "      <td>positive</td>\n",
       "      <td>0.6745</td>\n",
       "      <td>NaN</td>\n",
       "      <td>0.0000</td>\n",
       "      <td>Virgin America</td>\n",
       "      <td>NaN</td>\n",
       "      <td>cjmcginnis</td>\n",
       "      <td>NaN</td>\n",
       "      <td>0</td>\n",
       "      <td>@VirginAmerica yes, nearly every time I fly VX...</td>\n",
       "      <td>NaN</td>\n",
       "      <td>2015-02-24 11:13:57 -0800</td>\n",
       "      <td>San Francisco CA</td>\n",
       "      <td>Pacific Time (US &amp; Canada)</td>\n",
       "    </tr>\n",
       "    <tr>\n",
       "      <th>7</th>\n",
       "      <td>570300248553349120</td>\n",
       "      <td>neutral</td>\n",
       "      <td>0.6340</td>\n",
       "      <td>NaN</td>\n",
       "      <td>NaN</td>\n",
       "      <td>Virgin America</td>\n",
       "      <td>NaN</td>\n",
       "      <td>pilot</td>\n",
       "      <td>NaN</td>\n",
       "      <td>0</td>\n",
       "      <td>@VirginAmerica Really missed a prime opportuni...</td>\n",
       "      <td>NaN</td>\n",
       "      <td>2015-02-24 11:12:29 -0800</td>\n",
       "      <td>Los Angeles</td>\n",
       "      <td>Pacific Time (US &amp; Canada)</td>\n",
       "    </tr>\n",
       "    <tr>\n",
       "      <th>8</th>\n",
       "      <td>570299953286942721</td>\n",
       "      <td>positive</td>\n",
       "      <td>0.6559</td>\n",
       "      <td>NaN</td>\n",
       "      <td>NaN</td>\n",
       "      <td>Virgin America</td>\n",
       "      <td>NaN</td>\n",
       "      <td>dhepburn</td>\n",
       "      <td>NaN</td>\n",
       "      <td>0</td>\n",
       "      <td>@virginamerica Well, I didn't…but NOW I DO! :-D</td>\n",
       "      <td>NaN</td>\n",
       "      <td>2015-02-24 11:11:19 -0800</td>\n",
       "      <td>San Diego</td>\n",
       "      <td>Pacific Time (US &amp; Canada)</td>\n",
       "    </tr>\n",
       "    <tr>\n",
       "      <th>9</th>\n",
       "      <td>570295459631263746</td>\n",
       "      <td>positive</td>\n",
       "      <td>1.0000</td>\n",
       "      <td>NaN</td>\n",
       "      <td>NaN</td>\n",
       "      <td>Virgin America</td>\n",
       "      <td>NaN</td>\n",
       "      <td>YupitsTate</td>\n",
       "      <td>NaN</td>\n",
       "      <td>0</td>\n",
       "      <td>@VirginAmerica it was amazing, and arrived an ...</td>\n",
       "      <td>NaN</td>\n",
       "      <td>2015-02-24 10:53:27 -0800</td>\n",
       "      <td>Los Angeles</td>\n",
       "      <td>Eastern Time (US &amp; Canada)</td>\n",
       "    </tr>\n",
       "  </tbody>\n",
       "</table>\n",
       "</div>"
      ],
      "text/plain": [
       "             tweet_id airline_sentiment  airline_sentiment_confidence  \\\n",
       "0  570306133677760513           neutral                        1.0000   \n",
       "1  570301130888122368          positive                        0.3486   \n",
       "2  570301083672813571           neutral                        0.6837   \n",
       "3  570301031407624196          negative                        1.0000   \n",
       "4  570300817074462722          negative                        1.0000   \n",
       "5  570300767074181121          negative                        1.0000   \n",
       "6  570300616901320704          positive                        0.6745   \n",
       "7  570300248553349120           neutral                        0.6340   \n",
       "8  570299953286942721          positive                        0.6559   \n",
       "9  570295459631263746          positive                        1.0000   \n",
       "\n",
       "  negativereason  negativereason_confidence         airline  \\\n",
       "0            NaN                        NaN  Virgin America   \n",
       "1            NaN                     0.0000  Virgin America   \n",
       "2            NaN                        NaN  Virgin America   \n",
       "3     Bad Flight                     0.7033  Virgin America   \n",
       "4     Can't Tell                     1.0000  Virgin America   \n",
       "5     Can't Tell                     0.6842  Virgin America   \n",
       "6            NaN                     0.0000  Virgin America   \n",
       "7            NaN                        NaN  Virgin America   \n",
       "8            NaN                        NaN  Virgin America   \n",
       "9            NaN                        NaN  Virgin America   \n",
       "\n",
       "  airline_sentiment_gold        name negativereason_gold  retweet_count  \\\n",
       "0                    NaN     cairdin                 NaN              0   \n",
       "1                    NaN    jnardino                 NaN              0   \n",
       "2                    NaN  yvonnalynn                 NaN              0   \n",
       "3                    NaN    jnardino                 NaN              0   \n",
       "4                    NaN    jnardino                 NaN              0   \n",
       "5                    NaN    jnardino                 NaN              0   \n",
       "6                    NaN  cjmcginnis                 NaN              0   \n",
       "7                    NaN       pilot                 NaN              0   \n",
       "8                    NaN    dhepburn                 NaN              0   \n",
       "9                    NaN  YupitsTate                 NaN              0   \n",
       "\n",
       "                                                text tweet_coord  \\\n",
       "0                @VirginAmerica What @dhepburn said.         NaN   \n",
       "1  @VirginAmerica plus you've added commercials t...         NaN   \n",
       "2  @VirginAmerica I didn't today... Must mean I n...         NaN   \n",
       "3  @VirginAmerica it's really aggressive to blast...         NaN   \n",
       "4  @VirginAmerica and it's a really big bad thing...         NaN   \n",
       "5  @VirginAmerica seriously would pay $30 a fligh...         NaN   \n",
       "6  @VirginAmerica yes, nearly every time I fly VX...         NaN   \n",
       "7  @VirginAmerica Really missed a prime opportuni...         NaN   \n",
       "8    @virginamerica Well, I didn't…but NOW I DO! :-D         NaN   \n",
       "9  @VirginAmerica it was amazing, and arrived an ...         NaN   \n",
       "\n",
       "               tweet_created    tweet_location               user_timezone  \n",
       "0  2015-02-24 11:35:52 -0800               NaN  Eastern Time (US & Canada)  \n",
       "1  2015-02-24 11:15:59 -0800               NaN  Pacific Time (US & Canada)  \n",
       "2  2015-02-24 11:15:48 -0800         Lets Play  Central Time (US & Canada)  \n",
       "3  2015-02-24 11:15:36 -0800               NaN  Pacific Time (US & Canada)  \n",
       "4  2015-02-24 11:14:45 -0800               NaN  Pacific Time (US & Canada)  \n",
       "5  2015-02-24 11:14:33 -0800               NaN  Pacific Time (US & Canada)  \n",
       "6  2015-02-24 11:13:57 -0800  San Francisco CA  Pacific Time (US & Canada)  \n",
       "7  2015-02-24 11:12:29 -0800       Los Angeles  Pacific Time (US & Canada)  \n",
       "8  2015-02-24 11:11:19 -0800         San Diego  Pacific Time (US & Canada)  \n",
       "9  2015-02-24 10:53:27 -0800       Los Angeles  Eastern Time (US & Canada)  "
      ]
     },
     "execution_count": 6,
     "metadata": {},
     "output_type": "execute_result"
    }
   ],
   "source": [
    "tweets_data.head(10)"
   ]
  },
  {
   "cell_type": "code",
   "execution_count": 7,
   "metadata": {
    "colab": {
     "base_uri": "https://localhost:8080/"
    },
    "id": "OqL7_-90sWge",
    "outputId": "b9c56ca2-4dac-4e34-9a80-d9a019c6e31c"
   },
   "outputs": [
    {
     "data": {
      "text/plain": [
       "Index(['tweet_id', 'airline_sentiment', 'airline_sentiment_confidence',\n",
       "       'negativereason', 'negativereason_confidence', 'airline',\n",
       "       'airline_sentiment_gold', 'name', 'negativereason_gold',\n",
       "       'retweet_count', 'text', 'tweet_coord', 'tweet_created',\n",
       "       'tweet_location', 'user_timezone'],\n",
       "      dtype='object')"
      ]
     },
     "execution_count": 7,
     "metadata": {},
     "output_type": "execute_result"
    }
   ],
   "source": [
    "tweets_data.columns"
   ]
  },
  {
   "cell_type": "code",
   "execution_count": 8,
   "metadata": {
    "colab": {
     "base_uri": "https://localhost:8080/"
    },
    "id": "zo9iih42JFRe",
    "outputId": "69a5f00b-c248-4c50-aaac-ca4768405e10"
   },
   "outputs": [
    {
     "data": {
      "text/plain": [
       "United            3822\n",
       "US Airways        2913\n",
       "American          2759\n",
       "Southwest         2420\n",
       "Delta             2222\n",
       "Virgin America     504\n",
       "Name: airline, dtype: int64"
      ]
     },
     "execution_count": 8,
     "metadata": {},
     "output_type": "execute_result"
    }
   ],
   "source": [
    "tweets_data['airline'].value_counts()"
   ]
  },
  {
   "cell_type": "markdown",
   "metadata": {
    "id": "FPrFe-yoJo-k"
   },
   "source": [
    "This dataset contains tweets for 6 American airlines.Most of the tweets are for Unites airlines followed by US Airways,American,Southwest,Delta,Virgin America."
   ]
  },
  {
   "cell_type": "code",
   "execution_count": 9,
   "metadata": {
    "colab": {
     "base_uri": "https://localhost:8080/",
     "height": 388
    },
    "id": "wiRCFEOoya1h",
    "outputId": "32e52af9-a783-4b7b-f94a-a8521cf0b0d4"
   },
   "outputs": [
    {
     "data": {
      "image/png": "[encoded data removed]",
      "text/plain": [
       "<Figure size 720x432 with 1 Axes>"
      ]
     },
     "metadata": {
      "needs_background": "light"
     },
     "output_type": "display_data"
    }
   ],
   "source": [
    "plt.figure(figsize=(10,6))\n",
    "sns.countplot(x=tweets_data['airline'],hue=tweets_data['airline_sentiment']);"
   ]
  },
  {
   "cell_type": "markdown",
   "metadata": {
    "id": "_dzIIilOzoPh"
   },
   "source": [
    "Most of the negative tweets are for United airlines followed by US Airways,American,Southwest,Delta,Virgin America."
   ]
  },
  {
   "cell_type": "markdown",
   "metadata": {
    "id": "cBaHwSst0Rzk"
   },
   "source": [
    "We are interested in text and airline_sentiment columns for analysis so let's drop other columns."
   ]
  },
  {
   "cell_type": "markdown",
   "metadata": {
    "id": "0Y6RuuZvz8cm"
   },
   "source": [
    "**Drop the columns**"
   ]
  },
  {
   "cell_type": "code",
   "execution_count": 10,
   "metadata": {
    "id": "8i_t5x-ordKp"
   },
   "outputs": [],
   "source": [
    "tweets_copy = tweets_data.copy()\n",
    "columns = ['tweet_id','airline_sentiment_confidence','negativereason','negativereason_confidence',\n",
    "           'airline','airline_sentiment_gold','name','negativereason_gold','retweet_count',\n",
    "           'tweet_coord','tweet_created','tweet_location','user_timezone']\n",
    "tweets_copy.drop(columns=columns,axis=1,inplace=True)"
   ]
  },
  {
   "cell_type": "code",
   "execution_count": 11,
   "metadata": {
    "colab": {
     "base_uri": "https://localhost:8080/"
    },
    "id": "D5-DzdsRsK2k",
    "outputId": "6a2fc7c4-fe15-4316-c4ca-3b510d04e5e2"
   },
   "outputs": [
    {
     "data": {
      "text/plain": [
       "(14640, 2)"
      ]
     },
     "execution_count": 11,
     "metadata": {},
     "output_type": "execute_result"
    }
   ],
   "source": [
    "tweets_copy.shape"
   ]
  },
  {
   "cell_type": "code",
   "execution_count": 12,
   "metadata": {
    "colab": {
     "base_uri": "https://localhost:8080/",
     "height": 219
    },
    "id": "v20Gvon7tDkR",
    "outputId": "c3f6d3c9-2b39-4b49-f3ad-2aaf324b6990"
   },
   "outputs": [
    {
     "data": {
      "text/html": [
       "<div>\n",
       "<style scoped>\n",
       "    .dataframe tbody tr th:only-of-type {\n",
       "        vertical-align: middle;\n",
       "    }\n",
       "\n",
       "    .dataframe tbody tr th {\n",
       "        vertical-align: top;\n",
       "    }\n",
       "\n",
       "    .dataframe thead th {\n",
       "        text-align: right;\n",
       "    }\n",
       "</style>\n",
       "<table border=\"1\" class=\"dataframe\">\n",
       "  <thead>\n",
       "    <tr style=\"text-align: right;\">\n",
       "      <th></th>\n",
       "      <th>airline_sentiment</th>\n",
       "      <th>text</th>\n",
       "    </tr>\n",
       "  </thead>\n",
       "  <tbody>\n",
       "    <tr>\n",
       "      <th>0</th>\n",
       "      <td>neutral</td>\n",
       "      <td>@VirginAmerica What @dhepburn said.</td>\n",
       "    </tr>\n",
       "    <tr>\n",
       "      <th>1</th>\n",
       "      <td>positive</td>\n",
       "      <td>@VirginAmerica plus you've added commercials to the experience... tacky.</td>\n",
       "    </tr>\n",
       "    <tr>\n",
       "      <th>2</th>\n",
       "      <td>neutral</td>\n",
       "      <td>@VirginAmerica I didn't today... Must mean I need to take another trip!</td>\n",
       "    </tr>\n",
       "    <tr>\n",
       "      <th>3</th>\n",
       "      <td>negative</td>\n",
       "      <td>@VirginAmerica it's really aggressive to blast obnoxious \"entertainment\" in your guests' faces &amp;amp; they have little recourse</td>\n",
       "    </tr>\n",
       "    <tr>\n",
       "      <th>4</th>\n",
       "      <td>negative</td>\n",
       "      <td>@VirginAmerica and it's a really big bad thing about it</td>\n",
       "    </tr>\n",
       "  </tbody>\n",
       "</table>\n",
       "</div>"
      ],
      "text/plain": [
       "  airline_sentiment  \\\n",
       "0           neutral   \n",
       "1          positive   \n",
       "2           neutral   \n",
       "3          negative   \n",
       "4          negative   \n",
       "\n",
       "                                                                                                                             text  \n",
       "0                                                                                             @VirginAmerica What @dhepburn said.  \n",
       "1                                                        @VirginAmerica plus you've added commercials to the experience... tacky.  \n",
       "2                                                         @VirginAmerica I didn't today... Must mean I need to take another trip!  \n",
       "3  @VirginAmerica it's really aggressive to blast obnoxious \"entertainment\" in your guests' faces &amp; they have little recourse  \n",
       "4                                                                         @VirginAmerica and it's a really big bad thing about it  "
      ]
     },
     "execution_count": 12,
     "metadata": {},
     "output_type": "execute_result"
    }
   ],
   "source": [
    "pd.set_option('display.max_colwidth', None)\n",
    "tweets_copy.head()"
   ]
  },
  {
   "cell_type": "code",
   "execution_count": 13,
   "metadata": {
    "colab": {
     "base_uri": "https://localhost:8080/"
    },
    "id": "-reeEekKtKmK",
    "outputId": "0e81aa11-844c-498f-fdfd-ae19153c8d9d"
   },
   "outputs": [
    {
     "data": {
      "text/plain": [
       "negative    9178\n",
       "neutral     3099\n",
       "positive    2363\n",
       "Name: airline_sentiment, dtype: int64"
      ]
     },
     "execution_count": 13,
     "metadata": {},
     "output_type": "execute_result"
    }
   ],
   "source": [
    "tweets_copy['airline_sentiment'].value_counts()"
   ]
  },
  {
   "cell_type": "markdown",
   "metadata": {
    "id": "dqt35j2atcOg"
   },
   "source": [
    "There are 3 types of tweets here.Most of them are negative."
   ]
  },
  {
   "cell_type": "markdown",
   "metadata": {
    "id": "M4Gma0xmmtH9"
   },
   "source": [
    "1. There are some URL present in dataset.\n",
    "2. There is no HTML tag in dataset.\n",
    "3. Numbers are present.\n",
    "4. Punctuations are present.\n",
    "5. Special characters(emoticons,emojis) are present."
   ]
  },
  {
   "cell_type": "code",
   "execution_count": 14,
   "metadata": {
    "id": "HPemdmLJkVTV"
   },
   "outputs": [],
   "source": [
    "X_features = tweets_copy['text']\n",
    "y = tweets_copy['airline_sentiment']"
   ]
  },
  {
   "cell_type": "markdown",
   "metadata": {
    "id": "WkXsDRtPM3ZV"
   },
   "source": [
    "**HTML Tag removal**"
   ]
  },
  {
   "cell_type": "code",
   "execution_count": 15,
   "metadata": {
    "id": "I9MMipG8tXI2"
   },
   "outputs": [],
   "source": [
    "def remove_html_tags(text):\n",
    "  text_new = BeautifulSoup(text,'html.parser')\n",
    "  final_text = text_new.get_text()\n",
    "  return final_text\n"
   ]
  },
  {
   "cell_type": "markdown",
   "metadata": {
    "id": "ESCqUiXcp_gQ"
   },
   "source": [
    "**http link removal**"
   ]
  },
  {
   "cell_type": "code",
   "execution_count": 16,
   "metadata": {
    "id": "ENiVIM8GqC2W"
   },
   "outputs": [],
   "source": [
    "def remove_links(text):\n",
    "  new_text = re.sub(r'http\\S+', ' ',text)\n",
    "  return new_text"
   ]
  },
  {
   "cell_type": "markdown",
   "metadata": {
    "id": "ry9wACc3JjKO"
   },
   "source": [
    "**Remove mentions**"
   ]
  },
  {
   "cell_type": "code",
   "execution_count": 17,
   "metadata": {
    "id": "SlPXAO9CJmv1"
   },
   "outputs": [],
   "source": [
    "def remove_mentions(text):\n",
    "  new_text = re.sub(r'(@[A-Za-z0-9]+)','', text)\n",
    "  return new_text"
   ]
  },
  {
   "cell_type": "markdown",
   "metadata": {
    "id": "AtwYiDI6dUWG"
   },
   "source": [
    "**Replace contractions**"
   ]
  },
  {
   "cell_type": "code",
   "execution_count": 18,
   "metadata": {
    "id": "2EtwgsCKdX84"
   },
   "outputs": [],
   "source": [
    "def replace_contractions(text):\n",
    "    return contractions.fix(text)"
   ]
  },
  {
   "cell_type": "markdown",
   "metadata": {
    "id": "GVnc5S2pPccn"
   },
   "source": [
    "**Tokenization**"
   ]
  },
  {
   "cell_type": "code",
   "execution_count": 19,
   "metadata": {
    "id": "IaIOm84rPijC"
   },
   "outputs": [],
   "source": [
    "def text_tokenize(text):\n",
    "  tokens = word_tokenize(text)\n",
    "  tokens = [token.strip() for token in tokens]\n",
    "  return tokens"
   ]
  },
  {
   "cell_type": "markdown",
   "metadata": {
    "id": "uJ1Nmp87Ype9"
   },
   "source": [
    "**Remove numbers and punctuations**"
   ]
  },
  {
   "cell_type": "code",
   "execution_count": 20,
   "metadata": {
    "id": "rcqsrY36YszJ"
   },
   "outputs": [],
   "source": [
    "def remove_numbers(text): #this will remove numbers (1,2,3 etc. and also 1st,2nd,3rd,24th )\n",
    "  pattern = \"\\\\d+[a-zA-Z][a-zA-Z]''|\\d+\"; \n",
    "  new_text = re.sub(pattern,'',text) #re.sub(r'[^a-zA-Z]',' ',text)\n",
    "  return new_text"
   ]
  },
  {
   "cell_type": "code",
   "execution_count": 21,
   "metadata": {
    "id": "fl4FyZ2kbZv_"
   },
   "outputs": [],
   "source": [
    "def remove_punctuation(words):\n",
    "    new_words = []\n",
    "    for word in words:\n",
    "        new_word = re.sub(r'[^\\w\\s]', '', word)\n",
    "        if new_word != '':\n",
    "            new_words.append(new_word)\n",
    "    return new_words"
   ]
  },
  {
   "cell_type": "markdown",
   "metadata": {
    "id": "Wl--SFqpZvxv"
   },
   "source": [
    "**Remove special characters**"
   ]
  },
  {
   "cell_type": "code",
   "execution_count": 22,
   "metadata": {
    "id": "r2Wi-YlQZ3R2"
   },
   "outputs": [],
   "source": [
    "def remove_special_characters(text):\n",
    "   new_word = unicodedata.normalize('NFKD', text).encode('ascii', 'ignore').decode('utf-8', 'ignore')       \n",
    "   return new_word\n"
   ]
  },
  {
   "cell_type": "markdown",
   "metadata": {
    "id": "WH7RSdy2bgXr"
   },
   "source": [
    "**Convert to lower case**"
   ]
  },
  {
   "cell_type": "code",
   "execution_count": 23,
   "metadata": {
    "id": "LoB9PtxsbKVn"
   },
   "outputs": [],
   "source": [
    "def convert_to_lower(text):\n",
    "   lower_text = text.lower()        \n",
    "   return lower_text"
   ]
  },
  {
   "cell_type": "markdown",
   "metadata": {
    "id": "MFPhQdwldc-R"
   },
   "source": [
    "**Lemmatization**"
   ]
  },
  {
   "cell_type": "code",
   "execution_count": 24,
   "metadata": {
    "id": "ae7Btqw4XMue"
   },
   "outputs": [],
   "source": [
    "nlp = spacy.load('en_core_web_sm')"
   ]
  },
  {
   "cell_type": "code",
   "execution_count": 25,
   "metadata": {
    "id": "ibKSi2z4XI2i"
   },
   "outputs": [],
   "source": [
    "def lemmatize_text(words):\n",
    "    words = nlp(words)\n",
    "    final_text = words                           \n",
    "    for word in words:\n",
    "      final_text = ' '.join([word.lemma_ if word.lemma_ != '-PRON-' else word.text for word in words])\n",
    "    return final_text"
   ]
  },
  {
   "cell_type": "code",
   "execution_count": 26,
   "metadata": {
    "id": "de31CdPuhbQa"
   },
   "outputs": [],
   "source": [
    "stopword_list = stopwords.words('english')\n",
    "stopword_list.remove('not')\n",
    "stopword_list.remove('no')\n",
    "stopword_list.remove('too')\n",
    "stopword_list.append('us')\n",
    "stopword_list.append('w/')\n",
    "stopword_list.append('r')\n",
    "stopword_list.append('u')\n",
    "stopword_list.append('abt')\n",
    "stopword_list.append('b/c')\n",
    "stopword_list.append('yr')"
   ]
  },
  {
   "cell_type": "code",
   "execution_count": 27,
   "metadata": {
    "id": "Pe66J5zi1s5L"
   },
   "outputs": [],
   "source": [
    "#stopword_list"
   ]
  },
  {
   "cell_type": "code",
   "execution_count": 28,
   "metadata": {
    "id": "4wczq-xZd4Uw"
   },
   "outputs": [],
   "source": [
    "def remove_stopwords(words):\n",
    "    new_words = []                       \n",
    "    for word in words:\n",
    "        if word not in stopword_list:\n",
    "            new_words.append(word)        \n",
    "    return new_words\n"
   ]
  },
  {
   "cell_type": "code",
   "execution_count": 29,
   "metadata": {
    "id": "wxAZCPo4HYll"
   },
   "outputs": [],
   "source": [
    "def replace_abbr(text):  # remove abbreviations\n",
    "  new_text = re.sub(r'ppl','people',text)\n",
    "  new_text = re.sub(r'plz','please',new_text)\n",
    "  new_text = re.sub(r'pls','please',new_text)\n",
    "  new_text = re.sub(r'luv','love',new_text)\n",
    "  new_text = re.sub(r'yep','yes',new_text)\n",
    "  new_text = re.sub(r'thanks','thank',new_text)\n",
    "  new_text = re.sub(r'thankyou','thank',new_text)\n",
    "  new_text = re.sub(r'hrs','hour',new_text)\n",
    "  new_text = re.sub(r'tkt','ticket',new_text)\n",
    "  new_text = re.sub(r'w/you','with you',new_text)\n",
    "  new_text = re.sub(r'w/out','without',new_text)\n",
    "  return new_text"
   ]
  },
  {
   "cell_type": "code",
   "execution_count": 30,
   "metadata": {
    "id": "vxuIaHbiRNHK"
   },
   "outputs": [],
   "source": [
    "def replace_EmojisTo_text(text):\n",
    "  new_text = emoji.demojize(text)\n",
    "  new_text = new_text.replace('_','')\n",
    "  #new_text = text\n",
    "  #em_split_emoji = emoji.get_emoji_regexp().split(text)\n",
    "  #em_split_whitespace = [substr.split() for substr in em_split_emoji]\n",
    "  #em_split = functools.reduce(operator.concat, em_split_whitespace)\n",
    "  #for word in em_split:\n",
    "  #  if word in emojisDict_happySad.keys():\n",
    "  #    new_text = re.sub(word,emojisDict_happySad[word],new_text)\n",
    "  return new_text"
   ]
  },
  {
   "cell_type": "code",
   "execution_count": 31,
   "metadata": {
    "id": "tO9QZIDHD02n"
   },
   "outputs": [],
   "source": [
    "# emoticons\n",
    "def load_dict_smileys():   \n",
    "    return {\n",
    "        \":‑)\":\"positive\",\n",
    "        \":-]\":\"positive\",\n",
    "        \":-3\":\"positive\",\n",
    "        \":->\":\"positive\",\n",
    "        \"8-)\":\"positive\",\n",
    "        \":-}\":\"positive\",\n",
    "        \":)\":\"positive\",\n",
    "        \":]\":\"positive\",\n",
    "        \":3\":\"positive\",\n",
    "        \":>\":\"positive\",\n",
    "        \"8)\":\"positive\",\n",
    "        \":}\":\"positive\",\n",
    "        \":o)\":\"positive\",\n",
    "        \":c)\":\"positive\",\n",
    "        \":^)\":\"positive\",\n",
    "        \"=]\":\"positive\",\n",
    "        \"=)\":\"positive\",\n",
    "        \":-))\":\"positive\",\n",
    "        \":‑D\":\"positive\",\n",
    "        \"8‑D\":\"positive\",\n",
    "        \"x‑D\":\"positive\",\n",
    "        \"X‑D\":\"positive\",\n",
    "        \":D\":\"positive\",\n",
    "        \"8D\":\"positive\",\n",
    "        \"xD\":\"positive\",\n",
    "        \"XD\":\"positive\",\n",
    "        \";p\":\"positive\",\n",
    "        \":‑(\":\"negative\",\n",
    "        \":‑c\":\"negative\",\n",
    "        \":‑<\":\"negative\",\n",
    "        \":‑[\":\"negative\",\n",
    "        \":(\":\"negative\",\n",
    "        \":c\":\"negative\",\n",
    "        \":<\":\"negative\",\n",
    "        \":[\":\"negative\",\n",
    "        \":-||\":\"negative\",\n",
    "        \">:[\":\"negative\",\n",
    "        \":{\":\"negative\",\n",
    "        \":@\":\"negative\",\n",
    "        \">:(\":\"negative\",\n",
    "        \":'‑(\":\"negative\",\n",
    "        \":'(\":\"negative\",\n",
    "        \":‑P\":\"neutral\",\n",
    "        \"X‑P\":\"neutral\",\n",
    "        \"x‑p\":\"neutral\",\n",
    "        \":‑p\":\"neutral\",\n",
    "        \":‑Þ\":\"neutral\",\n",
    "        \":‑þ\":\"neutral\",\n",
    "        \":‑b\":\"neutral\",\n",
    "        \":P\":\"neutral\",\n",
    "        \"XP\":\"neutral\",\n",
    "        \"xp\":\"neutral\",\n",
    "        \":p\":\"neutral\",\n",
    "        \":Þ\":\"neutral\",\n",
    "        \":þ\":\"neutral\",\n",
    "        \":b\":\"neutral\",\n",
    "        \"<3\":\"positive\"\n",
    "        }"
   ]
  },
  {
   "cell_type": "code",
   "execution_count": 32,
   "metadata": {
    "id": "VPv6GuQcD-fO"
   },
   "outputs": [],
   "source": [
    "  def replace_EmoticonsTo_Text(text):\n",
    "    SMILEY_dict = load_dict_smileys()  \n",
    "    words = text.split()\n",
    "    reformed = [SMILEY_dict[word] if word in SMILEY_dict else word for word in words]\n",
    "    text = \" \".join(reformed)\n",
    "    return text"
   ]
  },
  {
   "cell_type": "code",
   "execution_count": 33,
   "metadata": {
    "id": "DOevzu5ugLzu"
   },
   "outputs": [],
   "source": [
    "def extract_emojis(tweets):\n",
    "  emoji_dict = {}\n",
    "  for tweet in tweets:\n",
    "    dict1 = {}\n",
    "    dict1 =demoji.findall(tweet)\n",
    "    for key,value in zip(dict1.keys(),dict1.values()):\n",
    "      emoji_dict[key] = value\n",
    "  return emoji_dict"
   ]
  },
  {
   "cell_type": "code",
   "execution_count": 34,
   "metadata": {
    "colab": {
     "base_uri": "https://localhost:8080/"
    },
    "id": "ZrZEIF08g7Wk",
    "outputId": "c579a69e-8c81-41dd-ce45-2198e0c4f871"
   },
   "outputs": [
    {
     "data": {
      "text/plain": [
       "{'👍': 'thumbs up',\n",
       " '❤️': 'red heart',\n",
       " '☺️': 'smiling face',\n",
       " '😡': 'pouting face',\n",
       " '😢': 'crying face',\n",
       " '💜': 'purple heart',\n",
       " '✈': 'airplane',\n",
       " '🍷': 'wine glass',\n",
       " '💺': 'seat',\n",
       " '✈️': 'airplane',\n",
       " '😊': 'smiling face with smiling eyes',\n",
       " '😍': 'smiling face with heart-eyes',\n",
       " '👌': 'OK hand',\n",
       " '💕': 'two hearts',\n",
       " '🌞': 'sun with face',\n",
       " '😃': 'grinning face with big eyes',\n",
       " '😩': 'weary face',\n",
       " '😭': 'loudly crying face',\n",
       " '😎': 'smiling face with sunglasses',\n",
       " '🙉': 'hear-no-evil monkey',\n",
       " '😁': 'beaming face with smiling eyes',\n",
       " '❄️': 'snowflake',\n",
       " '👏': 'clapping hands',\n",
       " '💗': 'growing heart',\n",
       " '😂': 'face with tears of joy',\n",
       " '🍸': 'cocktail glass',\n",
       " '😒': 'unamused face',\n",
       " '👎': 'thumbs down',\n",
       " '😄': 'grinning face with smiling eyes',\n",
       " '😀': 'grinning face',\n",
       " '😘': 'face blowing a kiss',\n",
       " '👸': 'princess',\n",
       " '🇺🇸': 'flag: United States',\n",
       " '🇬🇧': 'flag: United Kingdom',\n",
       " '🎀': 'ribbon',\n",
       " '🌏': 'globe showing Asia-Australia',\n",
       " '😥': 'sad but relieved face',\n",
       " '😉': 'winking face',\n",
       " '✨': 'sparkles',\n",
       " '😱': 'face screaming in fear',\n",
       " '🎉': 'party popper',\n",
       " '🙌': 'raising hands',\n",
       " '💤': 'zzz',\n",
       " '😞': 'disappointed face',\n",
       " '♥': 'heart suit',\n",
       " '👋': 'waving hand',\n",
       " '✌️': 'victory hand',\n",
       " '🙏': 'folded hands',\n",
       " '👿': 'angry face with horns',\n",
       " '😔': 'pensive face',\n",
       " '🙅': 'person gesturing NO',\n",
       " '🆖': 'NG button',\n",
       " '💩': 'pile of poo',\n",
       " '✔️': 'check mark',\n",
       " '🌴': 'palm tree',\n",
       " '✅': 'check mark button',\n",
       " '❌': 'cross mark',\n",
       " '👠': 'high-heeled shoe',\n",
       " '😜': 'winking face with tongue',\n",
       " '😻': 'smiling cat with heart-eyes',\n",
       " '😕': 'confused face',\n",
       " '😈': 'smiling face with horns',\n",
       " '😤': 'face with steam from nose',\n",
       " '💪': 'flexed biceps',\n",
       " '😫': 'tired face',\n",
       " '😪': 'sleepy face',\n",
       " '💔': 'broken heart',\n",
       " '😣': 'persevering face',\n",
       " '😬': 'grimacing face',\n",
       " '💁': 'person tipping hand',\n",
       " '😋': 'face savoring food',\n",
       " '😏': 'smirking face',\n",
       " '😖': 'confounded face',\n",
       " '🌟': 'glowing star',\n",
       " '📱': 'mobile phone',\n",
       " '🍻': 'clinking beer mugs',\n",
       " '💖': 'sparkling heart',\n",
       " '😅': 'grinning face with sweat',\n",
       " '💝': 'heart with ribbon',\n",
       " '🚫': 'prohibited',\n",
       " '↔️': 'left-right arrow',\n",
       " '😷': 'face with medical mask',\n",
       " '⭐': 'star',\n",
       " '❤': 'red heart',\n",
       " '🎵': 'musical note',\n",
       " '❗': 'red exclamation mark',\n",
       " '🐴': 'horse face',\n",
       " '☺': 'smiling face',\n",
       " '♥️': 'heart suit',\n",
       " '😆': 'grinning squinting face',\n",
       " '😑': 'expressionless face',\n",
       " '🐩': 'poodle',\n",
       " '⤴': 'right arrow curving up',\n",
       " '☀️': 'sun',\n",
       " '👊': 'oncoming fist',\n",
       " '💯': 'hundred points',\n",
       " '😠': 'angry face',\n",
       " '📲': 'mobile phone with arrow',\n",
       " '☕': 'hot beverage',\n",
       " '👺': 'goblin',\n",
       " '🙈': 'see-no-evil monkey',\n",
       " '💘': 'heart with arrow',\n",
       " '💙': 'blue heart',\n",
       " '🚪': 'door',\n",
       " '👉': 'backhand index pointing right',\n",
       " '😳': 'flushed face',\n",
       " '😵': 'knocked-out face',\n",
       " '🚶': 'person walking',\n",
       " '🔵': 'blue circle',\n",
       " '😐': 'neutral face',\n",
       " '👀': 'eyes',\n",
       " '🍅': 'tomato',\n",
       " '🆘': 'SOS button',\n",
       " '⛄': 'snowman without snow',\n",
       " '😓': 'downcast face with sweat',\n",
       " '🎲': 'game die',\n",
       " '⌚': 'watch',\n",
       " '🐳': 'spouting whale',\n",
       " '⤵': 'right arrow curving down',\n",
       " '😮': 'face with open mouth',\n",
       " '😲': 'astonished face',\n",
       " '😦': 'frowning face with open mouth',\n",
       " '➡️': 'right arrow'}"
      ]
     },
     "execution_count": 34,
     "metadata": {},
     "output_type": "execute_result"
    }
   ],
   "source": [
    "emojis_dict = extract_emojis(tweets_copy['text'])\n",
    "emojis_dict"
   ]
  },
  {
   "cell_type": "code",
   "execution_count": 35,
   "metadata": {
    "colab": {
     "base_uri": "https://localhost:8080/"
    },
    "id": "EbZL0o7thSrg",
    "outputId": "f81e338f-53f1-4bc6-dc84-7e5adabda141"
   },
   "outputs": [
    {
     "name": "stdout",
     "output_type": "stream",
     "text": [
      "123\n"
     ]
    }
   ],
   "source": [
    "print(len(emojis_dict)) # there are 123 unique emojis used in this dataset"
   ]
  },
  {
   "cell_type": "code",
   "execution_count": 36,
   "metadata": {
    "id": "2XPjMLENiasj"
   },
   "outputs": [],
   "source": [
    "#emojisDict_happySad = emojis_dict.copy()\n",
    "#list2 = ['positive ', 'positive ', 'love ', 'negative ', 'negative ', 'love ', 'airplane', 'airplane', \n",
    " #                             'seat', 'positive ', 'positive ', 'positive ', 'positive ', 'positive ',                           \n",
    " #                             'sun with face', 'positive ', 'negative ', 'negative ', 'positive ',\n",
    "#                              'hear-no-evil monkey', 'positive ', 'snowflake', 'positive ', 'positive ',\n",
    "#                              'positive ', 'cocktail glass', 'negative ', 'negative ', 'positive ',\n",
    "#                              'grinning face with smiling eyes', 'face blowing a kiss', 'princess', 'flag: United States', \n",
    "#                              'globe showing Asia-Australia', 'flag: United Kingdom', 'ribbon', 'sad but relieved face', 'winking face', \n",
    "#                              'negative ', 'sparkles', 'party popper', 'positive ', 'zzz', 'negative ', 'positive ', \n",
    "#                              'waving hand', 'positive ', 'folded hands', 'angry face with horns', 'pensive face', 'person gesturing NO', \n",
    "#                              'NG button', 'negative ', 'positive ', 'palm tree', 'positive ', 'negative ', 'high-heeled shoe', \n",
    "#                              'winking face with tongue', 'smiling cat with heart-eyes', 'confused face', 'smiling face with horns', \n",
    "#                              'face with steam from nose', 'flexed biceps', 'tired face', 'broken heart', 'sleepy face', 'persevering face', \n",
    "#                              'grimacing face', 'person tipping hand', 'face savoring food', 'smirking face', 'confounded face', 'glowing star', \n",
    "#                              'mobile phone', 'clinking beer mugs', 'sparkling heart', 'grinning face with sweat', 'heart with ribbon', \n",
    "#                              'prohibited', 'left-right arrow', 'face with medical mask', 'star', 'love ', 'red exclamation mark',\n",
    "#                              'musical note', 'horse face', 'positive ', 'love ', 'grinning squinting face', 'expressionless face', \n",
    "#                              'poodle', 'right arrow curving up', 'sun', 'oncoming fist', 'hundred points', 'negative', 'hot beverage',\n",
    "#                              'mobile phone with arrow', 'goblin', 'see-no-evil monkey', 'love ', 'love ', 'door',\n",
    "#                              'backhand index pointing right', 'flushed face', 'knocked-out face', 'person walking', 'blue circle',\n",
    "#                              'neutral ', 'eyes', 'tomato', 'SOS button', 'snowman without snow', 'negative ', \n",
    "#                              'game die', 'watch', 'spouting whale', 'right arrow curving down', 'face with open mouth', 'astonished face',\n",
    "#                              'frowning face with open mouth', 'right arrow']\n",
    "#i = 0\n",
    "#for key,value in emojisDict_happySad.items():\n",
    "#  emojisDict_happySad[key] = list2[i]\n",
    "#  i = i +1\n",
    "\n",
    "#print(emojisDict_happySad)\n"
   ]
  },
  {
   "cell_type": "code",
   "execution_count": 37,
   "metadata": {
    "id": "gzF28dbDjNCK"
   },
   "outputs": [],
   "source": [
    "def preprocess_text(text):\n",
    "  \n",
    "  new_text = remove_links(text)\n",
    "  new_text = replace_contractions(new_text)\n",
    "  new_text = convert_to_lower(new_text)\n",
    "  new_text = remove_html_tags(new_text) \n",
    "  new_text = remove_mentions(new_text)\n",
    "  new_text = replace_abbr(new_text)\n",
    "  # Instead of removing emojis,emoticons,we are converting them to text\n",
    "  new_text = replace_EmojisTo_text(new_text)\n",
    "  new_text = replace_EmoticonsTo_Text(new_text)\n",
    "  new_text = remove_special_characters(new_text) # if there is any other special character remaining after above pre-process,remove them\n",
    "  new_text = remove_numbers(new_text)\n",
    "  new_text = lemmatize_text(new_text)\n",
    "  new_text = text_tokenize(new_text)\n",
    "  new_text = remove_punctuation(new_text)\n",
    "  new_text = remove_stopwords(new_text) \n",
    "  new_text = ' '.join(new_text)\n",
    "\n",
    "  return new_text\n"
   ]
  },
  {
   "cell_type": "code",
   "execution_count": 38,
   "metadata": {
    "colab": {
     "base_uri": "https://localhost:8080/"
    },
    "id": "tSfFPLX8O_vR",
    "outputId": "53b5c657-52b3-45e4-99aa-3c908256cc45"
   },
   "outputs": [
    {
     "name": "stdout",
     "output_type": "stream",
     "text": [
      "seat hour inside flight ua iad delayed offer water cookie business class fail\n"
     ]
    }
   ],
   "source": [
    "text = preprocess_text(tweets_copy['text'][2148])\n",
    "print(text)"
   ]
  },
  {
   "cell_type": "code",
   "execution_count": 39,
   "metadata": {
    "colab": {
     "base_uri": "https://localhost:8080/",
     "height": 53
    },
    "id": "Wqy47H-PQUer",
    "outputId": "42aa6e5e-7f5c-4585-ef9c-62973bba88ac"
   },
   "outputs": [
    {
     "data": {
      "text/plain": [
       "\"@united we've been seating for 5hrs inside flight UA936 at #IAD delayed. We've only been offered water &amp; cookies in business class. #failed\""
      ]
     },
     "execution_count": 39,
     "metadata": {},
     "output_type": "execute_result"
    }
   ],
   "source": [
    "tweets_copy['text'][2148]"
   ]
  },
  {
   "cell_type": "code",
   "execution_count": 40,
   "metadata": {
    "id": "XoIYZ1bVk63T"
   },
   "outputs": [],
   "source": [
    "wordsList = []\n",
    "for i in range(X_features.shape[0]):\n",
    "  text = preprocess_text(X_features[i])\n",
    "  wordsList.append(text)"
   ]
  },
  {
   "cell_type": "code",
   "execution_count": 41,
   "metadata": {
    "colab": {
     "base_uri": "https://localhost:8080/",
     "height": 35
    },
    "id": "BeCbl7tmoK5I",
    "outputId": "a0264403-81a7-40af-aa44-fac3035381c3"
   },
   "outputs": [
    {
     "data": {
      "text/plain": [
       "'moodlighte way fly good experience ever cool calming purpleheart airplane moodlitmonday'"
      ]
     },
     "execution_count": 41,
     "metadata": {},
     "output_type": "execute_result"
    }
   ],
   "source": [
    "wordsList[36] #6, [42,36(emoji)]"
   ]
  },
  {
   "cell_type": "code",
   "execution_count": 42,
   "metadata": {
    "colab": {
     "base_uri": "https://localhost:8080/",
     "height": 355
    },
    "id": "RELwNtSQlBUu",
    "outputId": "586b7bfd-d886-4484-a461-ba1cff8d945b"
   },
   "outputs": [
    {
     "data": {
      "text/html": [
       "<div>\n",
       "<style scoped>\n",
       "    .dataframe tbody tr th:only-of-type {\n",
       "        vertical-align: middle;\n",
       "    }\n",
       "\n",
       "    .dataframe tbody tr th {\n",
       "        vertical-align: top;\n",
       "    }\n",
       "\n",
       "    .dataframe thead th {\n",
       "        text-align: right;\n",
       "    }\n",
       "</style>\n",
       "<table border=\"1\" class=\"dataframe\">\n",
       "  <thead>\n",
       "    <tr style=\"text-align: right;\">\n",
       "      <th></th>\n",
       "      <th>text</th>\n",
       "      <th>airline_sentiment</th>\n",
       "    </tr>\n",
       "  </thead>\n",
       "  <tbody>\n",
       "    <tr>\n",
       "      <th>0</th>\n",
       "      <td>say</td>\n",
       "      <td>neutral</td>\n",
       "    </tr>\n",
       "    <tr>\n",
       "      <th>1</th>\n",
       "      <td>plus add commercial experience tacky</td>\n",
       "      <td>positive</td>\n",
       "    </tr>\n",
       "    <tr>\n",
       "      <th>2</th>\n",
       "      <td>I not today must mean I need take another trip</td>\n",
       "      <td>neutral</td>\n",
       "    </tr>\n",
       "    <tr>\n",
       "      <th>3</th>\n",
       "      <td>really aggressive blast obnoxious entertainment guest face little recourse</td>\n",
       "      <td>negative</td>\n",
       "    </tr>\n",
       "    <tr>\n",
       "      <th>4</th>\n",
       "      <td>really big bad thing</td>\n",
       "      <td>negative</td>\n",
       "    </tr>\n",
       "    <tr>\n",
       "      <th>5</th>\n",
       "      <td>seriously would pay flight seat not playing really bad thing fly va</td>\n",
       "      <td>negative</td>\n",
       "    </tr>\n",
       "    <tr>\n",
       "      <th>6</th>\n",
       "      <td>yes nearly every time I fly vx ear worm not go away positive</td>\n",
       "      <td>positive</td>\n",
       "    </tr>\n",
       "    <tr>\n",
       "      <th>7</th>\n",
       "      <td>really miss prime opportunity man without hat parody</td>\n",
       "      <td>neutral</td>\n",
       "    </tr>\n",
       "    <tr>\n",
       "      <th>8</th>\n",
       "      <td>well I not I</td>\n",
       "      <td>positive</td>\n",
       "    </tr>\n",
       "    <tr>\n",
       "      <th>9</th>\n",
       "      <td>amazing arrive hour early too good I</td>\n",
       "      <td>positive</td>\n",
       "    </tr>\n",
       "  </tbody>\n",
       "</table>\n",
       "</div>"
      ],
      "text/plain": [
       "                                                                         text  \\\n",
       "0                                                                         say   \n",
       "1                                        plus add commercial experience tacky   \n",
       "2                              I not today must mean I need take another trip   \n",
       "3  really aggressive blast obnoxious entertainment guest face little recourse   \n",
       "4                                                        really big bad thing   \n",
       "5         seriously would pay flight seat not playing really bad thing fly va   \n",
       "6                yes nearly every time I fly vx ear worm not go away positive   \n",
       "7                        really miss prime opportunity man without hat parody   \n",
       "8                                                                well I not I   \n",
       "9                                        amazing arrive hour early too good I   \n",
       "\n",
       "  airline_sentiment  \n",
       "0           neutral  \n",
       "1          positive  \n",
       "2           neutral  \n",
       "3          negative  \n",
       "4          negative  \n",
       "5          negative  \n",
       "6          positive  \n",
       "7           neutral  \n",
       "8          positive  \n",
       "9          positive  "
      ]
     },
     "execution_count": 42,
     "metadata": {},
     "output_type": "execute_result"
    }
   ],
   "source": [
    "processed_df = pd.DataFrame(wordsList,columns=['text'])\n",
    "processed_df['airline_sentiment'] = tweets_copy['airline_sentiment']\n",
    "processed_df.head(10)"
   ]
  },
  {
   "cell_type": "code",
   "execution_count": 43,
   "metadata": {},
   "outputs": [
    {
     "name": "stdout",
     "output_type": "stream",
     "text": [
      "Requirement already satisfied: wordcloud in c:\\users\\juhi\\anaconda3\\lib\\site-packages (1.8.1)\n",
      "Requirement already satisfied: pillow in c:\\users\\juhi\\anaconda3\\lib\\site-packages (from wordcloud) (7.0.0)\n",
      "Requirement already satisfied: numpy>=1.6.1 in c:\\users\\juhi\\anaconda3\\lib\\site-packages (from wordcloud) (1.18.1)\n",
      "Requirement already satisfied: matplotlib in c:\\users\\juhi\\anaconda3\\lib\\site-packages (from wordcloud) (3.3.1)\n",
      "Requirement already satisfied: certifi>=2020.06.20 in c:\\users\\juhi\\anaconda3\\lib\\site-packages (from matplotlib->wordcloud) (2020.6.20)\n",
      "Requirement already satisfied: python-dateutil>=2.1 in c:\\users\\juhi\\anaconda3\\lib\\site-packages (from matplotlib->wordcloud) (2.8.1)\n",
      "Requirement already satisfied: pyparsing!=2.0.4,!=2.1.2,!=2.1.6,>=2.0.3 in c:\\users\\juhi\\anaconda3\\lib\\site-packages (from matplotlib->wordcloud) (2.4.6)\n",
      "Requirement already satisfied: kiwisolver>=1.0.1 in c:\\users\\juhi\\anaconda3\\lib\\site-packages (from matplotlib->wordcloud) (1.1.0)\n",
      "Requirement already satisfied: cycler>=0.10 in c:\\users\\juhi\\anaconda3\\lib\\site-packages (from matplotlib->wordcloud) (0.10.0)\n",
      "Requirement already satisfied: six>=1.5 in c:\\users\\juhi\\anaconda3\\lib\\site-packages (from python-dateutil>=2.1->matplotlib->wordcloud) (1.14.0)\n",
      "Requirement already satisfied: setuptools in c:\\users\\juhi\\anaconda3\\lib\\site-packages (from kiwisolver>=1.0.1->matplotlib->wordcloud) (45.2.0.post20200210)\n"
     ]
    }
   ],
   "source": [
    "!pip install wordcloud"
   ]
  },
  {
   "cell_type": "code",
   "execution_count": 44,
   "metadata": {
    "colab": {
     "base_uri": "https://localhost:8080/",
     "height": 607
    },
    "id": "43VPB95OvQ2R",
    "outputId": "c36e563f-af05-4bef-c5e9-4a2fd0507797"
   },
   "outputs": [
    {
     "data": {
      "image/png": "[encoded data removed]",
      "text/plain": [
       "<Figure size 720x576 with 1 Axes>"
      ]
     },
     "metadata": {
      "needs_background": "light"
     },
     "output_type": "display_data"
    }
   ],
   "source": [
    "from wordcloud import WordCloud\n",
    "\n",
    "\n",
    "comment_words = ''\n",
    "for sentence in wordsList:\n",
    "  tokens = sentence.split()\n",
    "  comment_words = \" \".join(tokens)\n",
    "\n",
    "wordcloud = WordCloud(width = 800, height = 800,\n",
    "\t\t\t\tbackground_color ='white',\n",
    "\t\t\t\tstopwords = stopword_list,\n",
    "\t\t\t\tmin_font_size = 10).generate(comment_words)\n",
    "\n",
    "# plot the WordCloud image\t\t\t\t\t\n",
    "plt.figure(figsize = (10, 8), facecolor = None)\n",
    "plt.imshow(wordcloud)\n",
    "plt.axis(\"off\")\n",
    "plt.tight_layout(pad = 0)\n",
    "\n",
    "plt.show()\n"
   ]
  },
  {
   "cell_type": "markdown",
   "metadata": {
    "id": "Fui6j6xO_CB7"
   },
   "source": [
    "**Count Vectorization**"
   ]
  },
  {
   "cell_type": "code",
   "execution_count": 45,
   "metadata": {
    "id": "ZPjuhlJy_JFK"
   },
   "outputs": [],
   "source": [
    "countVector = CountVectorizer(max_features=5000)#min_df=5,ngram_range=(1,2)\n",
    "X_count_features = countVector.fit_transform(processed_df['text'])"
   ]
  },
  {
   "cell_type": "code",
   "execution_count": 46,
   "metadata": {
    "colab": {
     "base_uri": "https://localhost:8080/"
    },
    "id": "Np2CwcmhwKQA",
    "outputId": "d4098b96-05d4-4077-f091-98333a2827b5"
   },
   "outputs": [
    {
     "data": {
      "text/plain": [
       "(14640, 5000)"
      ]
     },
     "execution_count": 46,
     "metadata": {},
     "output_type": "execute_result"
    }
   ],
   "source": [
    "X_count_features.shape"
   ]
  },
  {
   "cell_type": "code",
   "execution_count": 47,
   "metadata": {
    "colab": {
     "base_uri": "https://localhost:8080/",
     "height": 405
    },
    "id": "b8ZzHz1CDwpm",
    "outputId": "49dfcc46-8eb4-4710-db72-3de56aaf5ed0"
   },
   "outputs": [
    {
     "data": {
      "text/html": [
       "<div>\n",
       "<style scoped>\n",
       "    .dataframe tbody tr th:only-of-type {\n",
       "        vertical-align: middle;\n",
       "    }\n",
       "\n",
       "    .dataframe tbody tr th {\n",
       "        vertical-align: top;\n",
       "    }\n",
       "\n",
       "    .dataframe thead th {\n",
       "        text-align: right;\n",
       "    }\n",
       "</style>\n",
       "<table border=\"1\" class=\"dataframe\">\n",
       "  <thead>\n",
       "    <tr style=\"text-align: right;\">\n",
       "      <th></th>\n",
       "      <th>0</th>\n",
       "      <th>1</th>\n",
       "      <th>2</th>\n",
       "      <th>3</th>\n",
       "      <th>4</th>\n",
       "      <th>5</th>\n",
       "      <th>6</th>\n",
       "      <th>7</th>\n",
       "      <th>8</th>\n",
       "      <th>9</th>\n",
       "      <th>...</th>\n",
       "      <th>14630</th>\n",
       "      <th>14631</th>\n",
       "      <th>14632</th>\n",
       "      <th>14633</th>\n",
       "      <th>14634</th>\n",
       "      <th>14635</th>\n",
       "      <th>14636</th>\n",
       "      <th>14637</th>\n",
       "      <th>14638</th>\n",
       "      <th>14639</th>\n",
       "    </tr>\n",
       "  </thead>\n",
       "  <tbody>\n",
       "    <tr>\n",
       "      <th>aa</th>\n",
       "      <td>0</td>\n",
       "      <td>0</td>\n",
       "      <td>0</td>\n",
       "      <td>0</td>\n",
       "      <td>0</td>\n",
       "      <td>0</td>\n",
       "      <td>0</td>\n",
       "      <td>0</td>\n",
       "      <td>0</td>\n",
       "      <td>0</td>\n",
       "      <td>...</td>\n",
       "      <td>0</td>\n",
       "      <td>0</td>\n",
       "      <td>0</td>\n",
       "      <td>0</td>\n",
       "      <td>0</td>\n",
       "      <td>0</td>\n",
       "      <td>0</td>\n",
       "      <td>0</td>\n",
       "      <td>0</td>\n",
       "      <td>0</td>\n",
       "    </tr>\n",
       "    <tr>\n",
       "      <th>aadv</th>\n",
       "      <td>0</td>\n",
       "      <td>0</td>\n",
       "      <td>0</td>\n",
       "      <td>0</td>\n",
       "      <td>0</td>\n",
       "      <td>0</td>\n",
       "      <td>0</td>\n",
       "      <td>0</td>\n",
       "      <td>0</td>\n",
       "      <td>0</td>\n",
       "      <td>...</td>\n",
       "      <td>0</td>\n",
       "      <td>0</td>\n",
       "      <td>0</td>\n",
       "      <td>0</td>\n",
       "      <td>0</td>\n",
       "      <td>0</td>\n",
       "      <td>0</td>\n",
       "      <td>0</td>\n",
       "      <td>0</td>\n",
       "      <td>0</td>\n",
       "    </tr>\n",
       "    <tr>\n",
       "      <th>aadvantage</th>\n",
       "      <td>0</td>\n",
       "      <td>0</td>\n",
       "      <td>0</td>\n",
       "      <td>0</td>\n",
       "      <td>0</td>\n",
       "      <td>0</td>\n",
       "      <td>0</td>\n",
       "      <td>0</td>\n",
       "      <td>0</td>\n",
       "      <td>0</td>\n",
       "      <td>...</td>\n",
       "      <td>0</td>\n",
       "      <td>0</td>\n",
       "      <td>0</td>\n",
       "      <td>0</td>\n",
       "      <td>0</td>\n",
       "      <td>0</td>\n",
       "      <td>0</td>\n",
       "      <td>0</td>\n",
       "      <td>0</td>\n",
       "      <td>0</td>\n",
       "    </tr>\n",
       "    <tr>\n",
       "      <th>aafail</th>\n",
       "      <td>0</td>\n",
       "      <td>0</td>\n",
       "      <td>0</td>\n",
       "      <td>0</td>\n",
       "      <td>0</td>\n",
       "      <td>0</td>\n",
       "      <td>0</td>\n",
       "      <td>0</td>\n",
       "      <td>0</td>\n",
       "      <td>0</td>\n",
       "      <td>...</td>\n",
       "      <td>0</td>\n",
       "      <td>0</td>\n",
       "      <td>0</td>\n",
       "      <td>0</td>\n",
       "      <td>0</td>\n",
       "      <td>0</td>\n",
       "      <td>0</td>\n",
       "      <td>0</td>\n",
       "      <td>0</td>\n",
       "      <td>0</td>\n",
       "    </tr>\n",
       "    <tr>\n",
       "      <th>aal</th>\n",
       "      <td>0</td>\n",
       "      <td>0</td>\n",
       "      <td>0</td>\n",
       "      <td>0</td>\n",
       "      <td>0</td>\n",
       "      <td>0</td>\n",
       "      <td>0</td>\n",
       "      <td>0</td>\n",
       "      <td>0</td>\n",
       "      <td>0</td>\n",
       "      <td>...</td>\n",
       "      <td>0</td>\n",
       "      <td>0</td>\n",
       "      <td>0</td>\n",
       "      <td>0</td>\n",
       "      <td>0</td>\n",
       "      <td>0</td>\n",
       "      <td>0</td>\n",
       "      <td>0</td>\n",
       "      <td>0</td>\n",
       "      <td>0</td>\n",
       "    </tr>\n",
       "    <tr>\n",
       "      <th>abandon</th>\n",
       "      <td>0</td>\n",
       "      <td>0</td>\n",
       "      <td>0</td>\n",
       "      <td>0</td>\n",
       "      <td>0</td>\n",
       "      <td>0</td>\n",
       "      <td>0</td>\n",
       "      <td>0</td>\n",
       "      <td>0</td>\n",
       "      <td>0</td>\n",
       "      <td>...</td>\n",
       "      <td>0</td>\n",
       "      <td>0</td>\n",
       "      <td>0</td>\n",
       "      <td>0</td>\n",
       "      <td>0</td>\n",
       "      <td>0</td>\n",
       "      <td>0</td>\n",
       "      <td>0</td>\n",
       "      <td>0</td>\n",
       "      <td>0</td>\n",
       "    </tr>\n",
       "    <tr>\n",
       "      <th>abc</th>\n",
       "      <td>0</td>\n",
       "      <td>0</td>\n",
       "      <td>0</td>\n",
       "      <td>0</td>\n",
       "      <td>0</td>\n",
       "      <td>0</td>\n",
       "      <td>0</td>\n",
       "      <td>0</td>\n",
       "      <td>0</td>\n",
       "      <td>0</td>\n",
       "      <td>...</td>\n",
       "      <td>0</td>\n",
       "      <td>0</td>\n",
       "      <td>0</td>\n",
       "      <td>0</td>\n",
       "      <td>0</td>\n",
       "      <td>0</td>\n",
       "      <td>0</td>\n",
       "      <td>0</td>\n",
       "      <td>0</td>\n",
       "      <td>0</td>\n",
       "    </tr>\n",
       "    <tr>\n",
       "      <th>abi</th>\n",
       "      <td>0</td>\n",
       "      <td>0</td>\n",
       "      <td>0</td>\n",
       "      <td>0</td>\n",
       "      <td>0</td>\n",
       "      <td>0</td>\n",
       "      <td>0</td>\n",
       "      <td>0</td>\n",
       "      <td>0</td>\n",
       "      <td>0</td>\n",
       "      <td>...</td>\n",
       "      <td>0</td>\n",
       "      <td>0</td>\n",
       "      <td>0</td>\n",
       "      <td>0</td>\n",
       "      <td>0</td>\n",
       "      <td>0</td>\n",
       "      <td>0</td>\n",
       "      <td>0</td>\n",
       "      <td>0</td>\n",
       "      <td>0</td>\n",
       "    </tr>\n",
       "    <tr>\n",
       "      <th>ability</th>\n",
       "      <td>0</td>\n",
       "      <td>0</td>\n",
       "      <td>0</td>\n",
       "      <td>0</td>\n",
       "      <td>0</td>\n",
       "      <td>0</td>\n",
       "      <td>0</td>\n",
       "      <td>0</td>\n",
       "      <td>0</td>\n",
       "      <td>0</td>\n",
       "      <td>...</td>\n",
       "      <td>0</td>\n",
       "      <td>0</td>\n",
       "      <td>0</td>\n",
       "      <td>0</td>\n",
       "      <td>0</td>\n",
       "      <td>0</td>\n",
       "      <td>0</td>\n",
       "      <td>0</td>\n",
       "      <td>0</td>\n",
       "      <td>0</td>\n",
       "    </tr>\n",
       "    <tr>\n",
       "      <th>able</th>\n",
       "      <td>0</td>\n",
       "      <td>0</td>\n",
       "      <td>0</td>\n",
       "      <td>0</td>\n",
       "      <td>0</td>\n",
       "      <td>0</td>\n",
       "      <td>0</td>\n",
       "      <td>0</td>\n",
       "      <td>0</td>\n",
       "      <td>0</td>\n",
       "      <td>...</td>\n",
       "      <td>0</td>\n",
       "      <td>0</td>\n",
       "      <td>0</td>\n",
       "      <td>0</td>\n",
       "      <td>0</td>\n",
       "      <td>0</td>\n",
       "      <td>0</td>\n",
       "      <td>0</td>\n",
       "      <td>0</td>\n",
       "      <td>0</td>\n",
       "    </tr>\n",
       "  </tbody>\n",
       "</table>\n",
       "<p>10 rows × 14640 columns</p>\n",
       "</div>"
      ],
      "text/plain": [
       "            0      1      2      3      4      5      6      7      8      \\\n",
       "aa              0      0      0      0      0      0      0      0      0   \n",
       "aadv            0      0      0      0      0      0      0      0      0   \n",
       "aadvantage      0      0      0      0      0      0      0      0      0   \n",
       "aafail          0      0      0      0      0      0      0      0      0   \n",
       "aal             0      0      0      0      0      0      0      0      0   \n",
       "abandon         0      0      0      0      0      0      0      0      0   \n",
       "abc             0      0      0      0      0      0      0      0      0   \n",
       "abi             0      0      0      0      0      0      0      0      0   \n",
       "ability         0      0      0      0      0      0      0      0      0   \n",
       "able            0      0      0      0      0      0      0      0      0   \n",
       "\n",
       "            9      ...  14630  14631  14632  14633  14634  14635  14636  \\\n",
       "aa              0  ...      0      0      0      0      0      0      0   \n",
       "aadv            0  ...      0      0      0      0      0      0      0   \n",
       "aadvantage      0  ...      0      0      0      0      0      0      0   \n",
       "aafail          0  ...      0      0      0      0      0      0      0   \n",
       "aal             0  ...      0      0      0      0      0      0      0   \n",
       "abandon         0  ...      0      0      0      0      0      0      0   \n",
       "abc             0  ...      0      0      0      0      0      0      0   \n",
       "abi             0  ...      0      0      0      0      0      0      0   \n",
       "ability         0  ...      0      0      0      0      0      0      0   \n",
       "able            0  ...      0      0      0      0      0      0      0   \n",
       "\n",
       "            14637  14638  14639  \n",
       "aa              0      0      0  \n",
       "aadv            0      0      0  \n",
       "aadvantage      0      0      0  \n",
       "aafail          0      0      0  \n",
       "aal             0      0      0  \n",
       "abandon         0      0      0  \n",
       "abc             0      0      0  \n",
       "abi             0      0      0  \n",
       "ability         0      0      0  \n",
       "able            0      0      0  \n",
       "\n",
       "[10 rows x 14640 columns]"
      ]
     },
     "execution_count": 47,
     "metadata": {},
     "output_type": "execute_result"
    }
   ],
   "source": [
    "feature_names = countVector.get_feature_names()\n",
    "corpus_index = [n for n in range(X_count_features.shape[0])]\n",
    "count_df = pd.DataFrame(X_count_features.T.todense(),index=feature_names, columns=corpus_index)\n",
    "count_df.head(10)"
   ]
  },
  {
   "cell_type": "code",
   "execution_count": 48,
   "metadata": {
    "colab": {
     "base_uri": "https://localhost:8080/",
     "height": 969
    },
    "id": "5Wqi-rkvb0mm",
    "outputId": "e94ee58a-7d2c-4f81-d180-3f682f934b92"
   },
   "outputs": [
    {
     "data": {
      "text/html": [
       "<div>\n",
       "<style scoped>\n",
       "    .dataframe tbody tr th:only-of-type {\n",
       "        vertical-align: middle;\n",
       "    }\n",
       "\n",
       "    .dataframe tbody tr th {\n",
       "        vertical-align: top;\n",
       "    }\n",
       "\n",
       "    .dataframe thead th {\n",
       "        text-align: right;\n",
       "    }\n",
       "</style>\n",
       "<table border=\"1\" class=\"dataframe\">\n",
       "  <thead>\n",
       "    <tr style=\"text-align: right;\">\n",
       "      <th></th>\n",
       "      <th>Feature</th>\n",
       "      <th>Count</th>\n",
       "    </tr>\n",
       "  </thead>\n",
       "  <tbody>\n",
       "    <tr>\n",
       "      <th>0</th>\n",
       "      <td>aa</td>\n",
       "      <td>293</td>\n",
       "    </tr>\n",
       "    <tr>\n",
       "      <th>1</th>\n",
       "      <td>aadv</td>\n",
       "      <td>2</td>\n",
       "    </tr>\n",
       "    <tr>\n",
       "      <th>2</th>\n",
       "      <td>aadvantage</td>\n",
       "      <td>10</td>\n",
       "    </tr>\n",
       "    <tr>\n",
       "      <th>3</th>\n",
       "      <td>aafail</td>\n",
       "      <td>2</td>\n",
       "    </tr>\n",
       "    <tr>\n",
       "      <th>4</th>\n",
       "      <td>aal</td>\n",
       "      <td>2</td>\n",
       "    </tr>\n",
       "    <tr>\n",
       "      <th>5</th>\n",
       "      <td>abandon</td>\n",
       "      <td>3</td>\n",
       "    </tr>\n",
       "    <tr>\n",
       "      <th>6</th>\n",
       "      <td>abc</td>\n",
       "      <td>8</td>\n",
       "    </tr>\n",
       "    <tr>\n",
       "      <th>7</th>\n",
       "      <td>abi</td>\n",
       "      <td>2</td>\n",
       "    </tr>\n",
       "    <tr>\n",
       "      <th>8</th>\n",
       "      <td>ability</td>\n",
       "      <td>7</td>\n",
       "    </tr>\n",
       "    <tr>\n",
       "      <th>9</th>\n",
       "      <td>able</td>\n",
       "      <td>121</td>\n",
       "    </tr>\n",
       "    <tr>\n",
       "      <th>10</th>\n",
       "      <td>aboard</td>\n",
       "      <td>4</td>\n",
       "    </tr>\n",
       "    <tr>\n",
       "      <th>11</th>\n",
       "      <td>abq</td>\n",
       "      <td>9</td>\n",
       "    </tr>\n",
       "    <tr>\n",
       "      <th>12</th>\n",
       "      <td>abroad</td>\n",
       "      <td>2</td>\n",
       "    </tr>\n",
       "    <tr>\n",
       "      <th>13</th>\n",
       "      <td>absolute</td>\n",
       "      <td>22</td>\n",
       "    </tr>\n",
       "    <tr>\n",
       "      <th>14</th>\n",
       "      <td>absolutely</td>\n",
       "      <td>30</td>\n",
       "    </tr>\n",
       "    <tr>\n",
       "      <th>15</th>\n",
       "      <td>absurd</td>\n",
       "      <td>13</td>\n",
       "    </tr>\n",
       "    <tr>\n",
       "      <th>16</th>\n",
       "      <td>abuse</td>\n",
       "      <td>3</td>\n",
       "    </tr>\n",
       "    <tr>\n",
       "      <th>17</th>\n",
       "      <td>abysmal</td>\n",
       "      <td>6</td>\n",
       "    </tr>\n",
       "    <tr>\n",
       "      <th>18</th>\n",
       "      <td>ac</td>\n",
       "      <td>4</td>\n",
       "    </tr>\n",
       "    <tr>\n",
       "      <th>19</th>\n",
       "      <td>accept</td>\n",
       "      <td>32</td>\n",
       "    </tr>\n",
       "    <tr>\n",
       "      <th>20</th>\n",
       "      <td>acceptable</td>\n",
       "      <td>23</td>\n",
       "    </tr>\n",
       "    <tr>\n",
       "      <th>21</th>\n",
       "      <td>access</td>\n",
       "      <td>39</td>\n",
       "    </tr>\n",
       "    <tr>\n",
       "      <th>22</th>\n",
       "      <td>accident</td>\n",
       "      <td>6</td>\n",
       "    </tr>\n",
       "    <tr>\n",
       "      <th>23</th>\n",
       "      <td>accidentally</td>\n",
       "      <td>4</td>\n",
       "    </tr>\n",
       "    <tr>\n",
       "      <th>24</th>\n",
       "      <td>accommodate</td>\n",
       "      <td>25</td>\n",
       "    </tr>\n",
       "    <tr>\n",
       "      <th>25</th>\n",
       "      <td>accommodation</td>\n",
       "      <td>10</td>\n",
       "    </tr>\n",
       "    <tr>\n",
       "      <th>26</th>\n",
       "      <td>accomplish</td>\n",
       "      <td>4</td>\n",
       "    </tr>\n",
       "    <tr>\n",
       "      <th>27</th>\n",
       "      <td>accord</td>\n",
       "      <td>11</td>\n",
       "    </tr>\n",
       "    <tr>\n",
       "      <th>28</th>\n",
       "      <td>accordingly</td>\n",
       "      <td>4</td>\n",
       "    </tr>\n",
       "    <tr>\n",
       "      <th>29</th>\n",
       "      <td>account</td>\n",
       "      <td>80</td>\n",
       "    </tr>\n",
       "  </tbody>\n",
       "</table>\n",
       "</div>"
      ],
      "text/plain": [
       "          Feature  Count\n",
       "0              aa    293\n",
       "1            aadv      2\n",
       "2      aadvantage     10\n",
       "3          aafail      2\n",
       "4             aal      2\n",
       "5         abandon      3\n",
       "6             abc      8\n",
       "7             abi      2\n",
       "8         ability      7\n",
       "9            able    121\n",
       "10         aboard      4\n",
       "11            abq      9\n",
       "12         abroad      2\n",
       "13       absolute     22\n",
       "14     absolutely     30\n",
       "15         absurd     13\n",
       "16          abuse      3\n",
       "17        abysmal      6\n",
       "18             ac      4\n",
       "19         accept     32\n",
       "20     acceptable     23\n",
       "21         access     39\n",
       "22       accident      6\n",
       "23   accidentally      4\n",
       "24    accommodate     25\n",
       "25  accommodation     10\n",
       "26     accomplish      4\n",
       "27         accord     11\n",
       "28    accordingly      4\n",
       "29        account     80"
      ]
     },
     "execution_count": 48,
     "metadata": {},
     "output_type": "execute_result"
    }
   ],
   "source": [
    "train_data_features = X_count_features.toarray()\n",
    "dist = np.sum(train_data_features, axis=0)\n",
    "df_count = pd.DataFrame(feature_names,columns=['Feature'])\n",
    "df_count['Count'] = dist \n",
    "df_count.head(30)\n",
    "#df_count.to_csv('Word_Freq.csv')"
   ]
  },
  {
   "cell_type": "markdown",
   "metadata": {
    "id": "8TSQGOB3AZUs"
   },
   "source": [
    "**TF-IDF Vectorization**"
   ]
  },
  {
   "cell_type": "code",
   "execution_count": 49,
   "metadata": {
    "id": "l9OiO9gKAdxq"
   },
   "outputs": [],
   "source": [
    "tfidf_vector = TfidfVectorizer(max_features=5000)#,ngram_range=(1,2)\n",
    "X_tfidf_features = tfidf_vector.fit_transform(processed_df['text'])"
   ]
  },
  {
   "cell_type": "code",
   "execution_count": 50,
   "metadata": {
    "colab": {
     "base_uri": "https://localhost:8080/"
    },
    "id": "_kWmo5hfAM0Y",
    "outputId": "78367d0f-d863-4cdf-a8ca-a51be37d820f"
   },
   "outputs": [
    {
     "data": {
      "text/plain": [
       "(14640, 5000)"
      ]
     },
     "execution_count": 50,
     "metadata": {},
     "output_type": "execute_result"
    }
   ],
   "source": [
    "X_tfidf_features.shape"
   ]
  },
  {
   "cell_type": "code",
   "execution_count": 51,
   "metadata": {
    "colab": {
     "base_uri": "https://localhost:8080/",
     "height": 251
    },
    "id": "PgwlkGI0AuTw",
    "outputId": "45f3be5c-0e24-4b3c-a5a7-26406012de92"
   },
   "outputs": [
    {
     "data": {
      "text/html": [
       "<div>\n",
       "<style scoped>\n",
       "    .dataframe tbody tr th:only-of-type {\n",
       "        vertical-align: middle;\n",
       "    }\n",
       "\n",
       "    .dataframe tbody tr th {\n",
       "        vertical-align: top;\n",
       "    }\n",
       "\n",
       "    .dataframe thead th {\n",
       "        text-align: right;\n",
       "    }\n",
       "</style>\n",
       "<table border=\"1\" class=\"dataframe\">\n",
       "  <thead>\n",
       "    <tr style=\"text-align: right;\">\n",
       "      <th></th>\n",
       "      <th>0</th>\n",
       "      <th>1</th>\n",
       "      <th>2</th>\n",
       "      <th>3</th>\n",
       "      <th>4</th>\n",
       "      <th>5</th>\n",
       "      <th>6</th>\n",
       "      <th>7</th>\n",
       "      <th>8</th>\n",
       "      <th>9</th>\n",
       "      <th>...</th>\n",
       "      <th>14630</th>\n",
       "      <th>14631</th>\n",
       "      <th>14632</th>\n",
       "      <th>14633</th>\n",
       "      <th>14634</th>\n",
       "      <th>14635</th>\n",
       "      <th>14636</th>\n",
       "      <th>14637</th>\n",
       "      <th>14638</th>\n",
       "      <th>14639</th>\n",
       "    </tr>\n",
       "  </thead>\n",
       "  <tbody>\n",
       "    <tr>\n",
       "      <th>aa</th>\n",
       "      <td>0.0</td>\n",
       "      <td>0.0</td>\n",
       "      <td>0.0</td>\n",
       "      <td>0.0</td>\n",
       "      <td>0.0</td>\n",
       "      <td>0.0</td>\n",
       "      <td>0.0</td>\n",
       "      <td>0.0</td>\n",
       "      <td>0.0</td>\n",
       "      <td>0.0</td>\n",
       "      <td>...</td>\n",
       "      <td>0.0</td>\n",
       "      <td>0.0</td>\n",
       "      <td>0.0</td>\n",
       "      <td>0.0</td>\n",
       "      <td>0.0</td>\n",
       "      <td>0.0</td>\n",
       "      <td>0.0</td>\n",
       "      <td>0.0</td>\n",
       "      <td>0.0</td>\n",
       "      <td>0.0</td>\n",
       "    </tr>\n",
       "    <tr>\n",
       "      <th>aadv</th>\n",
       "      <td>0.0</td>\n",
       "      <td>0.0</td>\n",
       "      <td>0.0</td>\n",
       "      <td>0.0</td>\n",
       "      <td>0.0</td>\n",
       "      <td>0.0</td>\n",
       "      <td>0.0</td>\n",
       "      <td>0.0</td>\n",
       "      <td>0.0</td>\n",
       "      <td>0.0</td>\n",
       "      <td>...</td>\n",
       "      <td>0.0</td>\n",
       "      <td>0.0</td>\n",
       "      <td>0.0</td>\n",
       "      <td>0.0</td>\n",
       "      <td>0.0</td>\n",
       "      <td>0.0</td>\n",
       "      <td>0.0</td>\n",
       "      <td>0.0</td>\n",
       "      <td>0.0</td>\n",
       "      <td>0.0</td>\n",
       "    </tr>\n",
       "    <tr>\n",
       "      <th>aadvantage</th>\n",
       "      <td>0.0</td>\n",
       "      <td>0.0</td>\n",
       "      <td>0.0</td>\n",
       "      <td>0.0</td>\n",
       "      <td>0.0</td>\n",
       "      <td>0.0</td>\n",
       "      <td>0.0</td>\n",
       "      <td>0.0</td>\n",
       "      <td>0.0</td>\n",
       "      <td>0.0</td>\n",
       "      <td>...</td>\n",
       "      <td>0.0</td>\n",
       "      <td>0.0</td>\n",
       "      <td>0.0</td>\n",
       "      <td>0.0</td>\n",
       "      <td>0.0</td>\n",
       "      <td>0.0</td>\n",
       "      <td>0.0</td>\n",
       "      <td>0.0</td>\n",
       "      <td>0.0</td>\n",
       "      <td>0.0</td>\n",
       "    </tr>\n",
       "    <tr>\n",
       "      <th>aafail</th>\n",
       "      <td>0.0</td>\n",
       "      <td>0.0</td>\n",
       "      <td>0.0</td>\n",
       "      <td>0.0</td>\n",
       "      <td>0.0</td>\n",
       "      <td>0.0</td>\n",
       "      <td>0.0</td>\n",
       "      <td>0.0</td>\n",
       "      <td>0.0</td>\n",
       "      <td>0.0</td>\n",
       "      <td>...</td>\n",
       "      <td>0.0</td>\n",
       "      <td>0.0</td>\n",
       "      <td>0.0</td>\n",
       "      <td>0.0</td>\n",
       "      <td>0.0</td>\n",
       "      <td>0.0</td>\n",
       "      <td>0.0</td>\n",
       "      <td>0.0</td>\n",
       "      <td>0.0</td>\n",
       "      <td>0.0</td>\n",
       "    </tr>\n",
       "    <tr>\n",
       "      <th>aal</th>\n",
       "      <td>0.0</td>\n",
       "      <td>0.0</td>\n",
       "      <td>0.0</td>\n",
       "      <td>0.0</td>\n",
       "      <td>0.0</td>\n",
       "      <td>0.0</td>\n",
       "      <td>0.0</td>\n",
       "      <td>0.0</td>\n",
       "      <td>0.0</td>\n",
       "      <td>0.0</td>\n",
       "      <td>...</td>\n",
       "      <td>0.0</td>\n",
       "      <td>0.0</td>\n",
       "      <td>0.0</td>\n",
       "      <td>0.0</td>\n",
       "      <td>0.0</td>\n",
       "      <td>0.0</td>\n",
       "      <td>0.0</td>\n",
       "      <td>0.0</td>\n",
       "      <td>0.0</td>\n",
       "      <td>0.0</td>\n",
       "    </tr>\n",
       "  </tbody>\n",
       "</table>\n",
       "<p>5 rows × 14640 columns</p>\n",
       "</div>"
      ],
      "text/plain": [
       "            0      1      2      3      4      5      6      7      8      \\\n",
       "aa            0.0    0.0    0.0    0.0    0.0    0.0    0.0    0.0    0.0   \n",
       "aadv          0.0    0.0    0.0    0.0    0.0    0.0    0.0    0.0    0.0   \n",
       "aadvantage    0.0    0.0    0.0    0.0    0.0    0.0    0.0    0.0    0.0   \n",
       "aafail        0.0    0.0    0.0    0.0    0.0    0.0    0.0    0.0    0.0   \n",
       "aal           0.0    0.0    0.0    0.0    0.0    0.0    0.0    0.0    0.0   \n",
       "\n",
       "            9      ...  14630  14631  14632  14633  14634  14635  14636  \\\n",
       "aa            0.0  ...    0.0    0.0    0.0    0.0    0.0    0.0    0.0   \n",
       "aadv          0.0  ...    0.0    0.0    0.0    0.0    0.0    0.0    0.0   \n",
       "aadvantage    0.0  ...    0.0    0.0    0.0    0.0    0.0    0.0    0.0   \n",
       "aafail        0.0  ...    0.0    0.0    0.0    0.0    0.0    0.0    0.0   \n",
       "aal           0.0  ...    0.0    0.0    0.0    0.0    0.0    0.0    0.0   \n",
       "\n",
       "            14637  14638  14639  \n",
       "aa            0.0    0.0    0.0  \n",
       "aadv          0.0    0.0    0.0  \n",
       "aadvantage    0.0    0.0    0.0  \n",
       "aafail        0.0    0.0    0.0  \n",
       "aal           0.0    0.0    0.0  \n",
       "\n",
       "[5 rows x 14640 columns]"
      ]
     },
     "execution_count": 51,
     "metadata": {},
     "output_type": "execute_result"
    }
   ],
   "source": [
    "feature_names = tfidf_vector.get_feature_names()\n",
    "corpus_index = [n for n in range(X_tfidf_features.shape[0])]\n",
    "df_tfidf = pd.DataFrame(X_tfidf_features.T.todense(), index=feature_names, columns=corpus_index)\n",
    "df_tfidf.head()"
   ]
  },
  {
   "cell_type": "code",
   "execution_count": 52,
   "metadata": {
    "colab": {
     "base_uri": "https://localhost:8080/"
    },
    "id": "H70jEX2L2Mit",
    "outputId": "494ff01b-102a-4ff0-8ab9-98b4a8420a0a"
   },
   "outputs": [
    {
     "data": {
      "text/plain": [
       "array([1, 2, 1, ..., 1, 0, 1])"
      ]
     },
     "execution_count": 52,
     "metadata": {},
     "output_type": "execute_result"
    }
   ],
   "source": [
    "le = LabelEncoder()\n",
    "y = le.fit_transform(processed_df['airline_sentiment'])\n",
    "y "
   ]
  },
  {
   "cell_type": "code",
   "execution_count": 53,
   "metadata": {
    "id": "yFMigDIDzC8r"
   },
   "outputs": [],
   "source": [
    "def fitEvalModel(X_train,y_train,X_test,y_test,model):\n",
    "  model.fit(X_train,y_train)\n",
    "  y_pred = model.predict(X_test)\n",
    "  print('Mean Training Score',np.round(np.mean(cross_val_score(model,X_train,y_train,cv=10,n_jobs=-1)),2))\n",
    "  print('Testing Score:',np.round(accuracy_score(y_test,y_pred),2))\n",
    "  print('===========Classification Report===================')\n",
    "  print(classification_report(y_test,y_pred))\n",
    "  print('==============Confusion Matrix====================')\n",
    "  conf_mat = confusion_matrix(y_test,y_pred)\n",
    "  conf_df = pd.DataFrame(conf_mat,index=[i for i in le.classes_],\n",
    "                     columns = [i for i in le.classes_])\n",
    "  sns.heatmap(conf_df,annot=True,fmt='d',cmap='YlGnBu');\n",
    "  plt.ylabel('True label');\n",
    "  plt.xlabel('Predicted label');\n"
   ]
  },
  {
   "cell_type": "markdown",
   "metadata": {
    "id": "m-TDDJ9n1-XP"
   },
   "source": [
    "**Model using countVectorizer**"
   ]
  },
  {
   "cell_type": "code",
   "execution_count": 54,
   "metadata": {
    "id": "FT0XoJNBCIRW"
   },
   "outputs": [],
   "source": [
    "X1 = X_count_features"
   ]
  },
  {
   "cell_type": "code",
   "execution_count": 55,
   "metadata": {
    "id": "oqwmiBeW29UT"
   },
   "outputs": [],
   "source": [
    "X_train,X_test,y_train,y_test = train_test_split(X1,y,test_size=0.3,random_state=7)"
   ]
  },
  {
   "cell_type": "code",
   "execution_count": 56,
   "metadata": {
    "id": "nWzysqFY3YsB"
   },
   "outputs": [],
   "source": [
    "rf_count = RandomForestClassifier(n_estimators=200,random_state=7)"
   ]
  },
  {
   "cell_type": "code",
   "execution_count": 57,
   "metadata": {
    "colab": {
     "base_uri": "https://localhost:8080/",
     "height": 523
    },
    "id": "GZnofdA70Sop",
    "outputId": "50c6a740-4e39-4b6c-9af0-d0a63a4da031"
   },
   "outputs": [
    {
     "name": "stdout",
     "output_type": "stream",
     "text": [
      "Mean Training Score 0.78\n",
      "Testing Score: 0.78\n",
      "===========Classification Report===================\n",
      "              precision    recall  f1-score   support\n",
      "\n",
      "           0       0.83      0.91      0.87      2784\n",
      "           1       0.65      0.51      0.57       930\n",
      "           2       0.71      0.62      0.66       678\n",
      "\n",
      "    accuracy                           0.78      4392\n",
      "   macro avg       0.73      0.68      0.70      4392\n",
      "weighted avg       0.77      0.78      0.77      4392\n",
      "\n",
      "==============Confusion Matrix====================\n"
     ]
    },
    {
     "data": {
      "image/png": "[encoded data removed]",
      "text/plain": [
       "<Figure size 432x288 with 2 Axes>"
      ]
     },
     "metadata": {
      "needs_background": "light"
     },
     "output_type": "display_data"
    }
   ],
   "source": [
    "fitEvalModel(X_train,y_train,X_test,y_test,rf_count)"
   ]
  },
  {
   "cell_type": "markdown",
   "metadata": {
    "id": "Oy0Ly8MaGHj5"
   },
   "source": [
    "*Naive Bayes*"
   ]
  },
  {
   "cell_type": "code",
   "execution_count": 58,
   "metadata": {
    "id": "srU8j5oGAV73"
   },
   "outputs": [],
   "source": [
    "nb_count = MultinomialNB()"
   ]
  },
  {
   "cell_type": "code",
   "execution_count": 59,
   "metadata": {
    "colab": {
     "base_uri": "https://localhost:8080/",
     "height": 523
    },
    "id": "CHDIJulL4Ysq",
    "outputId": "abc3c845-fb57-4888-f8a4-6cbb119ae239"
   },
   "outputs": [
    {
     "name": "stdout",
     "output_type": "stream",
     "text": [
      "Mean Training Score 0.77\n",
      "Testing Score: 0.77\n",
      "===========Classification Report===================\n",
      "              precision    recall  f1-score   support\n",
      "\n",
      "           0       0.82      0.91      0.86      2784\n",
      "           1       0.64      0.44      0.52       930\n",
      "           2       0.70      0.65      0.68       678\n",
      "\n",
      "    accuracy                           0.77      4392\n",
      "   macro avg       0.72      0.67      0.69      4392\n",
      "weighted avg       0.76      0.77      0.76      4392\n",
      "\n",
      "==============Confusion Matrix====================\n"
     ]
    },
    {
     "data": {
      "image/png": "[encoded data removed]",
      "text/plain": [
       "<Figure size 432x288 with 2 Axes>"
      ]
     },
     "metadata": {
      "needs_background": "light"
     },
     "output_type": "display_data"
    }
   ],
   "source": [
    "fitEvalModel(X_train,y_train,X_test,y_test,nb_count)"
   ]
  },
  {
   "cell_type": "code",
   "execution_count": 60,
   "metadata": {
    "id": "oAcDVy3s-9hu"
   },
   "outputs": [],
   "source": [
    "from sklearn.ensemble import GradientBoostingClassifier"
   ]
  },
  {
   "cell_type": "code",
   "execution_count": 61,
   "metadata": {
    "id": "TCiiMmwn_CLn"
   },
   "outputs": [],
   "source": [
    "xg_count = GradientBoostingClassifier(n_estimators=200,random_state=7)\n"
   ]
  },
  {
   "cell_type": "code",
   "execution_count": 62,
   "metadata": {
    "colab": {
     "base_uri": "https://localhost:8080/",
     "height": 522
    },
    "id": "Nt2R-K7Y_LWW",
    "outputId": "8f6550e9-8e25-471b-db1f-fcf56d8478c6"
   },
   "outputs": [
    {
     "name": "stdout",
     "output_type": "stream",
     "text": [
      "Mean Training Score 0.75\n",
      "Testing Score: 0.75\n",
      "===========Classification Report===================\n",
      "              precision    recall  f1-score   support\n",
      "\n",
      "           0       0.77      0.94      0.84      2784\n",
      "           1       0.71      0.29      0.41       930\n",
      "           2       0.69      0.61      0.65       678\n",
      "\n",
      "    accuracy                           0.75      4392\n",
      "   macro avg       0.72      0.61      0.64      4392\n",
      "weighted avg       0.74      0.75      0.72      4392\n",
      "\n",
      "==============Confusion Matrix====================\n"
     ]
    },
    {
     "data": {
      "image/png": "[encoded data removed]",
      "text/plain": [
       "<Figure size 432x288 with 2 Axes>"
      ]
     },
     "metadata": {
      "needs_background": "light"
     },
     "output_type": "display_data"
    }
   ],
   "source": [
    "fitEvalModel(X_train,y_train,X_test,y_test,xg_count)"
   ]
  },
  {
   "cell_type": "markdown",
   "metadata": {
    "id": "2G5Sr48wFmAp"
   },
   "source": [
    "**Model usinf tf-idf**"
   ]
  },
  {
   "cell_type": "code",
   "execution_count": 63,
   "metadata": {
    "id": "agQdOGnXDtPm"
   },
   "outputs": [],
   "source": [
    "X2 = X_tfidf_features"
   ]
  },
  {
   "cell_type": "code",
   "execution_count": 64,
   "metadata": {
    "id": "Z0_jJVCNGxJq"
   },
   "outputs": [],
   "source": [
    "X_train,X_test,y_train,y_test = train_test_split(X2,y,test_size=0.3,random_state=7)"
   ]
  },
  {
   "cell_type": "code",
   "execution_count": 65,
   "metadata": {
    "id": "rHGs6ONdG7Ro"
   },
   "outputs": [],
   "source": [
    "rf_tfidf = RandomForestClassifier(n_estimators=200,random_state=1)"
   ]
  },
  {
   "cell_type": "code",
   "execution_count": 66,
   "metadata": {
    "colab": {
     "base_uri": "https://localhost:8080/",
     "height": 522
    },
    "id": "tDxMRjjP20pm",
    "outputId": "362e4abd-7883-411d-cd55-e9ea9b1e4b8e"
   },
   "outputs": [
    {
     "name": "stdout",
     "output_type": "stream",
     "text": [
      "Mean Training Score 0.78\n",
      "Testing Score: 0.78\n",
      "===========Classification Report===================\n",
      "              precision    recall  f1-score   support\n",
      "\n",
      "           0       0.81      0.93      0.86      2784\n",
      "           1       0.65      0.48      0.55       930\n",
      "           2       0.75      0.58      0.66       678\n",
      "\n",
      "    accuracy                           0.78      4392\n",
      "   macro avg       0.74      0.66      0.69      4392\n",
      "weighted avg       0.77      0.78      0.76      4392\n",
      "\n",
      "==============Confusion Matrix====================\n"
     ]
    },
    {
     "data": {
      "image/png": "[encoded data removed]",
      "text/plain": [
       "<Figure size 432x288 with 2 Axes>"
      ]
     },
     "metadata": {
      "needs_background": "light"
     },
     "output_type": "display_data"
    }
   ],
   "source": [
    "fitEvalModel(X_train,y_train,X_test,y_test,rf_tfidf)"
   ]
  },
  {
   "cell_type": "markdown",
   "metadata": {
    "id": "3RyxmqCt8TB5"
   },
   "source": [
    "**SUMMARY**\n",
    "\n",
    "**PRE-PROCESSING**\n",
    "1. First ,there were some URLs present in dataset.We removed these URLs using *remove_links* function.\n",
    "2. Then we convert all the text to lower case using *convert_to_lower* so that the words like 'The' and 'the' will not be counted as differnent words.\n",
    "3. No HTML tags were present in dataset but we still applied *remove_html_tags* function to remove HTML tags.HTML tags might be present in the new test case.\n",
    "4. Contractions(like didn't etc.) were present.These are removed using *replace_contractions* so that they can be represented like 'did not'. 'not','no' these words are important in case of sentiment analysis.\n",
    "5. Emoticons,emojis (special characters) were present.This seems useful in case of asentiment analysis.So converting them to text.\n",
    "6. If some special charaters still remains , we removed them using *remove_special_characters*\n",
    "7. Then we tokenize the text(converted them into individual words/tokens) using *text_tokenize*.\n",
    "8. Then we remove the stopwords(frequently used words) from tokenized text using *remove_stopwords*.'not','no' were already removed from stopwords list.These words are important for sentiment analysis.\n",
    "9. In the last, I applied lemmatization to convert the inflected form of words to root word(which has some dictionary meaning) using *lemmatize_text*.\n",
    "\n",
    "**VECTORIZATION**\n",
    "\n",
    "With pre-processing our universal set of words are ready to use.\n",
    "But since we can't feed text to machine leaning algorithms,we need to convert them to vectors.\n",
    "Two techniques are used here to convert text to vectors:-\n",
    "1. CountVectorizer :- This actually makes a DTM(document term matrix) in which each token(word) is replaced with a number.This number is frequency of that word in a particular document.\n",
    "2. TfidfVectorizer :- This also gives a DTM in which each token is replaced with a number.Here this number(N) is calculated using a formula:-\n",
    "\n",
    "  N = Tf*IDF (Term frequency * Inverse Document frequence)\n",
    "\n",
    "  Tf = frequncy of the word in a doc/total no. of words in that doc\n",
    "  \n",
    "  IDF = log(No. of docs/word present in no. of docs)\n",
    "\n",
    "In both of the vectorization techniques, I have used max_features(=5000).There were 10000+ words in universal set but I wanted to build model using 5000 words. Also I have used ngram_range.Both unigrams and bigrams are being used(unigrams means single token,bigrams means two tokens at a time).\n",
    "\n",
    "**PERFORMANCE**\n",
    "\n",
    "I have used random forest for both vectorizations.Both models are giving same accuracy 78%.\n",
    "I think we can try to increase the accuracy of the model by using other vectorization techniques like word embedding(word2vec,glove).\n",
    "We can also try to build RNN or LSTM to increase performance.\n",
    "\n",
    "\n",
    "\n"
   ]
  },
  {
   "cell_type": "code",
   "execution_count": null,
   "metadata": {
    "id": "-dqdrNmEEmdv"
   },
   "outputs": [],
   "source": []
  }
 ],
 "metadata": {
  "accelerator": "GPU",
  "colab": {
   "collapsed_sections": [],
   "name": "TwitterSentiment.ipynb",
   "provenance": []
  },
  "kernelspec": {
   "display_name": "Python 3",
   "language": "python",
   "name": "python3"
  },
  "language_info": {
   "codemirror_mode": {
    "name": "ipython",
    "version": 3
   },
   "file_extension": ".py",
   "mimetype": "text/x-python",
   "name": "python",
   "nbconvert_exporter": "python",
   "pygments_lexer": "ipython3",
   "version": "3.7.6"
  }
 },
 "nbformat": 4,
 "nbformat_minor": 1
}
