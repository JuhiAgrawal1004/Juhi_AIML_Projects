{
  "nbformat": 4,
  "nbformat_minor": 0,
  "metadata": {
    "colab": {
      "name": "BankChurn.ipynb",
      "provenance": [],
      "collapsed_sections": []
    },
    "kernelspec": {
      "name": "python3",
      "display_name": "Python 3"
    }
  },
  "cells": [
    {
      "cell_type": "code",
      "metadata": {
        "id": "dgWq7bTCU2bp"
      },
      "source": [
        "from numpy.random import seed\r\n",
        "seed(1)\r\n",
        "import tensorflow as tf\r\n",
        "tf.random.set_seed(2)"
      ],
      "execution_count": 902,
      "outputs": []
    },
    {
      "cell_type": "code",
      "metadata": {
        "id": "MZ2IqCNU-xPe"
      },
      "source": [
        "import numpy as np\r\n",
        "import pandas as pd\r\n",
        "import matplotlib.pyplot as plt\r\n",
        "import seaborn as sns\r\n",
        "%matplotlib inline\r\n",
        "\r\n",
        "import warnings\r\n",
        "warnings.filterwarnings(\"ignore\")\r\n",
        "\r\n",
        "sns.set(color_codes=True)"
      ],
      "execution_count": 903,
      "outputs": []
    },
    {
      "cell_type": "markdown",
      "metadata": {
        "id": "OxKvN1SnqWK8"
      },
      "source": [
        "**Load dataset**"
      ]
    },
    {
      "cell_type": "code",
      "metadata": {
        "id": "t6zaYeXk_Rta"
      },
      "source": [
        "bankData = pd.read_csv('/content/drive/MyDrive/ML_colab/bank.csv')"
      ],
      "execution_count": 904,
      "outputs": []
    },
    {
      "cell_type": "code",
      "metadata": {
        "colab": {
          "base_uri": "https://localhost:8080/",
          "height": 222
        },
        "id": "Lqq9JCnTChbQ",
        "outputId": "96ebb98e-96ba-4070-e55f-c0f031f54912"
      },
      "source": [
        "bankData.head()"
      ],
      "execution_count": 905,
      "outputs": [
        {
          "output_type": "execute_result",
          "data": {
            "text/html": [
              "<div>\n",
              "<style scoped>\n",
              "    .dataframe tbody tr th:only-of-type {\n",
              "        vertical-align: middle;\n",
              "    }\n",
              "\n",
              "    .dataframe tbody tr th {\n",
              "        vertical-align: top;\n",
              "    }\n",
              "\n",
              "    .dataframe thead th {\n",
              "        text-align: right;\n",
              "    }\n",
              "</style>\n",
              "<table border=\"1\" class=\"dataframe\">\n",
              "  <thead>\n",
              "    <tr style=\"text-align: right;\">\n",
              "      <th></th>\n",
              "      <th>RowNumber</th>\n",
              "      <th>CustomerId</th>\n",
              "      <th>Surname</th>\n",
              "      <th>CreditScore</th>\n",
              "      <th>Geography</th>\n",
              "      <th>Gender</th>\n",
              "      <th>Age</th>\n",
              "      <th>Tenure</th>\n",
              "      <th>Balance</th>\n",
              "      <th>NumOfProducts</th>\n",
              "      <th>HasCrCard</th>\n",
              "      <th>IsActiveMember</th>\n",
              "      <th>EstimatedSalary</th>\n",
              "      <th>Exited</th>\n",
              "    </tr>\n",
              "  </thead>\n",
              "  <tbody>\n",
              "    <tr>\n",
              "      <th>0</th>\n",
              "      <td>1</td>\n",
              "      <td>15634602</td>\n",
              "      <td>Hargrave</td>\n",
              "      <td>619</td>\n",
              "      <td>France</td>\n",
              "      <td>Female</td>\n",
              "      <td>42</td>\n",
              "      <td>2</td>\n",
              "      <td>0.00</td>\n",
              "      <td>1</td>\n",
              "      <td>1</td>\n",
              "      <td>1</td>\n",
              "      <td>101348.88</td>\n",
              "      <td>1</td>\n",
              "    </tr>\n",
              "    <tr>\n",
              "      <th>1</th>\n",
              "      <td>2</td>\n",
              "      <td>15647311</td>\n",
              "      <td>Hill</td>\n",
              "      <td>608</td>\n",
              "      <td>Spain</td>\n",
              "      <td>Female</td>\n",
              "      <td>41</td>\n",
              "      <td>1</td>\n",
              "      <td>83807.86</td>\n",
              "      <td>1</td>\n",
              "      <td>0</td>\n",
              "      <td>1</td>\n",
              "      <td>112542.58</td>\n",
              "      <td>0</td>\n",
              "    </tr>\n",
              "    <tr>\n",
              "      <th>2</th>\n",
              "      <td>3</td>\n",
              "      <td>15619304</td>\n",
              "      <td>Onio</td>\n",
              "      <td>502</td>\n",
              "      <td>France</td>\n",
              "      <td>Female</td>\n",
              "      <td>42</td>\n",
              "      <td>8</td>\n",
              "      <td>159660.80</td>\n",
              "      <td>3</td>\n",
              "      <td>1</td>\n",
              "      <td>0</td>\n",
              "      <td>113931.57</td>\n",
              "      <td>1</td>\n",
              "    </tr>\n",
              "    <tr>\n",
              "      <th>3</th>\n",
              "      <td>4</td>\n",
              "      <td>15701354</td>\n",
              "      <td>Boni</td>\n",
              "      <td>699</td>\n",
              "      <td>France</td>\n",
              "      <td>Female</td>\n",
              "      <td>39</td>\n",
              "      <td>1</td>\n",
              "      <td>0.00</td>\n",
              "      <td>2</td>\n",
              "      <td>0</td>\n",
              "      <td>0</td>\n",
              "      <td>93826.63</td>\n",
              "      <td>0</td>\n",
              "    </tr>\n",
              "    <tr>\n",
              "      <th>4</th>\n",
              "      <td>5</td>\n",
              "      <td>15737888</td>\n",
              "      <td>Mitchell</td>\n",
              "      <td>850</td>\n",
              "      <td>Spain</td>\n",
              "      <td>Female</td>\n",
              "      <td>43</td>\n",
              "      <td>2</td>\n",
              "      <td>125510.82</td>\n",
              "      <td>1</td>\n",
              "      <td>1</td>\n",
              "      <td>1</td>\n",
              "      <td>79084.10</td>\n",
              "      <td>0</td>\n",
              "    </tr>\n",
              "  </tbody>\n",
              "</table>\n",
              "</div>"
            ],
            "text/plain": [
              "   RowNumber  CustomerId   Surname  ...  IsActiveMember EstimatedSalary Exited\n",
              "0          1    15634602  Hargrave  ...               1       101348.88      1\n",
              "1          2    15647311      Hill  ...               1       112542.58      0\n",
              "2          3    15619304      Onio  ...               0       113931.57      1\n",
              "3          4    15701354      Boni  ...               0        93826.63      0\n",
              "4          5    15737888  Mitchell  ...               1        79084.10      0\n",
              "\n",
              "[5 rows x 14 columns]"
            ]
          },
          "metadata": {
            "tags": []
          },
          "execution_count": 905
        }
      ]
    },
    {
      "cell_type": "code",
      "metadata": {
        "colab": {
          "base_uri": "https://localhost:8080/"
        },
        "id": "jC_xvlts_o3G",
        "outputId": "c681991b-5eba-4ed0-ca0e-edc3b2e99488"
      },
      "source": [
        "bankData.shape"
      ],
      "execution_count": 906,
      "outputs": [
        {
          "output_type": "execute_result",
          "data": {
            "text/plain": [
              "(10000, 14)"
            ]
          },
          "metadata": {
            "tags": []
          },
          "execution_count": 906
        }
      ]
    },
    {
      "cell_type": "markdown",
      "metadata": {
        "id": "fBlpmBzMA4rx"
      },
      "source": [
        "There are 10000 rows and 14 columns."
      ]
    },
    {
      "cell_type": "code",
      "metadata": {
        "colab": {
          "base_uri": "https://localhost:8080/"
        },
        "id": "sMznDKXRA2g9",
        "outputId": "d66d2786-ff51-4bf9-87df-cf3f9d8932a1"
      },
      "source": [
        "bankData.info()"
      ],
      "execution_count": 907,
      "outputs": [
        {
          "output_type": "stream",
          "text": [
            "<class 'pandas.core.frame.DataFrame'>\n",
            "RangeIndex: 10000 entries, 0 to 9999\n",
            "Data columns (total 14 columns):\n",
            " #   Column           Non-Null Count  Dtype  \n",
            "---  ------           --------------  -----  \n",
            " 0   RowNumber        10000 non-null  int64  \n",
            " 1   CustomerId       10000 non-null  int64  \n",
            " 2   Surname          10000 non-null  object \n",
            " 3   CreditScore      10000 non-null  int64  \n",
            " 4   Geography        10000 non-null  object \n",
            " 5   Gender           10000 non-null  object \n",
            " 6   Age              10000 non-null  int64  \n",
            " 7   Tenure           10000 non-null  int64  \n",
            " 8   Balance          10000 non-null  float64\n",
            " 9   NumOfProducts    10000 non-null  int64  \n",
            " 10  HasCrCard        10000 non-null  int64  \n",
            " 11  IsActiveMember   10000 non-null  int64  \n",
            " 12  EstimatedSalary  10000 non-null  float64\n",
            " 13  Exited           10000 non-null  int64  \n",
            "dtypes: float64(2), int64(9), object(3)\n",
            "memory usage: 1.1+ MB\n"
          ],
          "name": "stdout"
        }
      ]
    },
    {
      "cell_type": "markdown",
      "metadata": {
        "id": "vPtZs3xbBR_U"
      },
      "source": [
        "1. There is no null values.\r\n",
        "2. There are 3 variables of object type,2 of float64 and 9 variables of int64type."
      ]
    },
    {
      "cell_type": "code",
      "metadata": {
        "colab": {
          "base_uri": "https://localhost:8080/"
        },
        "id": "8QGEXOM6CB0l",
        "outputId": "f03bc802-d5c0-4ef4-b3d0-563a1b19b3e1"
      },
      "source": [
        "bankData.isnull().sum()"
      ],
      "execution_count": 908,
      "outputs": [
        {
          "output_type": "execute_result",
          "data": {
            "text/plain": [
              "RowNumber          0\n",
              "CustomerId         0\n",
              "Surname            0\n",
              "CreditScore        0\n",
              "Geography          0\n",
              "Gender             0\n",
              "Age                0\n",
              "Tenure             0\n",
              "Balance            0\n",
              "NumOfProducts      0\n",
              "HasCrCard          0\n",
              "IsActiveMember     0\n",
              "EstimatedSalary    0\n",
              "Exited             0\n",
              "dtype: int64"
            ]
          },
          "metadata": {
            "tags": []
          },
          "execution_count": 908
        }
      ]
    },
    {
      "cell_type": "markdown",
      "metadata": {
        "id": "EdiF3jzlCGJ7"
      },
      "source": [
        "There is no null values."
      ]
    },
    {
      "cell_type": "code",
      "metadata": {
        "colab": {
          "base_uri": "https://localhost:8080/"
        },
        "id": "ZTaYvKnSCO34",
        "outputId": "4430ff37-f371-4e3e-c0be-0c393f31c556"
      },
      "source": [
        "bankData['CustomerId'].value_counts()"
      ],
      "execution_count": 909,
      "outputs": [
        {
          "output_type": "execute_result",
          "data": {
            "text/plain": [
              "15812607    1\n",
              "15741078    1\n",
              "15635776    1\n",
              "15740223    1\n",
              "15738174    1\n",
              "           ..\n",
              "15743714    1\n",
              "15639265    1\n",
              "15641312    1\n",
              "15684319    1\n",
              "15695872    1\n",
              "Name: CustomerId, Length: 10000, dtype: int64"
            ]
          },
          "metadata": {
            "tags": []
          },
          "execution_count": 909
        }
      ]
    },
    {
      "cell_type": "markdown",
      "metadata": {
        "id": "71QLC-3wDRUB"
      },
      "source": [
        "CustomerId is unique, means they are unique customers.We can remove it from further analysis."
      ]
    },
    {
      "cell_type": "code",
      "metadata": {
        "colab": {
          "base_uri": "https://localhost:8080/"
        },
        "id": "JZ1OyztfD9M7",
        "outputId": "a6b8ed03-c37f-45df-dffb-bf591afd03a3"
      },
      "source": [
        "\r\n",
        "bankData['Geography'].value_counts()"
      ],
      "execution_count": 910,
      "outputs": [
        {
          "output_type": "execute_result",
          "data": {
            "text/plain": [
              "France     5014\n",
              "Germany    2509\n",
              "Spain      2477\n",
              "Name: Geography, dtype: int64"
            ]
          },
          "metadata": {
            "tags": []
          },
          "execution_count": 910
        }
      ]
    },
    {
      "cell_type": "markdown",
      "metadata": {
        "id": "i7uUWUy1Ne4c"
      },
      "source": [
        "Data contains people from 3 places France,Germany,Spain with majority from France."
      ]
    },
    {
      "cell_type": "code",
      "metadata": {
        "colab": {
          "base_uri": "https://localhost:8080/"
        },
        "id": "IHOErHIlFK7-",
        "outputId": "81f5d80b-8d19-4112-9c74-28c339a1fc5e"
      },
      "source": [
        "bankData['Gender'].value_counts()"
      ],
      "execution_count": 911,
      "outputs": [
        {
          "output_type": "execute_result",
          "data": {
            "text/plain": [
              "Male      5457\n",
              "Female    4543\n",
              "Name: Gender, dtype: int64"
            ]
          },
          "metadata": {
            "tags": []
          },
          "execution_count": 911
        }
      ]
    },
    {
      "cell_type": "code",
      "metadata": {
        "colab": {
          "base_uri": "https://localhost:8080/"
        },
        "id": "De1g1Yr2PG8J",
        "outputId": "c907868d-b949-4d61-f1a0-6fbb1fbb6ec9"
      },
      "source": [
        "bankData['Exited'].value_counts(normalize=True)"
      ],
      "execution_count": 912,
      "outputs": [
        {
          "output_type": "execute_result",
          "data": {
            "text/plain": [
              "0    0.7963\n",
              "1    0.2037\n",
              "Name: Exited, dtype: float64"
            ]
          },
          "metadata": {
            "tags": []
          },
          "execution_count": 912
        }
      ]
    },
    {
      "cell_type": "markdown",
      "metadata": {
        "id": "Pnvo-uVpe7UD"
      },
      "source": [
        "It is imbalanced dataset."
      ]
    },
    {
      "cell_type": "code",
      "metadata": {
        "id": "otniWG4FDfAu"
      },
      "source": [
        "bankData_copy = bankData.copy()"
      ],
      "execution_count": 913,
      "outputs": []
    },
    {
      "cell_type": "markdown",
      "metadata": {
        "id": "ikbjtpaKEPd2"
      },
      "source": [
        "Since 'RowNumber','CustomerId' are unique we can drop them.Also we don't require surname.So we can drop them all."
      ]
    },
    {
      "cell_type": "markdown",
      "metadata": {
        "id": "e7G3xy7eqboI"
      },
      "source": [
        "**Drop the columns**"
      ]
    },
    {
      "cell_type": "code",
      "metadata": {
        "id": "De26CYZBDjq6"
      },
      "source": [
        "bankData_copy.drop(['RowNumber','CustomerId','Surname'],axis=1,inplace=True) "
      ],
      "execution_count": 914,
      "outputs": []
    },
    {
      "cell_type": "markdown",
      "metadata": {
        "id": "Jt_6CJxUqopy"
      },
      "source": [
        "**Analysis**"
      ]
    },
    {
      "cell_type": "code",
      "metadata": {
        "colab": {
          "base_uri": "https://localhost:8080/",
          "height": 325
        },
        "id": "m-32OXM8BAQi",
        "outputId": "e51589e9-0aa7-4725-b6f3-569862813654"
      },
      "source": [
        "bankData_copy.describe().T"
      ],
      "execution_count": 915,
      "outputs": [
        {
          "output_type": "execute_result",
          "data": {
            "text/html": [
              "<div>\n",
              "<style scoped>\n",
              "    .dataframe tbody tr th:only-of-type {\n",
              "        vertical-align: middle;\n",
              "    }\n",
              "\n",
              "    .dataframe tbody tr th {\n",
              "        vertical-align: top;\n",
              "    }\n",
              "\n",
              "    .dataframe thead th {\n",
              "        text-align: right;\n",
              "    }\n",
              "</style>\n",
              "<table border=\"1\" class=\"dataframe\">\n",
              "  <thead>\n",
              "    <tr style=\"text-align: right;\">\n",
              "      <th></th>\n",
              "      <th>count</th>\n",
              "      <th>mean</th>\n",
              "      <th>std</th>\n",
              "      <th>min</th>\n",
              "      <th>25%</th>\n",
              "      <th>50%</th>\n",
              "      <th>75%</th>\n",
              "      <th>max</th>\n",
              "    </tr>\n",
              "  </thead>\n",
              "  <tbody>\n",
              "    <tr>\n",
              "      <th>CreditScore</th>\n",
              "      <td>10000.0</td>\n",
              "      <td>650.528800</td>\n",
              "      <td>96.653299</td>\n",
              "      <td>350.00</td>\n",
              "      <td>584.00</td>\n",
              "      <td>652.000</td>\n",
              "      <td>718.0000</td>\n",
              "      <td>850.00</td>\n",
              "    </tr>\n",
              "    <tr>\n",
              "      <th>Age</th>\n",
              "      <td>10000.0</td>\n",
              "      <td>38.921800</td>\n",
              "      <td>10.487806</td>\n",
              "      <td>18.00</td>\n",
              "      <td>32.00</td>\n",
              "      <td>37.000</td>\n",
              "      <td>44.0000</td>\n",
              "      <td>92.00</td>\n",
              "    </tr>\n",
              "    <tr>\n",
              "      <th>Tenure</th>\n",
              "      <td>10000.0</td>\n",
              "      <td>5.012800</td>\n",
              "      <td>2.892174</td>\n",
              "      <td>0.00</td>\n",
              "      <td>3.00</td>\n",
              "      <td>5.000</td>\n",
              "      <td>7.0000</td>\n",
              "      <td>10.00</td>\n",
              "    </tr>\n",
              "    <tr>\n",
              "      <th>Balance</th>\n",
              "      <td>10000.0</td>\n",
              "      <td>76485.889288</td>\n",
              "      <td>62397.405202</td>\n",
              "      <td>0.00</td>\n",
              "      <td>0.00</td>\n",
              "      <td>97198.540</td>\n",
              "      <td>127644.2400</td>\n",
              "      <td>250898.09</td>\n",
              "    </tr>\n",
              "    <tr>\n",
              "      <th>NumOfProducts</th>\n",
              "      <td>10000.0</td>\n",
              "      <td>1.530200</td>\n",
              "      <td>0.581654</td>\n",
              "      <td>1.00</td>\n",
              "      <td>1.00</td>\n",
              "      <td>1.000</td>\n",
              "      <td>2.0000</td>\n",
              "      <td>4.00</td>\n",
              "    </tr>\n",
              "    <tr>\n",
              "      <th>HasCrCard</th>\n",
              "      <td>10000.0</td>\n",
              "      <td>0.705500</td>\n",
              "      <td>0.455840</td>\n",
              "      <td>0.00</td>\n",
              "      <td>0.00</td>\n",
              "      <td>1.000</td>\n",
              "      <td>1.0000</td>\n",
              "      <td>1.00</td>\n",
              "    </tr>\n",
              "    <tr>\n",
              "      <th>IsActiveMember</th>\n",
              "      <td>10000.0</td>\n",
              "      <td>0.515100</td>\n",
              "      <td>0.499797</td>\n",
              "      <td>0.00</td>\n",
              "      <td>0.00</td>\n",
              "      <td>1.000</td>\n",
              "      <td>1.0000</td>\n",
              "      <td>1.00</td>\n",
              "    </tr>\n",
              "    <tr>\n",
              "      <th>EstimatedSalary</th>\n",
              "      <td>10000.0</td>\n",
              "      <td>100090.239881</td>\n",
              "      <td>57510.492818</td>\n",
              "      <td>11.58</td>\n",
              "      <td>51002.11</td>\n",
              "      <td>100193.915</td>\n",
              "      <td>149388.2475</td>\n",
              "      <td>199992.48</td>\n",
              "    </tr>\n",
              "    <tr>\n",
              "      <th>Exited</th>\n",
              "      <td>10000.0</td>\n",
              "      <td>0.203700</td>\n",
              "      <td>0.402769</td>\n",
              "      <td>0.00</td>\n",
              "      <td>0.00</td>\n",
              "      <td>0.000</td>\n",
              "      <td>0.0000</td>\n",
              "      <td>1.00</td>\n",
              "    </tr>\n",
              "  </tbody>\n",
              "</table>\n",
              "</div>"
            ],
            "text/plain": [
              "                   count           mean  ...          75%        max\n",
              "CreditScore      10000.0     650.528800  ...     718.0000     850.00\n",
              "Age              10000.0      38.921800  ...      44.0000      92.00\n",
              "Tenure           10000.0       5.012800  ...       7.0000      10.00\n",
              "Balance          10000.0   76485.889288  ...  127644.2400  250898.09\n",
              "NumOfProducts    10000.0       1.530200  ...       2.0000       4.00\n",
              "HasCrCard        10000.0       0.705500  ...       1.0000       1.00\n",
              "IsActiveMember   10000.0       0.515100  ...       1.0000       1.00\n",
              "EstimatedSalary  10000.0  100090.239881  ...  149388.2475  199992.48\n",
              "Exited           10000.0       0.203700  ...       0.0000       1.00\n",
              "\n",
              "[9 rows x 8 columns]"
            ]
          },
          "metadata": {
            "tags": []
          },
          "execution_count": 915
        }
      ]
    },
    {
      "cell_type": "markdown",
      "metadata": {
        "id": "z0oxskfBf4SA"
      },
      "source": [
        "1. Minimum credit score is 350 and max is 850.\r\n",
        "2. Min age is 18 and max is 92.\r\n",
        "3. Min Tenure is 0 and max is 10.\r\n",
        "4. Min balance is 0 and max is 250898.09.0 seems to be a possible value.\r\n",
        "5. Min NumOfProducts is 1 and max is 4.\r\n",
        "6. HasCrCard is actually categorial in nature with two value 0 and 1.\r\n",
        "7. IsActiveMember is also categorical in nature(0,1).\r\n",
        "8. Min EstimatedSalary is 11.58 and max is 199992.48.\r\n",
        "9. Exited is target variable(0,1)."
      ]
    },
    {
      "cell_type": "code",
      "metadata": {
        "id": "cCYba7FRiiWY"
      },
      "source": [
        "df = bankData_copy[bankData_copy['Balance'] == 0.0]"
      ],
      "execution_count": 916,
      "outputs": []
    },
    {
      "cell_type": "code",
      "metadata": {
        "colab": {
          "base_uri": "https://localhost:8080/"
        },
        "id": "q0EMtlJnOwHy",
        "outputId": "979a80ba-ea48-4f12-a878-1e4cb28254da"
      },
      "source": [
        "df.shape"
      ],
      "execution_count": 917,
      "outputs": [
        {
          "output_type": "execute_result",
          "data": {
            "text/plain": [
              "(3617, 11)"
            ]
          },
          "metadata": {
            "tags": []
          },
          "execution_count": 917
        }
      ]
    },
    {
      "cell_type": "code",
      "metadata": {
        "colab": {
          "base_uri": "https://localhost:8080/"
        },
        "id": "zfTMBS5UOhpv",
        "outputId": "2db98be8-6466-4284-9638-8a874af9491b"
      },
      "source": [
        "df[df['Exited'] == 1].shape"
      ],
      "execution_count": 918,
      "outputs": [
        {
          "output_type": "execute_result",
          "data": {
            "text/plain": [
              "(500, 11)"
            ]
          },
          "metadata": {
            "tags": []
          },
          "execution_count": 918
        }
      ]
    },
    {
      "cell_type": "code",
      "metadata": {
        "colab": {
          "base_uri": "https://localhost:8080/",
          "height": 1000
        },
        "id": "R6MSVHaMPayI",
        "outputId": "fcec4fcb-28e2-421d-8a34-19c41646e7f2"
      },
      "source": [
        "for i in bankData_copy.columns:\r\n",
        "  if bankData_copy[i].dtype != 'object':\r\n",
        "   sns.distplot(bankData_copy[i])\r\n",
        "   plt.show();"
      ],
      "execution_count": 919,
      "outputs": [
        {
          "output_type": "display_data",
          "data": {
            "image/png": "[encoded data removed]",
            "text/plain": [
              "<Figure size 432x288 with 1 Axes>"
            ]
          },
          "metadata": {
            "tags": []
          }
        },
        {
          "output_type": "display_data",
          "data": {
            "image/png": "[encoded data removed]",
            "text/plain": [
              "<Figure size 432x288 with 1 Axes>"
            ]
          },
          "metadata": {
            "tags": []
          }
        },
        {
          "output_type": "display_data",
          "data": {
            "image/png": "[encoded data removed]",
            "text/plain": [
              "<Figure size 432x288 with 1 Axes>"
            ]
          },
          "metadata": {
            "tags": []
          }
        },
        {
          "output_type": "display_data",
          "data": {
            "image/png": "[encoded data removed]",
            "text/plain": [
              "<Figure size 432x288 with 1 Axes>"
            ]
          },
          "metadata": {
            "tags": []
          }
        },
        {
          "output_type": "display_data",
          "data": {
            "image/png": "[encoded data removed]",
            "text/plain": [
              "<Figure size 432x288 with 1 Axes>"
            ]
          },
          "metadata": {
            "tags": []
          }
        },
        {
          "output_type": "display_data",
          "data": {
            "image/png": "[encoded data removed]",
            "text/plain": [
              "<Figure size 432x288 with 1 Axes>"
            ]
          },
          "metadata": {
            "tags": []
          }
        },
        {
          "output_type": "display_data",
          "data": {
            "image/png": "[encoded data removed]",
            "text/plain": [
              "<Figure size 432x288 with 1 Axes>"
            ]
          },
          "metadata": {
            "tags": []
          }
        },
        {
          "output_type": "display_data",
          "data": {
            "image/png": "[encoded data removed]",
            "text/plain": [
              "<Figure size 432x288 with 1 Axes>"
            ]
          },
          "metadata": {
            "tags": []
          }
        },
        {
          "output_type": "display_data",
          "data": {
            "image/png": "[encoded data removed]",
            "text/plain": [
              "<Figure size 432x288 with 1 Axes>"
            ]
          },
          "metadata": {
            "tags": []
          }
        }
      ]
    },
    {
      "cell_type": "markdown",
      "metadata": {
        "id": "KUsZxJ31SNup"
      },
      "source": [
        "1. CreditScore has a slight left tail.It is almost like a normal distribution except that there is one more peak a 850.\r\n",
        "2. Age is right skewed.\r\n",
        "3. People with 0 tenure are least in number.\r\n",
        "4. There are lot of people with 0 balance. We need to check if this is possible value.It has a tail on right.\r\n",
        "5. Most of the people have 1 product followed by 2,3,4.\r\n",
        "Very less no. of people have 4 prodcuts.\r\n",
        "6. More no. of people have creditCard.\r\n",
        "7. There is very slight difference between no. of active and non-active members. Active members are slightly more in number.This should be a concern point why bank have so many non-active members.\r\n",
        "8. There are almost same no. of people in different salary range.\r\n",
        "9. There are more people who have not exited(imbalanced dataset)."
      ]
    },
    {
      "cell_type": "code",
      "metadata": {
        "colab": {
          "base_uri": "https://localhost:8080/",
          "height": 171
        },
        "id": "LPeWccDbBkM8",
        "outputId": "143e2f74-ba37-48f4-f142-46d6b18d0218"
      },
      "source": [
        "pd.crosstab(bankData_copy['Geography'],bankData_copy['Exited'],normalize='index')  "
      ],
      "execution_count": 920,
      "outputs": [
        {
          "output_type": "execute_result",
          "data": {
            "text/html": [
              "<div>\n",
              "<style scoped>\n",
              "    .dataframe tbody tr th:only-of-type {\n",
              "        vertical-align: middle;\n",
              "    }\n",
              "\n",
              "    .dataframe tbody tr th {\n",
              "        vertical-align: top;\n",
              "    }\n",
              "\n",
              "    .dataframe thead th {\n",
              "        text-align: right;\n",
              "    }\n",
              "</style>\n",
              "<table border=\"1\" class=\"dataframe\">\n",
              "  <thead>\n",
              "    <tr style=\"text-align: right;\">\n",
              "      <th>Exited</th>\n",
              "      <th>0</th>\n",
              "      <th>1</th>\n",
              "    </tr>\n",
              "    <tr>\n",
              "      <th>Geography</th>\n",
              "      <th></th>\n",
              "      <th></th>\n",
              "    </tr>\n",
              "  </thead>\n",
              "  <tbody>\n",
              "    <tr>\n",
              "      <th>France</th>\n",
              "      <td>0.838452</td>\n",
              "      <td>0.161548</td>\n",
              "    </tr>\n",
              "    <tr>\n",
              "      <th>Germany</th>\n",
              "      <td>0.675568</td>\n",
              "      <td>0.324432</td>\n",
              "    </tr>\n",
              "    <tr>\n",
              "      <th>Spain</th>\n",
              "      <td>0.833266</td>\n",
              "      <td>0.166734</td>\n",
              "    </tr>\n",
              "  </tbody>\n",
              "</table>\n",
              "</div>"
            ],
            "text/plain": [
              "Exited            0         1\n",
              "Geography                    \n",
              "France     0.838452  0.161548\n",
              "Germany    0.675568  0.324432\n",
              "Spain      0.833266  0.166734"
            ]
          },
          "metadata": {
            "tags": []
          },
          "execution_count": 920
        }
      ]
    },
    {
      "cell_type": "markdown",
      "metadata": {
        "id": "VnXszJlrLOkF"
      },
      "source": [
        "In Germany more people have exited as compared to other places."
      ]
    },
    {
      "cell_type": "code",
      "metadata": {
        "colab": {
          "base_uri": "https://localhost:8080/",
          "height": 141
        },
        "id": "VUo9NN_cJc3q",
        "outputId": "c773e407-38a2-4b9f-fedf-fbaeaa1a1b8f"
      },
      "source": [
        "pd.crosstab(bankData_copy['Gender'],bankData_copy['Exited'],normalize='index')"
      ],
      "execution_count": 921,
      "outputs": [
        {
          "output_type": "execute_result",
          "data": {
            "text/html": [
              "<div>\n",
              "<style scoped>\n",
              "    .dataframe tbody tr th:only-of-type {\n",
              "        vertical-align: middle;\n",
              "    }\n",
              "\n",
              "    .dataframe tbody tr th {\n",
              "        vertical-align: top;\n",
              "    }\n",
              "\n",
              "    .dataframe thead th {\n",
              "        text-align: right;\n",
              "    }\n",
              "</style>\n",
              "<table border=\"1\" class=\"dataframe\">\n",
              "  <thead>\n",
              "    <tr style=\"text-align: right;\">\n",
              "      <th>Exited</th>\n",
              "      <th>0</th>\n",
              "      <th>1</th>\n",
              "    </tr>\n",
              "    <tr>\n",
              "      <th>Gender</th>\n",
              "      <th></th>\n",
              "      <th></th>\n",
              "    </tr>\n",
              "  </thead>\n",
              "  <tbody>\n",
              "    <tr>\n",
              "      <th>Female</th>\n",
              "      <td>0.749285</td>\n",
              "      <td>0.250715</td>\n",
              "    </tr>\n",
              "    <tr>\n",
              "      <th>Male</th>\n",
              "      <td>0.835441</td>\n",
              "      <td>0.164559</td>\n",
              "    </tr>\n",
              "  </tbody>\n",
              "</table>\n",
              "</div>"
            ],
            "text/plain": [
              "Exited         0         1\n",
              "Gender                    \n",
              "Female  0.749285  0.250715\n",
              "Male    0.835441  0.164559"
            ]
          },
          "metadata": {
            "tags": []
          },
          "execution_count": 921
        }
      ]
    },
    {
      "cell_type": "markdown",
      "metadata": {
        "id": "nR2BrKL8LoKk"
      },
      "source": [
        "More females have exited as compared to male."
      ]
    },
    {
      "cell_type": "code",
      "metadata": {
        "colab": {
          "base_uri": "https://localhost:8080/",
          "height": 141
        },
        "id": "Q0QLDAF2LzoA",
        "outputId": "68b4308c-5065-45a9-b58d-78a3bf6e9ee1"
      },
      "source": [
        "pd.crosstab(bankData_copy['HasCrCard'],bankData_copy['Exited'],normalize='index')"
      ],
      "execution_count": 922,
      "outputs": [
        {
          "output_type": "execute_result",
          "data": {
            "text/html": [
              "<div>\n",
              "<style scoped>\n",
              "    .dataframe tbody tr th:only-of-type {\n",
              "        vertical-align: middle;\n",
              "    }\n",
              "\n",
              "    .dataframe tbody tr th {\n",
              "        vertical-align: top;\n",
              "    }\n",
              "\n",
              "    .dataframe thead th {\n",
              "        text-align: right;\n",
              "    }\n",
              "</style>\n",
              "<table border=\"1\" class=\"dataframe\">\n",
              "  <thead>\n",
              "    <tr style=\"text-align: right;\">\n",
              "      <th>Exited</th>\n",
              "      <th>0</th>\n",
              "      <th>1</th>\n",
              "    </tr>\n",
              "    <tr>\n",
              "      <th>HasCrCard</th>\n",
              "      <th></th>\n",
              "      <th></th>\n",
              "    </tr>\n",
              "  </thead>\n",
              "  <tbody>\n",
              "    <tr>\n",
              "      <th>0</th>\n",
              "      <td>0.791851</td>\n",
              "      <td>0.208149</td>\n",
              "    </tr>\n",
              "    <tr>\n",
              "      <th>1</th>\n",
              "      <td>0.798157</td>\n",
              "      <td>0.201843</td>\n",
              "    </tr>\n",
              "  </tbody>\n",
              "</table>\n",
              "</div>"
            ],
            "text/plain": [
              "Exited            0         1\n",
              "HasCrCard                    \n",
              "0          0.791851  0.208149\n",
              "1          0.798157  0.201843"
            ]
          },
          "metadata": {
            "tags": []
          },
          "execution_count": 922
        }
      ]
    },
    {
      "cell_type": "markdown",
      "metadata": {
        "id": "gATKd8MHNAg9"
      },
      "source": [
        "HasCrCard doesn't seems to be much related to Exited."
      ]
    },
    {
      "cell_type": "code",
      "metadata": {
        "colab": {
          "base_uri": "https://localhost:8080/",
          "height": 141
        },
        "id": "dmLJ3cHQL0X2",
        "outputId": "a8779f74-4b47-4f84-d93e-92ab1e779c4c"
      },
      "source": [
        "pd.crosstab(bankData_copy['IsActiveMember'],bankData_copy['Exited'],normalize='index')"
      ],
      "execution_count": 923,
      "outputs": [
        {
          "output_type": "execute_result",
          "data": {
            "text/html": [
              "<div>\n",
              "<style scoped>\n",
              "    .dataframe tbody tr th:only-of-type {\n",
              "        vertical-align: middle;\n",
              "    }\n",
              "\n",
              "    .dataframe tbody tr th {\n",
              "        vertical-align: top;\n",
              "    }\n",
              "\n",
              "    .dataframe thead th {\n",
              "        text-align: right;\n",
              "    }\n",
              "</style>\n",
              "<table border=\"1\" class=\"dataframe\">\n",
              "  <thead>\n",
              "    <tr style=\"text-align: right;\">\n",
              "      <th>Exited</th>\n",
              "      <th>0</th>\n",
              "      <th>1</th>\n",
              "    </tr>\n",
              "    <tr>\n",
              "      <th>IsActiveMember</th>\n",
              "      <th></th>\n",
              "      <th></th>\n",
              "    </tr>\n",
              "  </thead>\n",
              "  <tbody>\n",
              "    <tr>\n",
              "      <th>0</th>\n",
              "      <td>0.731491</td>\n",
              "      <td>0.268509</td>\n",
              "    </tr>\n",
              "    <tr>\n",
              "      <th>1</th>\n",
              "      <td>0.857309</td>\n",
              "      <td>0.142691</td>\n",
              "    </tr>\n",
              "  </tbody>\n",
              "</table>\n",
              "</div>"
            ],
            "text/plain": [
              "Exited                 0         1\n",
              "IsActiveMember                    \n",
              "0               0.731491  0.268509\n",
              "1               0.857309  0.142691"
            ]
          },
          "metadata": {
            "tags": []
          },
          "execution_count": 923
        }
      ]
    },
    {
      "cell_type": "markdown",
      "metadata": {
        "id": "Al6v3lCKOi_4"
      },
      "source": [
        "Non-active members exited more than active members."
      ]
    },
    {
      "cell_type": "code",
      "metadata": {
        "colab": {
          "base_uri": "https://localhost:8080/",
          "height": 1000
        },
        "id": "rfGLcj7JWDTj",
        "outputId": "8160e327-fab5-4d21-95f1-359b20bac51f"
      },
      "source": [
        "columns = ['CreditScore','Age','Tenure','Balance','EstimatedSalary','NumOfProducts']\r\n",
        "for i in columns:\r\n",
        "  plt.figure(figsize=(10,6))\r\n",
        "  sns.boxplot(x='Exited',y=i,hue='Exited',data=bankData_copy);\r\n",
        "  plt.show()"
      ],
      "execution_count": 924,
      "outputs": [
        {
          "output_type": "display_data",
          "data": {
            "image/png": "[encoded data removed]",
            "text/plain": [
              "<Figure size 720x432 with 1 Axes>"
            ]
          },
          "metadata": {
            "tags": []
          }
        },
        {
          "output_type": "display_data",
          "data": {
            "image/png": "[encoded data removed]",
            "text/plain": [
              "<Figure size 720x432 with 1 Axes>"
            ]
          },
          "metadata": {
            "tags": []
          }
        },
        {
          "output_type": "display_data",
          "data": {
            "image/png": "[encoded data removed]",
            "text/plain": [
              "<Figure size 720x432 with 1 Axes>"
            ]
          },
          "metadata": {
            "tags": []
          }
        },
        {
          "output_type": "display_data",
          "data": {
            "image/png": "[encoded data removed]",
            "text/plain": [
              "<Figure size 720x432 with 1 Axes>"
            ]
          },
          "metadata": {
            "tags": []
          }
        },
        {
          "output_type": "display_data",
          "data": {
            "image/png": "[encoded data removed]",
            "text/plain": [
              "<Figure size 720x432 with 1 Axes>"
            ]
          },
          "metadata": {
            "tags": []
          }
        },
        {
          "output_type": "display_data",
          "data": {
            "image/png": "[encoded data removed]",
            "text/plain": [
              "<Figure size 720x432 with 1 Axes>"
            ]
          },
          "metadata": {
            "tags": []
          }
        }
      ]
    },
    {
      "cell_type": "markdown",
      "metadata": {
        "id": "FvhyTdQ7gsGi"
      },
      "source": [
        "1. People with 300-400 creditScore have churned.For rest credit score it shows same as not churned people.\r\n",
        "2. More older people are exiting as compared younger ones.\r\n",
        "3. People with extreme tenure values(on lower end or upper end) are churning more.\r\n",
        "4. People with more balance have exited the bank which is a concern point.\r\n",
        "5. Salary doen't seems to effect churning.\r\n",
        "6. People with 4 NumOfProducts have churned."
      ]
    },
    {
      "cell_type": "code",
      "metadata": {
        "id": "eqAzowWVasvn"
      },
      "source": [
        "bankData_copy.drop(['EstimatedSalary'],axis=1,inplace=True)"
      ],
      "execution_count": 925,
      "outputs": []
    },
    {
      "cell_type": "markdown",
      "metadata": {
        "id": "zc2UlBpmZ1R5"
      },
      "source": [
        "**Dependent ,Indenpendent variables**"
      ]
    },
    {
      "cell_type": "code",
      "metadata": {
        "id": "57vV9Fe9Y60j"
      },
      "source": [
        "X = bankData_copy.drop('Exited',axis=1)\r\n",
        "y = bankData_copy['Exited']"
      ],
      "execution_count": 926,
      "outputs": []
    },
    {
      "cell_type": "code",
      "metadata": {
        "id": "E3rxVltfdeeY"
      },
      "source": [
        "X = pd.get_dummies(X)\r\n",
        "X = X.astype('float32')"
      ],
      "execution_count": 927,
      "outputs": []
    },
    {
      "cell_type": "markdown",
      "metadata": {
        "id": "DapyxiZyqGiZ"
      },
      "source": [
        "**Split the data into train/test sets**"
      ]
    },
    {
      "cell_type": "code",
      "metadata": {
        "id": "VciXLhgLaO3c"
      },
      "source": [
        "from sklearn.model_selection import train_test_split\r\n",
        "X_train,X_test,y_train,y_test = train_test_split(X,y,test_size=0.3,random_state=7)\r\n",
        "X_train,X_val,y_train,y_val = train_test_split(X_train,y_train,test_size=0.2,random_state=7)# splitted it into train/test/validation sets"
      ],
      "execution_count": 928,
      "outputs": []
    },
    {
      "cell_type": "markdown",
      "metadata": {
        "id": "gqmlJclTp5at"
      },
      "source": [
        "**Normalize train/test sets**"
      ]
    },
    {
      "cell_type": "code",
      "metadata": {
        "colab": {
          "base_uri": "https://localhost:8080/"
        },
        "id": "phnE_ByDfBUX",
        "outputId": "cf99f7cb-f2a3-4684-a6d8-0480af68d4a7"
      },
      "source": [
        "from sklearn.preprocessing import StandardScaler\r\n",
        "scaler = StandardScaler()\r\n",
        "X_train = scaler.fit_transform(X_train)\r\n",
        "X_val = scaler.transform(X_val)\r\n",
        "X_test = scaler.transform(X_test)\r\n",
        "X_train"
      ],
      "execution_count": 929,
      "outputs": [
        {
          "output_type": "execute_result",
          "data": {
            "text/plain": [
              "array([[ 0.76340145, -0.17813651,  0.33193696, ..., -0.5789999 ,\n",
              "        -0.9163431 ,  0.9163431 ],\n",
              "       [ 0.19301201, -1.7946265 , -0.35499835, ...,  1.7271162 ,\n",
              "         1.0912943 , -1.0912943 ],\n",
              "       [-0.6573868 ,  0.96291524,  0.33193696, ..., -0.5789999 ,\n",
              "        -0.9163431 ,  0.9163431 ],\n",
              "       ...,\n",
              "       [ 1.3856444 ,  0.77273995,  1.3623399 , ..., -0.5789999 ,\n",
              "         1.0912943 , -1.0912943 ],\n",
              "       [ 1.4374981 , -0.7486624 , -1.0419337 , ..., -0.5789999 ,\n",
              "         1.0912943 , -1.0912943 ],\n",
              "       [ 0.4730214 , -0.84375006, -1.3854012 , ...,  1.7271162 ,\n",
              "        -0.9163431 ,  0.9163431 ]], dtype=float32)"
            ]
          },
          "metadata": {
            "tags": []
          },
          "execution_count": 929
        }
      ]
    },
    {
      "cell_type": "code",
      "metadata": {
        "id": "eEfE9nr8gOpU"
      },
      "source": [
        "X_train=tf.convert_to_tensor(X_train)\r\n",
        "y_train=tf.convert_to_tensor(y_train.values)\r\n",
        "X_val=tf.convert_to_tensor(X_val)\r\n",
        "y_val=tf.convert_to_tensor(y_val.values)\r\n",
        "X_test=tf.convert_to_tensor(X_test)\r\n",
        "y_test=tf.convert_to_tensor(y_test.values)"
      ],
      "execution_count": 930,
      "outputs": []
    },
    {
      "cell_type": "code",
      "metadata": {
        "colab": {
          "base_uri": "https://localhost:8080/"
        },
        "id": "QJRkd_1piP-Z",
        "outputId": "40412564-2130-4f48-b7b7-71ee19166adc"
      },
      "source": [
        "X_train.shape"
      ],
      "execution_count": 931,
      "outputs": [
        {
          "output_type": "execute_result",
          "data": {
            "text/plain": [
              "TensorShape([5600, 12])"
            ]
          },
          "metadata": {
            "tags": []
          },
          "execution_count": 931
        }
      ]
    },
    {
      "cell_type": "code",
      "metadata": {
        "id": "UmMEid0EeWBm"
      },
      "source": [
        "from tensorflow.keras.models import Sequential\r\n",
        "from tensorflow.keras.layers import Dense,BatchNormalization"
      ],
      "execution_count": 932,
      "outputs": []
    },
    {
      "cell_type": "markdown",
      "metadata": {
        "id": "xligeUxukA8f"
      },
      "source": [
        "**Initialize the model**"
      ]
    },
    {
      "cell_type": "code",
      "metadata": {
        "id": "MA0gG3KShb0-"
      },
      "source": [
        "model = Sequential()\r\n",
        "model.add(Dense(12,activation='relu',input_shape=[X_train.shape[1]]))\r\n",
        "model.add(Dense(1,activation='sigmoid'))"
      ],
      "execution_count": 933,
      "outputs": []
    },
    {
      "cell_type": "markdown",
      "metadata": {
        "id": "qECp5qQ4kO2m"
      },
      "source": [
        "**Build the model**"
      ]
    },
    {
      "cell_type": "code",
      "metadata": {
        "id": "DJlyEouQkNuO"
      },
      "source": [
        "opt = tf.keras.optimizers.Adam(learning_rate=0.01)\r\n",
        "#opt = tf.keras.optimizers.SGD(lr=0.001)\r\n",
        "#opt = tf.keras.optimizers.RMSprop(learning_rate=0.1)\r\n",
        "model.compile(loss='binary_crossentropy', optimizer=opt,metrics=['accuracy'])"
      ],
      "execution_count": 934,
      "outputs": []
    },
    {
      "cell_type": "code",
      "metadata": {
        "colab": {
          "base_uri": "https://localhost:8080/"
        },
        "id": "6B0AbLrXlojQ",
        "outputId": "6e1da434-a8bd-4ae7-d176-3c29e222787d"
      },
      "source": [
        "model.fit(X_train,y_train,epochs=10,validation_data=(X_val,y_val),batch_size=256)"
      ],
      "execution_count": 935,
      "outputs": [
        {
          "output_type": "stream",
          "text": [
            "Epoch 1/10\n",
            "22/22 [==============================] - 1s 10ms/step - loss: 0.5563 - accuracy: 0.7288 - val_loss: 0.4604 - val_accuracy: 0.8000\n",
            "Epoch 2/10\n",
            "22/22 [==============================] - 0s 3ms/step - loss: 0.4221 - accuracy: 0.8169 - val_loss: 0.4362 - val_accuracy: 0.8057\n",
            "Epoch 3/10\n",
            "22/22 [==============================] - 0s 3ms/step - loss: 0.4068 - accuracy: 0.8327 - val_loss: 0.4194 - val_accuracy: 0.8179\n",
            "Epoch 4/10\n",
            "22/22 [==============================] - 0s 3ms/step - loss: 0.3960 - accuracy: 0.8428 - val_loss: 0.4069 - val_accuracy: 0.8307\n",
            "Epoch 5/10\n",
            "22/22 [==============================] - 0s 3ms/step - loss: 0.3872 - accuracy: 0.8481 - val_loss: 0.3942 - val_accuracy: 0.8329\n",
            "Epoch 6/10\n",
            "22/22 [==============================] - 0s 3ms/step - loss: 0.3626 - accuracy: 0.8559 - val_loss: 0.3850 - val_accuracy: 0.8364\n",
            "Epoch 7/10\n",
            "22/22 [==============================] - 0s 3ms/step - loss: 0.3578 - accuracy: 0.8623 - val_loss: 0.3775 - val_accuracy: 0.8479\n",
            "Epoch 8/10\n",
            "22/22 [==============================] - 0s 3ms/step - loss: 0.3589 - accuracy: 0.8571 - val_loss: 0.3715 - val_accuracy: 0.8457\n",
            "Epoch 9/10\n",
            "22/22 [==============================] - 0s 3ms/step - loss: 0.3460 - accuracy: 0.8609 - val_loss: 0.3691 - val_accuracy: 0.8514\n",
            "Epoch 10/10\n",
            "22/22 [==============================] - 0s 3ms/step - loss: 0.3531 - accuracy: 0.8567 - val_loss: 0.3677 - val_accuracy: 0.8464\n"
          ],
          "name": "stdout"
        },
        {
          "output_type": "execute_result",
          "data": {
            "text/plain": [
              "<tensorflow.python.keras.callbacks.History at 0x7fcfff2c95f8>"
            ]
          },
          "metadata": {
            "tags": []
          },
          "execution_count": 935
        }
      ]
    },
    {
      "cell_type": "markdown",
      "metadata": {
        "id": "GHVcmWatoq9c"
      },
      "source": [
        "**Tried out with different iterations:-**\r\n",
        "1. With SGD optimizer,epochs = 50,val_accuracy = 80.73\r\n",
        "2. With Adam ,epochs = 10 ,val_accuracy = 85.6\r\n",
        "3. With RMSprop,epochs =10, val_accuracy = 85.8\r\n",
        "4. With RMSprop,epochs = 20,val_accuracy = 82.2 which is less than training accuracy = 84.5 which means overfitting.\r\n",
        "5. With RMSprop,epochs =10, val_accuracy = 86.1 with no. of neurons increased from 9 to 12."
      ]
    },
    {
      "cell_type": "code",
      "metadata": {
        "id": "-Bwowf6Yl4Ck"
      },
      "source": [
        "y_pred = model.predict(X_test)"
      ],
      "execution_count": 936,
      "outputs": []
    },
    {
      "cell_type": "code",
      "metadata": {
        "colab": {
          "base_uri": "https://localhost:8080/"
        },
        "id": "tiHjcYgqqut6",
        "outputId": "af6e3742-61bd-4384-a4ca-c8cb7970ef8d"
      },
      "source": [
        "y_pred"
      ],
      "execution_count": 937,
      "outputs": [
        {
          "output_type": "execute_result",
          "data": {
            "text/plain": [
              "array([[0.30312085],\n",
              "       [0.06687787],\n",
              "       [0.01721835],\n",
              "       ...,\n",
              "       [0.00599086],\n",
              "       [0.01617184],\n",
              "       [0.22807783]], dtype=float32)"
            ]
          },
          "metadata": {
            "tags": []
          },
          "execution_count": 937
        }
      ]
    },
    {
      "cell_type": "markdown",
      "metadata": {
        "id": "cenvTSs8pk99"
      },
      "source": [
        "**Predict the results using 0.5 as threshold**"
      ]
    },
    {
      "cell_type": "code",
      "metadata": {
        "colab": {
          "base_uri": "https://localhost:8080/"
        },
        "id": "ONhxsawvqvcf",
        "outputId": "97d13d60-9fe2-4498-dd7b-8b495d1cdc50"
      },
      "source": [
        "y_pred[y_pred > 0.5] = 1\r\n",
        "y_pred[y_pred <= 0.5] = 0\r\n",
        "y_pred"
      ],
      "execution_count": 938,
      "outputs": [
        {
          "output_type": "execute_result",
          "data": {
            "text/plain": [
              "array([[0.],\n",
              "       [0.],\n",
              "       [0.],\n",
              "       ...,\n",
              "       [0.],\n",
              "       [0.],\n",
              "       [0.]], dtype=float32)"
            ]
          },
          "metadata": {
            "tags": []
          },
          "execution_count": 938
        }
      ]
    },
    {
      "cell_type": "code",
      "metadata": {
        "colab": {
          "base_uri": "https://localhost:8080/"
        },
        "id": "mB-zxORztwAa",
        "outputId": "56d4ba15-946e-43f1-a86f-de8fd179726b"
      },
      "source": [
        "y_test"
      ],
      "execution_count": 939,
      "outputs": [
        {
          "output_type": "execute_result",
          "data": {
            "text/plain": [
              "<tf.Tensor: shape=(3000,), dtype=int64, numpy=array([1, 0, 0, ..., 0, 0, 0])>"
            ]
          },
          "metadata": {
            "tags": []
          },
          "execution_count": 939
        }
      ]
    },
    {
      "cell_type": "markdown",
      "metadata": {
        "id": "LP-HZWQjpZNS"
      },
      "source": [
        "**Accuracy and confusion matrix**"
      ]
    },
    {
      "cell_type": "code",
      "metadata": {
        "id": "4Y6cq20_twb-"
      },
      "source": [
        "from sklearn.metrics import confusion_matrix\r\n",
        "from sklearn.metrics import classification_report"
      ],
      "execution_count": 940,
      "outputs": []
    },
    {
      "cell_type": "code",
      "metadata": {
        "colab": {
          "base_uri": "https://localhost:8080/"
        },
        "id": "YbMB645IohJa",
        "outputId": "85fbb61d-51e6-40fa-84bf-954d7230761f"
      },
      "source": [
        "print(classification_report(y_test,y_pred))"
      ],
      "execution_count": 941,
      "outputs": [
        {
          "output_type": "stream",
          "text": [
            "              precision    recall  f1-score   support\n",
            "\n",
            "           0       0.87      0.97      0.92      2395\n",
            "           1       0.76      0.43      0.55       605\n",
            "\n",
            "    accuracy                           0.86      3000\n",
            "   macro avg       0.81      0.70      0.73      3000\n",
            "weighted avg       0.85      0.86      0.84      3000\n",
            "\n"
          ],
          "name": "stdout"
        }
      ]
    },
    {
      "cell_type": "markdown",
      "metadata": {
        "id": "IRE_HU3Co4GE"
      },
      "source": [
        "Overall accuracy is 86% but recall is very low 43% for class 1.This should be improved."
      ]
    },
    {
      "cell_type": "code",
      "metadata": {
        "colab": {
          "base_uri": "https://localhost:8080/",
          "height": 303
        },
        "id": "7e8z4ZOWnMbU",
        "outputId": "8e325f37-a5f9-40ad-a23c-993f318d0228"
      },
      "source": [
        "conf_mat = confusion_matrix(y_test,y_pred)\r\n",
        "confMatDf = pd.DataFrame(conf_mat,index=['Not Exited','Exited'],columns=['Not Exited','Exited'])\r\n",
        "sns.heatmap(confMatDf,annot=True,fmt='.2f');\r\n",
        "plt.ylabel('True label')\r\n",
        "plt.xlabel('Predicted label')"
      ],
      "execution_count": 942,
      "outputs": [
        {
          "output_type": "execute_result",
          "data": {
            "text/plain": [
              "Text(0.5, 12.5, 'Predicted label')"
            ]
          },
          "metadata": {
            "tags": []
          },
          "execution_count": 942
        },
        {
          "output_type": "display_data",
          "data": {
            "image/png": "[encoded data removed]",
            "text/plain": [
              "<Figure size 432x288 with 2 Axes>"
            ]
          },
          "metadata": {
            "tags": []
          }
        }
      ]
    },
    {
      "cell_type": "markdown",
      "metadata": {
        "id": "msG44khSnarD"
      },
      "source": [
        "We have correctly identified 259 customers who have churned.But since the churning customer have high bank balance,losing such customer will be a loss to bank.So we should improve recall to identify them and let's say talk to them,give them some offers or services which can change their mind of exiting the bank. In trying to increase recall,we will definitely increase false positive(identify people who have not churned as churned) but people who are not going to churn will also like if they are being talked or given offers and services.So the aim is to improve recall."
      ]
    },
    {
      "cell_type": "markdown",
      "metadata": {
        "id": "3lYTI21vkvoG"
      },
      "source": [
        "Let's try to improve recall."
      ]
    },
    {
      "cell_type": "code",
      "metadata": {
        "id": "krhAzOA2k4iK"
      },
      "source": [
        "X_train,X_test,y_train,y_test = train_test_split(X,y,test_size=0.3,random_state=1)\r\n",
        "X_train,X_val,y_train,y_val = train_test_split(X_train,y_train,test_size=0.3,random_state=1)"
      ],
      "execution_count": 943,
      "outputs": []
    },
    {
      "cell_type": "code",
      "metadata": {
        "colab": {
          "base_uri": "https://localhost:8080/"
        },
        "id": "fxBG9oxDlKwo",
        "outputId": "1605cc35-48bb-4e15-86bd-ef44ff71c261"
      },
      "source": [
        "counts = y_train.value_counts()\r\n",
        "weight_for_0 = 1.0 / counts[0]\r\n",
        "weight_for_1 = 1.0 / counts[1]\r\n",
        "print(weight_for_0)\r\n",
        "print(weight_for_1)"
      ],
      "execution_count": 944,
      "outputs": [
        {
          "output_type": "stream",
          "text": [
            "0.00025693730729701953\n",
            "0.000992063492063492\n"
          ],
          "name": "stdout"
        }
      ]
    },
    {
      "cell_type": "code",
      "metadata": {
        "id": "Y6NBeA0hlDig"
      },
      "source": [
        "X_train=tf.convert_to_tensor(X_train)\r\n",
        "y_train=tf.convert_to_tensor(y_train.values)\r\n",
        "X_val=tf.convert_to_tensor(X_val)\r\n",
        "y_val=tf.convert_to_tensor(y_val.values)\r\n",
        "X_test=tf.convert_to_tensor(X_test)\r\n",
        "y_test=tf.convert_to_tensor(y_test.values)"
      ],
      "execution_count": 945,
      "outputs": []
    },
    {
      "cell_type": "markdown",
      "metadata": {
        "id": "kAurJVLGlRYM"
      },
      "source": [
        "Using BatchNormalization for scaling instead of using StandardScaler."
      ]
    },
    {
      "cell_type": "code",
      "metadata": {
        "id": "8o7h5JsxlKz2"
      },
      "source": [
        "model1 = Sequential()\r\n",
        "model1.add(BatchNormalization(input_shape=[X_train.shape[1]]))\r\n",
        "model1.add(Dense(12,activation='relu'))\r\n",
        "model1.add(BatchNormalization())\r\n",
        "model1.add(Dense(1,activation='sigmoid'))"
      ],
      "execution_count": 946,
      "outputs": []
    },
    {
      "cell_type": "code",
      "metadata": {
        "id": "5KgYCNSFljoF"
      },
      "source": [
        "opt = tf.keras.optimizers.Adam(learning_rate=0.01)\r\n",
        "#opt = tf.keras.optimizers.SGD(lr=0.001)\r\n",
        "#opt = tf.keras.optimizers.RMSprop(learning_rate=0.01)\r\n",
        "class_weight = {0: weight_for_0, 1: weight_for_1}\r\n",
        "model1.compile(loss='binary_crossentropy', optimizer=opt,metrics=['accuracy'])"
      ],
      "execution_count": 947,
      "outputs": []
    },
    {
      "cell_type": "code",
      "metadata": {
        "colab": {
          "base_uri": "https://localhost:8080/"
        },
        "id": "l5pG9rV8lsGS",
        "outputId": "5c84046c-d770-4a01-801e-7161f738a20f"
      },
      "source": [
        "model1.fit(X_train,y_train,epochs=10,validation_data=(X_val,y_val),batch_size=256,class_weight=class_weight)"
      ],
      "execution_count": 948,
      "outputs": [
        {
          "output_type": "stream",
          "text": [
            "Epoch 1/10\n",
            "20/20 [==============================] - 1s 12ms/step - loss: 3.1135e-04 - accuracy: 0.4983 - val_loss: 0.4975 - val_accuracy: 0.8086\n",
            "Epoch 2/10\n",
            "20/20 [==============================] - 0s 4ms/step - loss: 2.4941e-04 - accuracy: 0.6598 - val_loss: 0.4917 - val_accuracy: 0.8076\n",
            "Epoch 3/10\n",
            "20/20 [==============================] - 0s 4ms/step - loss: 2.3385e-04 - accuracy: 0.7006 - val_loss: 0.5639 - val_accuracy: 0.7876\n",
            "Epoch 4/10\n",
            "20/20 [==============================] - 0s 4ms/step - loss: 2.1219e-04 - accuracy: 0.7351 - val_loss: 0.5334 - val_accuracy: 0.7943\n",
            "Epoch 5/10\n",
            "20/20 [==============================] - 0s 4ms/step - loss: 2.0713e-04 - accuracy: 0.7622 - val_loss: 0.4994 - val_accuracy: 0.7938\n",
            "Epoch 6/10\n",
            "20/20 [==============================] - 0s 4ms/step - loss: 1.9745e-04 - accuracy: 0.7674 - val_loss: 0.5076 - val_accuracy: 0.7790\n",
            "Epoch 7/10\n",
            "20/20 [==============================] - 0s 3ms/step - loss: 1.9684e-04 - accuracy: 0.7736 - val_loss: 0.5100 - val_accuracy: 0.7724\n",
            "Epoch 8/10\n",
            "20/20 [==============================] - 0s 3ms/step - loss: 1.9308e-04 - accuracy: 0.7640 - val_loss: 0.4751 - val_accuracy: 0.7848\n",
            "Epoch 9/10\n",
            "20/20 [==============================] - 0s 4ms/step - loss: 1.9465e-04 - accuracy: 0.7859 - val_loss: 0.4765 - val_accuracy: 0.7843\n",
            "Epoch 10/10\n",
            "20/20 [==============================] - 0s 4ms/step - loss: 1.8705e-04 - accuracy: 0.7810 - val_loss: 0.4840 - val_accuracy: 0.7733\n"
          ],
          "name": "stdout"
        },
        {
          "output_type": "execute_result",
          "data": {
            "text/plain": [
              "<tensorflow.python.keras.callbacks.History at 0x7fcffc877748>"
            ]
          },
          "metadata": {
            "tags": []
          },
          "execution_count": 948
        }
      ]
    },
    {
      "cell_type": "code",
      "metadata": {
        "colab": {
          "base_uri": "https://localhost:8080/"
        },
        "id": "FAs8mPFNl16O",
        "outputId": "f9fcebad-1678-491c-9b7f-8a11d8c4e6b4"
      },
      "source": [
        "y_pred = model1.predict(X_test)\r\n",
        "y_pred"
      ],
      "execution_count": 949,
      "outputs": [
        {
          "output_type": "execute_result",
          "data": {
            "text/plain": [
              "array([[0.19491583],\n",
              "       [0.29448766],\n",
              "       [0.48837644],\n",
              "       ...,\n",
              "       [0.08642244],\n",
              "       [0.1789957 ],\n",
              "       [0.61442894]], dtype=float32)"
            ]
          },
          "metadata": {
            "tags": []
          },
          "execution_count": 949
        }
      ]
    },
    {
      "cell_type": "code",
      "metadata": {
        "colab": {
          "base_uri": "https://localhost:8080/"
        },
        "id": "-ResDSWOl95x",
        "outputId": "0c0f5ac7-1601-46b3-93b2-2dd0c2884934"
      },
      "source": [
        "y_pred[y_pred > 0.5] = 1\r\n",
        "y_pred[y_pred <= 0.5] = 0\r\n",
        "y_pred"
      ],
      "execution_count": 950,
      "outputs": [
        {
          "output_type": "execute_result",
          "data": {
            "text/plain": [
              "array([[0.],\n",
              "       [0.],\n",
              "       [0.],\n",
              "       ...,\n",
              "       [0.],\n",
              "       [0.],\n",
              "       [1.]], dtype=float32)"
            ]
          },
          "metadata": {
            "tags": []
          },
          "execution_count": 950
        }
      ]
    },
    {
      "cell_type": "code",
      "metadata": {
        "colab": {
          "base_uri": "https://localhost:8080/"
        },
        "id": "pDbiVHRKmANG",
        "outputId": "9bbea33b-21ca-412d-d8a8-18037aa110d3"
      },
      "source": [
        "print(classification_report(y_test,y_pred))"
      ],
      "execution_count": 951,
      "outputs": [
        {
          "output_type": "stream",
          "text": [
            "              precision    recall  f1-score   support\n",
            "\n",
            "           0       0.92      0.77      0.84      2373\n",
            "           1       0.47      0.75      0.57       627\n",
            "\n",
            "    accuracy                           0.77      3000\n",
            "   macro avg       0.69      0.76      0.71      3000\n",
            "weighted avg       0.83      0.77      0.79      3000\n",
            "\n"
          ],
          "name": "stdout"
        }
      ]
    },
    {
      "cell_type": "code",
      "metadata": {
        "colab": {
          "base_uri": "https://localhost:8080/",
          "height": 303
        },
        "id": "GNrh3P5EmFiQ",
        "outputId": "9adfd372-e994-472b-ad67-6dc351e80d1b"
      },
      "source": [
        "conf_mat1 = confusion_matrix(y_test,y_pred)\r\n",
        "confMatDf1 = pd.DataFrame(conf_mat1,index=['Not Exited','Exited'],columns=['Not Exited','Exited'])\r\n",
        "sns.heatmap(confMatDf1,annot=True,fmt='.2f');\r\n",
        "plt.ylabel('True label')\r\n",
        "plt.xlabel('Predicted label')"
      ],
      "execution_count": 952,
      "outputs": [
        {
          "output_type": "execute_result",
          "data": {
            "text/plain": [
              "Text(0.5, 12.5, 'Predicted label')"
            ]
          },
          "metadata": {
            "tags": []
          },
          "execution_count": 952
        },
        {
          "output_type": "display_data",
          "data": {
            "image/png": "[encoded data removed]",
            "text/plain": [
              "<Figure size 432x288 with 2 Axes>"
            ]
          },
          "metadata": {
            "tags": []
          }
        }
      ]
    },
    {
      "cell_type": "markdown",
      "metadata": {
        "id": "KoFU0V7zo9W6"
      },
      "source": [
        "With this model, we have increase recall to 75% which is better than 1st model.Overall accuracy has decreased to 77% but since recall is more important than overall accuracy in this case, we can consider this model.We can also try to improve recall further."
      ]
    },
    {
      "cell_type": "code",
      "metadata": {
        "id": "ebSF0EVZpiH3"
      },
      "source": [
        ""
      ],
      "execution_count": 952,
      "outputs": []
    }
  ]
}